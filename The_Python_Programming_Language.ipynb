{
  "nbformat": 4,
  "nbformat_minor": 0,
  "metadata": {
    "colab": {
      "name": "The Python Programming Language.ipynb",
      "provenance": [],
      "authorship_tag": "ABX9TyODKecfRvek4z+UfExS5YvZ",
      "include_colab_link": true
    },
    "kernelspec": {
      "name": "python3",
      "display_name": "Python 3"
    }
  },
  "cells": [
    {
      "cell_type": "markdown",
      "metadata": {
        "id": "view-in-github",
        "colab_type": "text"
      },
      "source": [
        "<a href=\"https://colab.research.google.com/github/bmnds/uea-data-science-02-python-programming/blob/master/The_Python_Programming_Language.ipynb\" target=\"_parent\"><img src=\"https://colab.research.google.com/assets/colab-badge.svg\" alt=\"Open In Colab\"/></a>"
      ]
    },
    {
      "cell_type": "markdown",
      "metadata": {
        "id": "RZvpUk9rcjE7"
      },
      "source": [
        "# Atalhos\n",
        "* `Ctrl + Enter` executa a célula\n",
        "* `Ctrl + M B` inclui uma célula de código\n",
        "* `Ctrl + M J` move a célula para cima\n",
        "* `Ctrl + M K` move a célula para baixo"
      ]
    },
    {
      "cell_type": "code",
      "metadata": {
        "id": "cZ-GL4zLcea2",
        "outputId": "df5a4d93-eb04-4cff-af6b-7aeee2b8ee0f",
        "colab": {
          "base_uri": "https://localhost:8080/",
          "height": 34
        }
      },
      "source": [
        "4+6"
      ],
      "execution_count": 1,
      "outputs": [
        {
          "output_type": "execute_result",
          "data": {
            "text/plain": [
              "10"
            ]
          },
          "metadata": {
            "tags": []
          },
          "execution_count": 1
        }
      ]
    }
  ]
}