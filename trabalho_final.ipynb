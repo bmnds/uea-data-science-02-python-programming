{
  "nbformat": 4,
  "nbformat_minor": 0,
  "metadata": {
    "colab": {
      "name": "trabalho_final.ipynb",
      "provenance": [],
      "collapsed_sections": [],
      "include_colab_link": true
    },
    "kernelspec": {
      "name": "python3",
      "display_name": "Python 3"
    }
  },
  "cells": [
    {
      "cell_type": "markdown",
      "metadata": {
        "id": "view-in-github",
        "colab_type": "text"
      },
      "source": [
        "<a href=\"https://colab.research.google.com/github/bmnds/uea-data-science-02-python-programming/blob/master/trabalho_final.ipynb\" target=\"_parent\"><img src=\"https://colab.research.google.com/assets/colab-badge.svg\" alt=\"Open In Colab\"/></a>"
      ]
    },
    {
      "cell_type": "markdown",
      "metadata": {
        "id": "Fw2R7uGSM_px"
      },
      "source": [
        "# Trabalho Final da Disciplina de Programação para Ciência de Dados do Curso de Pós-Graduação em Ciência de Dados da UEA-AM\n",
        "Dupla: Alberto e Bruno\n",
        "\n",
        "## Objetivo\n",
        "Auxiliar no monitoramento da saúde pública brasileira, a partir da análise de questionamentos lançados por brasileiros na plataforma Twitter. Minimamente, o trabalho fornecerá uma visão geral sobre o _dataset_ de _tweets_ coletados durante o período da pandemia, bem como os principais temas discutidos, sob a ótica temporal e espacial.\n",
        "\n",
        "## Estrutura de tópicos do Trabalho\n",
        "O trabalho foi organizado seguindo a ordem de especificação do trabalho fornecida pelo professor da disciplina.\n",
        "\n",
        "### 1. Visão Geral\n",
        "* [X] Importar todos os **tweets** e descrevê-los\n",
        "* [X] Extrair somente as **dúvidas** relacionadas ao COVID-19\n",
        "\n",
        "#### 2. Temas Discutidos\n",
        "Analisar as dúvidas, sobre:\n",
        "* [ ] **Doença**\n",
        "* [ ] **Medicamentos**\n",
        "* [ ] **Organizações**\n",
        "* [ ] **Pessoas**\n",
        "\n",
        "#### 3. Visão Temporal\n",
        "* [ ] Definir o intervalo de tempo em dias, semanas ou meses\n",
        "* [ ] Apresentar pelo menos duas análises temporais\n",
        "\n",
        "#### 4. Visão Geográfica\n",
        "* [ ] Definir como classificar geograficamente os dados fornecidos\n",
        "* [ ] Apresentar pelo menos duas análises geográficas\n",
        "\n",
        "## Tecnologias e Bibliotecas empregadas\n",
        "* [x] Google Colaboratory\n",
        "* [x] GitHub\n",
        "* [x] Jupyter Notebook\n",
        "* [X] Pandas\n",
        "* [X] GeoPandas\n",
        "* [ ] NumPy\n",
        "* [X] MatPlotLib\n",
        "* [ ] Seaborn\n",
        "* [ ] Plotly\n"
      ]
    },
    {
      "cell_type": "markdown",
      "metadata": {
        "id": "JnCwx2_XQLVP"
      },
      "source": [
        "#1. Visão Geral"
      ]
    },
    {
      "cell_type": "markdown",
      "metadata": {
        "id": "44D1aVWCQtkD"
      },
      "source": [
        "### Inicialização do Jupyter Notebook"
      ]
    },
    {
      "cell_type": "markdown",
      "metadata": {
        "id": "N6jLZ4m-cpfU"
      },
      "source": [
        "Bibliotecas utilizadas:\n",
        "* Pandas para manipulação do _dataset_\n",
        "* MatplotLib para exibição de gráficos de barra, pizza, etc.\n",
        "* GeoPandas para exibição de dados espaciais"
      ]
    },
    {
      "cell_type": "code",
      "metadata": {
        "id": "8kzthDosQb9y",
        "outputId": "695e774d-36a0-44e1-d9bf-9f71ce190c1c",
        "colab": {
          "base_uri": "https://localhost:8080/",
          "height": 457
        }
      },
      "source": [
        "import pandas as pd\n",
        "import matplotlib\n",
        "!pip install geopandas\n",
        "from shapely.geometry import Point\n",
        "import geopandas as gpd\n",
        "from geopandas import GeoDataFrame"
      ],
      "execution_count": 1,
      "outputs": [
        {
          "output_type": "stream",
          "text": [
            "Collecting geopandas\n",
            "\u001b[?25l  Downloading https://files.pythonhosted.org/packages/f7/a4/e66aafbefcbb717813bf3a355c8c4fc3ed04ea1dd7feb2920f2f4f868921/geopandas-0.8.1-py2.py3-none-any.whl (962kB)\n",
            "\u001b[K     |████████████████████████████████| 972kB 4.3MB/s \n",
            "\u001b[?25hCollecting fiona\n",
            "\u001b[?25l  Downloading https://files.pythonhosted.org/packages/36/8b/e8b2c11bed5373c8e98edb85ce891b09aa1f4210fd451d0fb3696b7695a2/Fiona-1.8.17-cp36-cp36m-manylinux1_x86_64.whl (14.8MB)\n",
            "\u001b[K     |████████████████████████████████| 14.8MB 304kB/s \n",
            "\u001b[?25hRequirement already satisfied: pandas>=0.23.0 in /usr/local/lib/python3.6/dist-packages (from geopandas) (1.1.2)\n",
            "Requirement already satisfied: shapely in /usr/local/lib/python3.6/dist-packages (from geopandas) (1.7.1)\n",
            "Collecting pyproj>=2.2.0\n",
            "\u001b[?25l  Downloading https://files.pythonhosted.org/packages/e5/c3/071e080230ac4b6c64f1a2e2f9161c9737a2bc7b683d2c90b024825000c0/pyproj-2.6.1.post1-cp36-cp36m-manylinux2010_x86_64.whl (10.9MB)\n",
            "\u001b[K     |████████████████████████████████| 10.9MB 43.7MB/s \n",
            "\u001b[?25hRequirement already satisfied: attrs>=17 in /usr/local/lib/python3.6/dist-packages (from fiona->geopandas) (20.2.0)\n",
            "Collecting click-plugins>=1.0\n",
            "  Downloading https://files.pythonhosted.org/packages/e9/da/824b92d9942f4e472702488857914bdd50f73021efea15b4cad9aca8ecef/click_plugins-1.1.1-py2.py3-none-any.whl\n",
            "Collecting munch\n",
            "  Downloading https://files.pythonhosted.org/packages/cc/ab/85d8da5c9a45e072301beb37ad7f833cd344e04c817d97e0cc75681d248f/munch-2.5.0-py2.py3-none-any.whl\n",
            "Collecting cligj>=0.5\n",
            "  Downloading https://files.pythonhosted.org/packages/ba/06/e3440b1f2dc802d35f329f299ba96153e9fcbfdef75e17f4b61f79430c6a/cligj-0.7.0-py3-none-any.whl\n",
            "Requirement already satisfied: six>=1.7 in /usr/local/lib/python3.6/dist-packages (from fiona->geopandas) (1.15.0)\n",
            "Requirement already satisfied: click<8,>=4.0 in /usr/local/lib/python3.6/dist-packages (from fiona->geopandas) (7.1.2)\n",
            "Requirement already satisfied: python-dateutil>=2.7.3 in /usr/local/lib/python3.6/dist-packages (from pandas>=0.23.0->geopandas) (2.8.1)\n",
            "Requirement already satisfied: numpy>=1.15.4 in /usr/local/lib/python3.6/dist-packages (from pandas>=0.23.0->geopandas) (1.18.5)\n",
            "Requirement already satisfied: pytz>=2017.2 in /usr/local/lib/python3.6/dist-packages (from pandas>=0.23.0->geopandas) (2018.9)\n",
            "Installing collected packages: click-plugins, munch, cligj, fiona, pyproj, geopandas\n",
            "Successfully installed click-plugins-1.1.1 cligj-0.7.0 fiona-1.8.17 geopandas-0.8.1 munch-2.5.0 pyproj-2.6.1.post1\n"
          ],
          "name": "stdout"
        }
      ]
    },
    {
      "cell_type": "markdown",
      "metadata": {
        "id": "rqg6_gsMAmnO"
      },
      "source": [
        "Download do _dataset_ em formato CSV e carregamento dos dados com Pandas"
      ]
    },
    {
      "cell_type": "code",
      "metadata": {
        "id": "ll75aQpyAixs",
        "outputId": "1abdcbe8-4909-4c0c-9078-0fd2e66809ae",
        "colab": {
          "base_uri": "https://localhost:8080/",
          "height": 218
        }
      },
      "source": [
        "!wget http://tiagodemelo.info/datasets/dados-curso-completo.csv.tar.gz\n",
        "!tar -xvf dados-curso-completo.csv.tar.gz\n",
        "tw=pd.read_csv(\"dados-curso-completo.csv\")"
      ],
      "execution_count": 3,
      "outputs": [
        {
          "output_type": "stream",
          "text": [
            "--2020-10-23 12:50:03--  http://tiagodemelo.info/datasets/dados-curso-completo.csv.tar.gz\n",
            "Resolving tiagodemelo.info (tiagodemelo.info)... 108.167.188.189\n",
            "Connecting to tiagodemelo.info (tiagodemelo.info)|108.167.188.189|:80... connected.\n",
            "HTTP request sent, awaiting response... 200 OK\n",
            "Length: 143340808 (137M) [application/x-gzip]\n",
            "Saving to: ‘dados-curso-completo.csv.tar.gz.1’\n",
            "\n",
            "dados-curso-complet 100%[===================>] 136.70M  7.33MB/s    in 20s     \n",
            "\n",
            "2020-10-23 12:50:23 (7.00 MB/s) - ‘dados-curso-completo.csv.tar.gz.1’ saved [143340808/143340808]\n",
            "\n",
            "dados-curso-completo.csv\n"
          ],
          "name": "stdout"
        }
      ]
    },
    {
      "cell_type": "markdown",
      "metadata": {
        "id": "D5LWYr2YgmJP"
      },
      "source": [
        "### Exploração dos dados"
      ]
    },
    {
      "cell_type": "markdown",
      "metadata": {
        "id": "X0fWvYWfj-ky"
      },
      "source": [
        "O dataset importado contém **13 colunas**, sendo 5 referentes à localização geográfica: lugar; país; sigla; latitude; e longitude. Para a finalidade deste trabalho, as colunas **usuario** e **apelido** não são importantes e, portanto, serão excluídas na etapa de pré-processamento."
      ]
    },
    {
      "cell_type": "code",
      "metadata": {
        "id": "cFXXyP1IhmOk",
        "outputId": "f2db8373-88e1-4827-8bd3-0e62214e6ac1",
        "colab": {
          "base_uri": "https://localhost:8080/",
          "height": 353
        }
      },
      "source": [
        "tw.info()"
      ],
      "execution_count": 5,
      "outputs": [
        {
          "output_type": "stream",
          "text": [
            "<class 'pandas.core.frame.DataFrame'>\n",
            "RangeIndex: 1658825 entries, 0 to 1658824\n",
            "Data columns (total 13 columns):\n",
            " #   Column      Non-Null Count    Dtype  \n",
            "---  ------      --------------    -----  \n",
            " 0   data        1658825 non-null  object \n",
            " 1   usuario     1658768 non-null  object \n",
            " 2   apelido     1658825 non-null  object \n",
            " 3   texto       1658825 non-null  object \n",
            " 4   retweet     1658825 non-null  int64  \n",
            " 5   seguidores  1658825 non-null  int64  \n",
            " 6   idioma      1658825 non-null  object \n",
            " 7   lugar       74605 non-null    object \n",
            " 8   pais        74600 non-null    object \n",
            " 9   sigla       74595 non-null    object \n",
            " 10  latitude    8720 non-null     float64\n",
            " 11  longitude   8720 non-null     float64\n",
            " 12  hashtags    1658825 non-null  object \n",
            "dtypes: float64(2), int64(2), object(9)\n",
            "memory usage: 164.5+ MB\n"
          ],
          "name": "stdout"
        }
      ]
    },
    {
      "cell_type": "markdown",
      "metadata": {
        "id": "SXZMlrDFgtL-"
      },
      "source": [
        "Há um total de **1.658.825** tweets no dataset fornecido, dos quais apenas **8.720** possuem latitude e longitude preenchidas, destes, aproximadamente **50%** foi postado a partir da região Sudeste do Brasil."
      ]
    },
    {
      "cell_type": "code",
      "metadata": {
        "id": "4sAw2qfPgwoT",
        "outputId": "19f8c1d9-02ce-4ac7-be81-25da0155f1c4",
        "colab": {
          "base_uri": "https://localhost:8080/",
          "height": 284
        }
      },
      "source": [
        "tw.describe()"
      ],
      "execution_count": 4,
      "outputs": [
        {
          "output_type": "execute_result",
          "data": {
            "text/html": [
              "<div>\n",
              "<style scoped>\n",
              "    .dataframe tbody tr th:only-of-type {\n",
              "        vertical-align: middle;\n",
              "    }\n",
              "\n",
              "    .dataframe tbody tr th {\n",
              "        vertical-align: top;\n",
              "    }\n",
              "\n",
              "    .dataframe thead th {\n",
              "        text-align: right;\n",
              "    }\n",
              "</style>\n",
              "<table border=\"1\" class=\"dataframe\">\n",
              "  <thead>\n",
              "    <tr style=\"text-align: right;\">\n",
              "      <th></th>\n",
              "      <th>retweet</th>\n",
              "      <th>seguidores</th>\n",
              "      <th>latitude</th>\n",
              "      <th>longitude</th>\n",
              "    </tr>\n",
              "  </thead>\n",
              "  <tbody>\n",
              "    <tr>\n",
              "      <th>count</th>\n",
              "      <td>1.658825e+06</td>\n",
              "      <td>1.658825e+06</td>\n",
              "      <td>8720.000000</td>\n",
              "      <td>8720.000000</td>\n",
              "    </tr>\n",
              "    <tr>\n",
              "      <th>mean</th>\n",
              "      <td>1.978533e+02</td>\n",
              "      <td>3.257206e+04</td>\n",
              "      <td>-40.237583</td>\n",
              "      <td>-11.117100</td>\n",
              "    </tr>\n",
              "    <tr>\n",
              "      <th>std</th>\n",
              "      <td>6.337641e+03</td>\n",
              "      <td>3.680300e+05</td>\n",
              "      <td>20.808494</td>\n",
              "      <td>19.169105</td>\n",
              "    </tr>\n",
              "    <tr>\n",
              "      <th>min</th>\n",
              "      <td>0.000000e+00</td>\n",
              "      <td>0.000000e+00</td>\n",
              "      <td>-123.120400</td>\n",
              "      <td>-37.818769</td>\n",
              "    </tr>\n",
              "    <tr>\n",
              "      <th>25%</th>\n",
              "      <td>0.000000e+00</td>\n",
              "      <td>1.010000e+02</td>\n",
              "      <td>-47.864334</td>\n",
              "      <td>-23.305300</td>\n",
              "    </tr>\n",
              "    <tr>\n",
              "      <th>50%</th>\n",
              "      <td>0.000000e+00</td>\n",
              "      <td>3.800000e+02</td>\n",
              "      <td>-43.955615</td>\n",
              "      <td>-19.624400</td>\n",
              "    </tr>\n",
              "    <tr>\n",
              "      <th>75%</th>\n",
              "      <td>0.000000e+00</td>\n",
              "      <td>1.470000e+03</td>\n",
              "      <td>-38.453198</td>\n",
              "      <td>-7.120700</td>\n",
              "    </tr>\n",
              "    <tr>\n",
              "      <th>max</th>\n",
              "      <td>1.139763e+06</td>\n",
              "      <td>8.424125e+07</td>\n",
              "      <td>174.789310</td>\n",
              "      <td>58.257776</td>\n",
              "    </tr>\n",
              "  </tbody>\n",
              "</table>\n",
              "</div>"
            ],
            "text/plain": [
              "            retweet    seguidores     latitude    longitude\n",
              "count  1.658825e+06  1.658825e+06  8720.000000  8720.000000\n",
              "mean   1.978533e+02  3.257206e+04   -40.237583   -11.117100\n",
              "std    6.337641e+03  3.680300e+05    20.808494    19.169105\n",
              "min    0.000000e+00  0.000000e+00  -123.120400   -37.818769\n",
              "25%    0.000000e+00  1.010000e+02   -47.864334   -23.305300\n",
              "50%    0.000000e+00  3.800000e+02   -43.955615   -19.624400\n",
              "75%    0.000000e+00  1.470000e+03   -38.453198    -7.120700\n",
              "max    1.139763e+06  8.424125e+07   174.789310    58.257776"
            ]
          },
          "metadata": {
            "tags": []
          },
          "execution_count": 4
        }
      ]
    },
    {
      "cell_type": "code",
      "metadata": {
        "id": "URoyvh9_RUaA",
        "outputId": "8ce82ce8-ba85-4b57-dca2-a65d81b445e0",
        "colab": {
          "base_uri": "https://localhost:8080/",
          "height": 586
        }
      },
      "source": [
        "tw.iloc[1000000:]"
      ],
      "execution_count": 10,
      "outputs": [
        {
          "output_type": "execute_result",
          "data": {
            "text/html": [
              "<div>\n",
              "<style scoped>\n",
              "    .dataframe tbody tr th:only-of-type {\n",
              "        vertical-align: middle;\n",
              "    }\n",
              "\n",
              "    .dataframe tbody tr th {\n",
              "        vertical-align: top;\n",
              "    }\n",
              "\n",
              "    .dataframe thead th {\n",
              "        text-align: right;\n",
              "    }\n",
              "</style>\n",
              "<table border=\"1\" class=\"dataframe\">\n",
              "  <thead>\n",
              "    <tr style=\"text-align: right;\">\n",
              "      <th></th>\n",
              "      <th>data</th>\n",
              "      <th>usuario</th>\n",
              "      <th>apelido</th>\n",
              "      <th>texto</th>\n",
              "      <th>retweet</th>\n",
              "      <th>seguidores</th>\n",
              "      <th>idioma</th>\n",
              "      <th>lugar</th>\n",
              "      <th>pais</th>\n",
              "      <th>sigla</th>\n",
              "      <th>latitude</th>\n",
              "      <th>longitude</th>\n",
              "      <th>hashtags</th>\n",
              "    </tr>\n",
              "  </thead>\n",
              "  <tbody>\n",
              "    <tr>\n",
              "      <th>1000000</th>\n",
              "      <td>2020-03-27 22:28:06</td>\n",
              "      <td>Jackson Kestring</td>\n",
              "      <td>JacksonKestring</td>\n",
              "      <td>@travfer1 @cafecomferri A malária é transmitid...</td>\n",
              "      <td>0</td>\n",
              "      <td>20</td>\n",
              "      <td>pt</td>\n",
              "      <td>NaN</td>\n",
              "      <td>NaN</td>\n",
              "      <td>NaN</td>\n",
              "      <td>NaN</td>\n",
              "      <td>NaN</td>\n",
              "      <td>[]</td>\n",
              "    </tr>\n",
              "    <tr>\n",
              "      <th>1000001</th>\n",
              "      <td>2020-06-17 18:53:49</td>\n",
              "      <td>𝕻𝖗𝖎𝖘𝖈𝖎𝖑𝖑𝖆</td>\n",
              "      <td>Priszzb</td>\n",
              "      <td>@TrottaPedro Sim, mas to falando que muitos da...</td>\n",
              "      <td>0</td>\n",
              "      <td>147</td>\n",
              "      <td>pt</td>\n",
              "      <td>NaN</td>\n",
              "      <td>NaN</td>\n",
              "      <td>NaN</td>\n",
              "      <td>NaN</td>\n",
              "      <td>NaN</td>\n",
              "      <td>[]</td>\n",
              "    </tr>\n",
              "    <tr>\n",
              "      <th>1000002</th>\n",
              "      <td>2020-06-29 21:10:06</td>\n",
              "      <td>Vinicius Cordeiro</td>\n",
              "      <td>vinacordeiros</td>\n",
              "      <td>rolando boatos FORTES que o lockdown será decr...</td>\n",
              "      <td>1</td>\n",
              "      <td>497</td>\n",
              "      <td>pt</td>\n",
              "      <td>NaN</td>\n",
              "      <td>NaN</td>\n",
              "      <td>NaN</td>\n",
              "      <td>NaN</td>\n",
              "      <td>NaN</td>\n",
              "      <td>[]</td>\n",
              "    </tr>\n",
              "    <tr>\n",
              "      <th>1000003</th>\n",
              "      <td>2020-04-02 20:54:41</td>\n",
              "      <td>Lúcia de Azevedo. \\🇧🇷🇵🇹🇮🇱🇺🇸/</td>\n",
              "      <td>luciaazevedo</td>\n",
              "      <td>@jairbolsonaro Roubaram os valores morais, fam...</td>\n",
              "      <td>2</td>\n",
              "      <td>1643</td>\n",
              "      <td>pt</td>\n",
              "      <td>NaN</td>\n",
              "      <td>NaN</td>\n",
              "      <td>NaN</td>\n",
              "      <td>NaN</td>\n",
              "      <td>NaN</td>\n",
              "      <td>[]</td>\n",
              "    </tr>\n",
              "    <tr>\n",
              "      <th>1000004</th>\n",
              "      <td>2020-04-16 20:00:28</td>\n",
              "      <td>Mateus🇧🇷</td>\n",
              "      <td>mxcteus</td>\n",
              "      <td>Se hoje em dia com toda a informação que temos...</td>\n",
              "      <td>3</td>\n",
              "      <td>2465</td>\n",
              "      <td>pt</td>\n",
              "      <td>NaN</td>\n",
              "      <td>NaN</td>\n",
              "      <td>NaN</td>\n",
              "      <td>NaN</td>\n",
              "      <td>NaN</td>\n",
              "      <td>[]</td>\n",
              "    </tr>\n",
              "    <tr>\n",
              "      <th>...</th>\n",
              "      <td>...</td>\n",
              "      <td>...</td>\n",
              "      <td>...</td>\n",
              "      <td>...</td>\n",
              "      <td>...</td>\n",
              "      <td>...</td>\n",
              "      <td>...</td>\n",
              "      <td>...</td>\n",
              "      <td>...</td>\n",
              "      <td>...</td>\n",
              "      <td>...</td>\n",
              "      <td>...</td>\n",
              "      <td>...</td>\n",
              "    </tr>\n",
              "    <tr>\n",
              "      <th>1658820</th>\n",
              "      <td>2020-03-13 17:26:18</td>\n",
              "      <td>broca</td>\n",
              "      <td>whoisdrill</td>\n",
              "      <td>oms: tamo tendo pandemia evitar\\n conglomerado...</td>\n",
              "      <td>0</td>\n",
              "      <td>361</td>\n",
              "      <td>pt</td>\n",
              "      <td>NaN</td>\n",
              "      <td>NaN</td>\n",
              "      <td>NaN</td>\n",
              "      <td>NaN</td>\n",
              "      <td>NaN</td>\n",
              "      <td>[]</td>\n",
              "    </tr>\n",
              "    <tr>\n",
              "      <th>1658821</th>\n",
              "      <td>2020-05-12 13:02:34</td>\n",
              "      <td>Renato 🇧🇷</td>\n",
              "      <td>VerdadeExpress</td>\n",
              "      <td>@OsmarTerra Sr. Osmar Terra, gostaria de ouvir...</td>\n",
              "      <td>0</td>\n",
              "      <td>4066</td>\n",
              "      <td>pt</td>\n",
              "      <td>NaN</td>\n",
              "      <td>NaN</td>\n",
              "      <td>NaN</td>\n",
              "      <td>NaN</td>\n",
              "      <td>NaN</td>\n",
              "      <td>[]</td>\n",
              "    </tr>\n",
              "    <tr>\n",
              "      <th>1658822</th>\n",
              "      <td>2020-03-19 18:16:30</td>\n",
              "      <td>eugeniocosta8</td>\n",
              "      <td>EugenioCosta8</td>\n",
              "      <td>CIENTISTA DE HARVARD PREVÊ QUE ATÉ 70% DO MUND...</td>\n",
              "      <td>3</td>\n",
              "      <td>5307</td>\n",
              "      <td>pt</td>\n",
              "      <td>NaN</td>\n",
              "      <td>NaN</td>\n",
              "      <td>NaN</td>\n",
              "      <td>NaN</td>\n",
              "      <td>NaN</td>\n",
              "      <td>['CORONAVIRUS']</td>\n",
              "    </tr>\n",
              "    <tr>\n",
              "      <th>1658823</th>\n",
              "      <td>2020-04-07 18:14:45</td>\n",
              "      <td>Wagner Mota - Seriedade + Geek</td>\n",
              "      <td>wagnermota75</td>\n",
              "      <td>#BolsonaroTemRazaoSim porque, quando a prefeit...</td>\n",
              "      <td>0</td>\n",
              "      <td>1000</td>\n",
              "      <td>pt</td>\n",
              "      <td>NaN</td>\n",
              "      <td>NaN</td>\n",
              "      <td>NaN</td>\n",
              "      <td>NaN</td>\n",
              "      <td>NaN</td>\n",
              "      <td>['BolsonaroTemRazaoSim']</td>\n",
              "    </tr>\n",
              "    <tr>\n",
              "      <th>1658824</th>\n",
              "      <td>2020-06-02 16:04:51</td>\n",
              "      <td>Fotógrafo</td>\n",
              "      <td>omarcelogoulart</td>\n",
              "      <td>Em meio a uma pandemia, estamos na luta também...</td>\n",
              "      <td>0</td>\n",
              "      <td>726</td>\n",
              "      <td>pt</td>\n",
              "      <td>São Félix do Araguaia</td>\n",
              "      <td>Brazil</td>\n",
              "      <td>BR</td>\n",
              "      <td>-53.0</td>\n",
              "      <td>-11.0</td>\n",
              "      <td>[]</td>\n",
              "    </tr>\n",
              "  </tbody>\n",
              "</table>\n",
              "<p>658825 rows × 13 columns</p>\n",
              "</div>"
            ],
            "text/plain": [
              "                        data  ...                  hashtags\n",
              "1000000  2020-03-27 22:28:06  ...                        []\n",
              "1000001  2020-06-17 18:53:49  ...                        []\n",
              "1000002  2020-06-29 21:10:06  ...                        []\n",
              "1000003  2020-04-02 20:54:41  ...                        []\n",
              "1000004  2020-04-16 20:00:28  ...                        []\n",
              "...                      ...  ...                       ...\n",
              "1658820  2020-03-13 17:26:18  ...                        []\n",
              "1658821  2020-05-12 13:02:34  ...                        []\n",
              "1658822  2020-03-19 18:16:30  ...           ['CORONAVIRUS']\n",
              "1658823  2020-04-07 18:14:45  ...  ['BolsonaroTemRazaoSim']\n",
              "1658824  2020-06-02 16:04:51  ...                        []\n",
              "\n",
              "[658825 rows x 13 columns]"
            ]
          },
          "metadata": {
            "tags": []
          },
          "execution_count": 10
        }
      ]
    },
    {
      "cell_type": "markdown",
      "metadata": {
        "id": "zexa186VlGTK"
      },
      "source": [
        "Os tweets são referentes ao período de 01/01/2020 a 28/07/2020."
      ]
    },
    {
      "cell_type": "code",
      "metadata": {
        "id": "8L4cC-0S_bKB",
        "outputId": "d5d81855-0030-416a-b7df-69b7880bff3c",
        "colab": {
          "base_uri": "https://localhost:8080/",
          "height": 84
        }
      },
      "source": [
        "tw_datas = tw.filter(items=['data'])\n",
        "print(tw_datas.min())\n",
        "print(tw_datas.max())"
      ],
      "execution_count": 15,
      "outputs": [
        {
          "output_type": "stream",
          "text": [
            "data    2020-01-01 00:42:12\n",
            "dtype: object\n",
            "data    2020-07-28 17:19:44\n",
            "dtype: object\n"
          ],
          "name": "stdout"
        }
      ]
    },
    {
      "cell_type": "markdown",
      "metadata": {
        "id": "QNEq43Q4sgRr"
      },
      "source": [
        "O foco deste trabalho é analisar dados do Brasil, e, portanto, tweets em outros idiomas serão descartados na fase de processamento dos dados."
      ]
    },
    {
      "cell_type": "code",
      "metadata": {
        "id": "oEbu6goFoWm1",
        "outputId": "cb9bc600-af91-49fb-8995-5f6b2717722a",
        "colab": {
          "base_uri": "https://localhost:8080/",
          "height": 332
        }
      },
      "source": [
        "print(tw.idioma.value_counts().nlargest(3))\n",
        "tw.idioma.value_counts().plot(kind='pie')"
      ],
      "execution_count": 50,
      "outputs": [
        {
          "output_type": "stream",
          "text": [
            "pt    1586796\n",
            "en      23991\n",
            "es      14255\n",
            "Name: idioma, dtype: int64\n"
          ],
          "name": "stdout"
        },
        {
          "output_type": "execute_result",
          "data": {
            "text/plain": [
              "<matplotlib.axes._subplots.AxesSubplot at 0x7f07a40fd4e0>"
            ]
          },
          "metadata": {
            "tags": []
          },
          "execution_count": 50
        },
        {
          "output_type": "display_data",
          "data": {
            "image/png": "[encoded data removed]",
            "text/plain": [
              "<Figure size 432x288 with 1 Axes>"
            ]
          },
          "metadata": {
            "tags": []
          }
        }
      ]
    },
    {
      "cell_type": "code",
      "metadata": {
        "id": "G9_NCkuQoiZ8",
        "outputId": "1a6f75ca-cadf-482c-f75f-e957aaa214aa",
        "colab": {
          "base_uri": "https://localhost:8080/",
          "height": 218
        }
      },
      "source": [
        "tw[tw.idioma.eq('en')].texto"
      ],
      "execution_count": 51,
      "outputs": [
        {
          "output_type": "execute_result",
          "data": {
            "text/plain": [
              "24         RT @DurhamCatholic: If you’re feeling disconne...\n",
              "36         RT @ddale8: Trump continues that it's fine if ...\n",
              "40                              @LaurenJauregui YESSS LAUREN\n",
              "110        RT @chartdata: Current top 10 singles on US iT...\n",
              "191        RT @emel0371: When quarantine is over 😂\\n( cre...\n",
              "                                 ...                        \n",
              "1658642    RT @katewalsh: my plans                       ...\n",
              "1658675    @neilmoysey @piersmorgan @BorisJohnson But Cum...\n",
              "1658731    Hadley has been prescribed antibiotics as he h...\n",
              "1658752    RT @rudy_betrayed: me: hey can we have sex in ...\n",
              "1658811    Franklin Duration Income Trust : Universal Tru...\n",
              "Name: texto, Length: 23991, dtype: object"
            ]
          },
          "metadata": {
            "tags": []
          },
          "execution_count": 51
        }
      ]
    },
    {
      "cell_type": "markdown",
      "metadata": {
        "id": "CtyB2XwMl9Bn"
      },
      "source": [
        "Há 74.600 tweets com a informação do País preenchida, destes, **90%** são do Brasil."
      ]
    },
    {
      "cell_type": "code",
      "metadata": {
        "id": "ADcz99oXRj__",
        "outputId": "d4038db8-5487-4446-dd6f-6928cd4e2f4e",
        "colab": {
          "base_uri": "https://localhost:8080/",
          "height": 298
        }
      },
      "source": [
        "print('Total de tweets com País preenchido: ' + str(tw.pais.count()))\n",
        "tw_pais_counts = tw.pais.value_counts()\n",
        "print('Porcentagem BR: ' + str(tw_pais_counts['Brazil']/tw.pais.count()*100))\n",
        "tw_pais_counts.plot(kind='pie')"
      ],
      "execution_count": 42,
      "outputs": [
        {
          "output_type": "stream",
          "text": [
            "Total de tweets com País preenchido: 74600\n",
            "Porcentagem BR: 90.14343163538874\n"
          ],
          "name": "stdout"
        },
        {
          "output_type": "execute_result",
          "data": {
            "text/plain": [
              "<matplotlib.axes._subplots.AxesSubplot at 0x7f07ad0017f0>"
            ]
          },
          "metadata": {
            "tags": []
          },
          "execution_count": 42
        },
        {
          "output_type": "display_data",
          "data": {
            "image/png": "[encoded data removed]",
            "text/plain": [
              "<Figure size 432x288 with 1 Axes>"
            ]
          },
          "metadata": {
            "tags": []
          }
        }
      ]
    },
    {
      "cell_type": "markdown",
      "metadata": {
        "id": "iMu0xzF1t2Uz"
      },
      "source": [
        "### Pré-Processamento"
      ]
    },
    {
      "cell_type": "markdown",
      "metadata": {
        "id": "mgFZuUuzwwv_"
      },
      "source": [
        "A coluna **data** não está com o tipo _datetime_ e precisa ser ajustada para podermos realizar análises temporais. Após o ajuste foi possível plotar o histograma. Podemos constatar que a maioria dos tweets foi postada no período compreendido entre o final de março e a primeira metade de abril, coincidindo com a época em que o Brasil atingiu a marca dos 100.000 casos de COVID-19."
      ]
    },
    {
      "cell_type": "code",
      "metadata": {
        "id": "nICgcI6NvEcX",
        "outputId": "efd76075-28c7-4b68-9012-f5e7be822612",
        "colab": {
          "base_uri": "https://localhost:8080/",
          "height": 282
        }
      },
      "source": [
        "tw.data = pd.to_datetime(tw.data)\n",
        "tw.data.hist()"
      ],
      "execution_count": 59,
      "outputs": [
        {
          "output_type": "execute_result",
          "data": {
            "text/plain": [
              "<matplotlib.axes._subplots.AxesSubplot at 0x7f0756b33c88>"
            ]
          },
          "metadata": {
            "tags": []
          },
          "execution_count": 59
        },
        {
          "output_type": "display_data",
          "data": {
            "image/png": "[encoded data removed]",
            "text/plain": [
              "<Figure size 432x288 with 1 Axes>"
            ]
          },
          "metadata": {
            "tags": [],
            "needs_background": "light"
          }
        }
      ]
    },
    {
      "cell_type": "markdown",
      "metadata": {
        "id": "uI8xnq4x19L5"
      },
      "source": [
        "Apenas os dados no idioma **pt** interessam para nossa análise, então os demais serão removidos do dataset."
      ]
    },
    {
      "cell_type": "code",
      "metadata": {
        "id": "JxfX48Ti113T"
      },
      "source": [
        "tw = tw[tw.idioma.eq('pt')]"
      ],
      "execution_count": 79,
      "outputs": []
    },
    {
      "cell_type": "markdown",
      "metadata": {
        "id": "hVckKq0HtWhZ"
      },
      "source": [
        "Para viabilizar análises espaciais, precisamos criar uma coluna do tipo _geometry_ no dataset e remover as colunas originais de latitude e longitude. Após adição da coluna, foi possível plotar um mapa com os tweets. Apesar de termos visto anteriormente que a grande maioria dos tweets foram originados na região Sudeste, o mapa abaixo ilustra que a amostragem possui tweets de praticamente todas as regiões do Brasil."
      ]
    },
    {
      "cell_type": "code",
      "metadata": {
        "id": "K9hbrKucewfm",
        "outputId": "dc1cb73e-4a66-49ef-bcc6-5702b42d70f2",
        "colab": {
          "base_uri": "https://localhost:8080/",
          "height": 334
        }
      },
      "source": [
        "if 'geometry' not in tw.columns:\n",
        "  geometry = [Point(xy) for xy in zip(tw['latitude'], tw['longitude'])]\n",
        "  tw = GeoDataFrame(tw, geometry=geometry)\n",
        "if 'geometry' in tw.columns:\n",
        "  if 'longitude' in tw.columns:\n",
        "    del tw['longitude']\n",
        "  if 'latitude' in tw.columns:\n",
        "    del tw['latitude']\n",
        "\n",
        "# plotagem do mapa mundi usando a lib GeoPandas\n",
        "world = gpd.read_file(gpd.datasets.get_path('naturalearth_lowres'))\n",
        "tw.plot(ax=world.plot(figsize=(10, 6)), marker='o', color='red', markersize=15)"
      ],
      "execution_count": 82,
      "outputs": [
        {
          "output_type": "execute_result",
          "data": {
            "text/plain": [
              "<matplotlib.axes._subplots.AxesSubplot at 0x7f0759628470>"
            ]
          },
          "metadata": {
            "tags": []
          },
          "execution_count": 82
        },
        {
          "output_type": "display_data",
          "data": {
            "image/png": "[encoded data removed]",
            "text/plain": [
              "<Figure size 720x432 with 1 Axes>"
            ]
          },
          "metadata": {
            "tags": [],
            "needs_background": "light"
          }
        }
      ]
    },
    {
      "cell_type": "markdown",
      "metadata": {
        "id": "5GKa7YMawe-F"
      },
      "source": [
        "As colunas **usuario** e **apelido** não são importantes para o objetivo deste trabalho e, portanto, devem ser descartadas."
      ]
    },
    {
      "cell_type": "code",
      "metadata": {
        "id": "bXgEpYkiweGo",
        "outputId": "0f303c47-a858-4fad-d946-88fdb10c59d3",
        "colab": {
          "base_uri": "https://localhost:8080/",
          "height": 202
        }
      },
      "source": [
        "if 'usuario' in tw.columns:\n",
        "  del tw['usuario']\n",
        "if 'apelido' in tw.columns:\n",
        "  del tw['apelido']\n",
        "tw.dtypes"
      ],
      "execution_count": 83,
      "outputs": [
        {
          "output_type": "execute_result",
          "data": {
            "text/plain": [
              "data          datetime64[ns]\n",
              "texto                 object\n",
              "retweet                int64\n",
              "seguidores             int64\n",
              "idioma                object\n",
              "lugar                 object\n",
              "pais                  object\n",
              "sigla                 object\n",
              "hashtags              object\n",
              "geometry            geometry\n",
              "dtype: object"
            ]
          },
          "metadata": {
            "tags": []
          },
          "execution_count": 83
        }
      ]
    },
    {
      "cell_type": "markdown",
      "metadata": {
        "id": "s1Q3UMTcqs-R"
      },
      "source": [
        "### Extração das Dúvidas"
      ]
    },
    {
      "cell_type": "markdown",
      "metadata": {
        "id": "lLhY9yXb84gV"
      },
      "source": [
        "O método utilizado para a extração das dúvidas a partir do texto do _tweet_, foi: quebrar as sentenças contidas no texto, identificadas pelos caracteres `?`, `!`, `.` ou `;`; e em seguida descartar aquelas não terminadas com o caractere de interrogação, `?`.\n",
        "\n",
        "Todas as dúvidas identificadas compuseram um novo _dataset_ denominado **DuvidasDB**.\n",
        "\n",
        "**Nota*: um único tweet pode originar 0, 1 ou várias dúvidas e, portanto, nos casos em que haviam múltiplas dúvidas no mesmo texto, foram criados múltiplos novos registros no dataset DuvidasDB."
      ]
    },
    {
      "cell_type": "code",
      "metadata": {
        "id": "S-jGt0_7pzt_",
        "outputId": "fd8639c3-cc1e-4e76-af00-143727333470",
        "colab": {
          "base_uri": "https://localhost:8080/",
          "height": 464
        }
      },
      "source": [
        "import re # lib para trabalhar com expressões regulares\n",
        "\n",
        "def break_text_into_sentences(text):\n",
        "  return re.findall('[^[?|!|.|;]+]*[?|!|.|;]', text)\n",
        "\n",
        "def filter_only_questions(sentences):\n",
        "  return list(filter(lambda sentence: sentence.endswith('?'), sentences))\n",
        "\n",
        "new_tweets = []\n",
        "for tweet in tw.itertuples(index=False):\n",
        "    sentences = break_text_into_sentences(tweet.texto)\n",
        "    questions = filter_only_questions(sentences)\n",
        "    for question in questions:\n",
        "      new_tweet = ((tweet.data,) + (question,) + (tweet.retweet,\n",
        "                                                  tweet.seguidores,\n",
        "                                                  tweet.idioma,\n",
        "                                                  tweet.lugar,\n",
        "                                                  tweet.pais,\n",
        "                                                  tweet.sigla,\n",
        "                                                  tweet.hashtags,\n",
        "                                                  tweet.geometry))\n",
        "      new_tweets.append(new_tweet) \n",
        "DuvidasDB = GeoDataFrame(new_tweets, columns = ['data', 'duvida', 'retweet', 'seguidores', 'idioma', 'lugar', 'pais', 'sigla', 'hashtags', 'geometry'])\n",
        "del new_tweets\n",
        "DuvidasDB.head()"
      ],
      "execution_count": 99,
      "outputs": [
        {
          "output_type": "stream",
          "text": [
            "/usr/local/lib/python3.6/dist-packages/geopandas/array.py:689: RuntimeWarning: All-NaN slice encountered\n",
            "  np.nanmin(b[:, 0]),  # minx\n",
            "/usr/local/lib/python3.6/dist-packages/geopandas/array.py:690: RuntimeWarning: All-NaN slice encountered\n",
            "  np.nanmin(b[:, 1]),  # miny\n",
            "/usr/local/lib/python3.6/dist-packages/geopandas/array.py:691: RuntimeWarning: All-NaN slice encountered\n",
            "  np.nanmax(b[:, 2]),  # maxx\n",
            "/usr/local/lib/python3.6/dist-packages/geopandas/array.py:692: RuntimeWarning: All-NaN slice encountered\n",
            "  np.nanmax(b[:, 3]),  # maxy\n",
            "/usr/local/lib/python3.6/dist-packages/geopandas/array.py:689: RuntimeWarning: All-NaN slice encountered\n",
            "  np.nanmin(b[:, 0]),  # minx\n",
            "/usr/local/lib/python3.6/dist-packages/geopandas/array.py:690: RuntimeWarning: All-NaN slice encountered\n",
            "  np.nanmin(b[:, 1]),  # miny\n",
            "/usr/local/lib/python3.6/dist-packages/geopandas/array.py:691: RuntimeWarning: All-NaN slice encountered\n",
            "  np.nanmax(b[:, 2]),  # maxx\n",
            "/usr/local/lib/python3.6/dist-packages/geopandas/array.py:692: RuntimeWarning: All-NaN slice encountered\n",
            "  np.nanmax(b[:, 3]),  # maxy\n"
          ],
          "name": "stderr"
        },
        {
          "output_type": "execute_result",
          "data": {
            "text/html": [
              "<div>\n",
              "<style scoped>\n",
              "    .dataframe tbody tr th:only-of-type {\n",
              "        vertical-align: middle;\n",
              "    }\n",
              "\n",
              "    .dataframe tbody tr th {\n",
              "        vertical-align: top;\n",
              "    }\n",
              "\n",
              "    .dataframe thead th {\n",
              "        text-align: right;\n",
              "    }\n",
              "</style>\n",
              "<table border=\"1\" class=\"dataframe\">\n",
              "  <thead>\n",
              "    <tr style=\"text-align: right;\">\n",
              "      <th></th>\n",
              "      <th>data</th>\n",
              "      <th>duvida</th>\n",
              "      <th>retweet</th>\n",
              "      <th>seguidores</th>\n",
              "      <th>idioma</th>\n",
              "      <th>lugar</th>\n",
              "      <th>pais</th>\n",
              "      <th>sigla</th>\n",
              "      <th>hashtags</th>\n",
              "      <th>geometry</th>\n",
              "    </tr>\n",
              "  </thead>\n",
              "  <tbody>\n",
              "    <tr>\n",
              "      <th>0</th>\n",
              "      <td>2020-03-23 18:51:14</td>\n",
              "      <td>@BolsonaroSP Cade o fundão deputado?</td>\n",
              "      <td>0</td>\n",
              "      <td>138</td>\n",
              "      <td>pt</td>\n",
              "      <td>NaN</td>\n",
              "      <td>NaN</td>\n",
              "      <td>NaN</td>\n",
              "      <td>[]</td>\n",
              "      <td>POINT (nan nan)</td>\n",
              "    </tr>\n",
              "    <tr>\n",
              "      <th>1</th>\n",
              "      <td>2020-04-01 21:11:07</td>\n",
              "      <td>Fumaça de cigarro pode propagar coronavírus?</td>\n",
              "      <td>0</td>\n",
              "      <td>1885</td>\n",
              "      <td>pt</td>\n",
              "      <td>NaN</td>\n",
              "      <td>NaN</td>\n",
              "      <td>NaN</td>\n",
              "      <td>[]</td>\n",
              "      <td>POINT (nan nan)</td>\n",
              "    </tr>\n",
              "    <tr>\n",
              "      <th>2</th>\n",
              "      <td>2020-06-25 11:09:19</td>\n",
              "      <td>@ipratesMD @dr_pampers Será que corremos o ris...</td>\n",
              "      <td>0</td>\n",
              "      <td>86</td>\n",
              "      <td>pt</td>\n",
              "      <td>NaN</td>\n",
              "      <td>NaN</td>\n",
              "      <td>NaN</td>\n",
              "      <td>[]</td>\n",
              "      <td>POINT (nan nan)</td>\n",
              "    </tr>\n",
              "    <tr>\n",
              "      <th>3</th>\n",
              "      <td>2020-04-06 15:44:36</td>\n",
              "      <td>Prioridade ?</td>\n",
              "      <td>0</td>\n",
              "      <td>219</td>\n",
              "      <td>pt</td>\n",
              "      <td>NaN</td>\n",
              "      <td>NaN</td>\n",
              "      <td>NaN</td>\n",
              "      <td>['COVID19', 'floripa', 'isolamento']</td>\n",
              "      <td>POINT (nan nan)</td>\n",
              "    </tr>\n",
              "    <tr>\n",
              "      <th>4</th>\n",
              "      <td>2020-03-30 00:43:36</td>\n",
              "      <td>Que tal uma notícia boa, indo na contramão do ...</td>\n",
              "      <td>0</td>\n",
              "      <td>201</td>\n",
              "      <td>pt</td>\n",
              "      <td>NaN</td>\n",
              "      <td>NaN</td>\n",
              "      <td>NaN</td>\n",
              "      <td>[]</td>\n",
              "      <td>POINT (nan nan)</td>\n",
              "    </tr>\n",
              "  </tbody>\n",
              "</table>\n",
              "</div>"
            ],
            "text/plain": [
              "                 data  ...         geometry\n",
              "0 2020-03-23 18:51:14  ...  POINT (nan nan)\n",
              "1 2020-04-01 21:11:07  ...  POINT (nan nan)\n",
              "2 2020-06-25 11:09:19  ...  POINT (nan nan)\n",
              "3 2020-04-06 15:44:36  ...  POINT (nan nan)\n",
              "4 2020-03-30 00:43:36  ...  POINT (nan nan)\n",
              "\n",
              "[5 rows x 10 columns]"
            ]
          },
          "metadata": {
            "tags": []
          },
          "execution_count": 99
        }
      ]
    },
    {
      "cell_type": "markdown",
      "metadata": {
        "id": "gJSmbsBd7jEV"
      },
      "source": [
        "Após a extração, foram totalizadas **189.998** dúvidas."
      ]
    },
    {
      "cell_type": "code",
      "metadata": {
        "id": "aA5lNnbO6Wzt",
        "outputId": "d5f88638-ee1c-4268-f1b7-e649af6d049c",
        "colab": {
          "base_uri": "https://localhost:8080/",
          "height": 302
        }
      },
      "source": [
        "DuvidasDB.info()"
      ],
      "execution_count": 86,
      "outputs": [
        {
          "output_type": "stream",
          "text": [
            "<class 'geopandas.geodataframe.GeoDataFrame'>\n",
            "RangeIndex: 189998 entries, 0 to 189997\n",
            "Data columns (total 10 columns):\n",
            " #   Column      Non-Null Count   Dtype         \n",
            "---  ------      --------------   -----         \n",
            " 0   data        189998 non-null  datetime64[ns]\n",
            " 1   duvida      189998 non-null  object        \n",
            " 2   retweet     189998 non-null  int64         \n",
            " 3   seguidores  189998 non-null  int64         \n",
            " 4   idioma      189998 non-null  object        \n",
            " 5   lugar       8649 non-null    object        \n",
            " 6   pais        8649 non-null    object        \n",
            " 7   sigla       8649 non-null    object        \n",
            " 8   hashtags    189998 non-null  object        \n",
            " 9   geometry    189998 non-null  geometry      \n",
            "dtypes: datetime64[ns](1), geometry(1), int64(2), object(6)\n",
            "memory usage: 14.5+ MB\n"
          ],
          "name": "stdout"
        }
      ]
    },
    {
      "cell_type": "markdown",
      "metadata": {
        "id": "Op_lVnqN8KgQ"
      },
      "source": [
        "Dentre as dúvidas repetidas, aquelas referentes à **quarentena** lideram o ranking, seguidas por **álcool gel** e **cloroquina**."
      ]
    },
    {
      "cell_type": "code",
      "metadata": {
        "id": "0pCd5G056Z-B",
        "outputId": "39f5a4cb-26ca-4680-f41c-0cad20deee06",
        "colab": {
          "base_uri": "https://localhost:8080/",
          "height": 202
        }
      },
      "source": [
        "DuvidasDB.duvida.value_counts().nlargest(10)"
      ],
      "execution_count": 98,
      "outputs": [
        {
          "output_type": "execute_result",
          "data": {
            "text/plain": [
              "quarentena dia ?                             276\n",
              "dia ?                                        223\n",
              "Dia ?                                        188\n",
              " ?                                           180\n",
              "covid 19?                                    167\n",
              "Quarentena dia ?                             146\n",
              " O álcool gel na mira do marketing?          144\n",
              "CLOROQUINA : POR QUE A TV ESCONDE A CURA?     93\n",
              "Olá pessoal, tudo bem?                        86\n",
              " Será?                                        86\n",
              "Name: duvida, dtype: int64"
            ]
          },
          "metadata": {
            "tags": []
          },
          "execution_count": 98
        }
      ]
    }
  ]
}