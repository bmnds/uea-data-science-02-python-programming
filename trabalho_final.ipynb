{
  "nbformat": 4,
  "nbformat_minor": 0,
  "metadata": {
    "colab": {
      "name": "trabalho_final.ipynb",
      "provenance": [],
      "collapsed_sections": [],
      "include_colab_link": true
    },
    "kernelspec": {
      "name": "python3",
      "display_name": "Python 3"
    }
  },
  "cells": [
    {
      "cell_type": "markdown",
      "metadata": {
        "id": "view-in-github",
        "colab_type": "text"
      },
      "source": [
        "<a href=\"https://colab.research.google.com/github/bmnds/uea-data-science-02-python-programming/blob/master/trabalho_final.ipynb\" target=\"_parent\"><img src=\"https://colab.research.google.com/assets/colab-badge.svg\" alt=\"Open In Colab\"/></a>"
      ]
    },
    {
      "cell_type": "markdown",
      "metadata": {
        "id": "44D1aVWCQtkD"
      },
      "source": [
        "Importação do pandas"
      ]
    },
    {
      "cell_type": "code",
      "metadata": {
        "id": "8kzthDosQb9y"
      },
      "source": [
        "import pandas as pd"
      ],
      "execution_count": null,
      "outputs": []
    },
    {
      "cell_type": "markdown",
      "metadata": {
        "id": "rqg6_gsMAmnO"
      },
      "source": [
        "Importação do banco de dados"
      ]
    },
    {
      "cell_type": "code",
      "metadata": {
        "id": "ll75aQpyAixs",
        "outputId": "13fa6691-7b17-4258-85e9-d6c0ae79168b",
        "colab": {
          "base_uri": "https://localhost:8080/",
          "height": 204
        }
      },
      "source": [
        "!wget http://tiagodemelo.info/datasets/dados-curso-completo.csv.tar.gz"
      ],
      "execution_count": null,
      "outputs": [
        {
          "output_type": "stream",
          "text": [
            "--2020-10-22 02:15:47--  http://tiagodemelo.info/datasets/dados-curso-completo.csv.tar.gz\n",
            "Resolving tiagodemelo.info (tiagodemelo.info)... 108.167.188.189\n",
            "Connecting to tiagodemelo.info (tiagodemelo.info)|108.167.188.189|:80... connected.\n",
            "HTTP request sent, awaiting response... 200 OK\n",
            "Length: 143340808 (137M) [application/x-gzip]\n",
            "Saving to: ‘dados-curso-completo.csv.tar.gz’\n",
            "\n",
            "dados-curso-complet 100%[===================>] 136.70M  50.0MB/s    in 2.7s    \n",
            "\n",
            "2020-10-22 02:15:50 (50.0 MB/s) - ‘dados-curso-completo.csv.tar.gz’ saved [143340808/143340808]\n",
            "\n"
          ],
          "name": "stdout"
        }
      ]
    },
    {
      "cell_type": "code",
      "metadata": {
        "id": "7IKbYvKIAqo5",
        "outputId": "6c290e8f-1e41-41e3-c9d8-d08fcb21af24",
        "colab": {
          "base_uri": "https://localhost:8080/",
          "height": 34
        }
      },
      "source": [
        "!tar -xvf dados-curso-completo.csv.tar.gz"
      ],
      "execution_count": null,
      "outputs": [
        {
          "output_type": "stream",
          "text": [
            "dados-curso-completo.csv\n"
          ],
          "name": "stdout"
        }
      ]
    },
    {
      "cell_type": "code",
      "metadata": {
        "id": "s5J8I6uRQ2sV"
      },
      "source": [
        "tw=pd.read_csv(\"dados-curso-completo.csv\")"
      ],
      "execution_count": null,
      "outputs": []
    },
    {
      "cell_type": "code",
      "metadata": {
        "id": "VKtwWawmRHyo",
        "outputId": "850a3a21-9e31-4099-888d-e37a3d8f23f8",
        "colab": {
          "base_uri": "https://localhost:8080/",
          "height": 297
        }
      },
      "source": [
        "tw.describe()"
      ],
      "execution_count": null,
      "outputs": [
        {
          "output_type": "execute_result",
          "data": {
            "text/html": [
              "<div>\n",
              "<style scoped>\n",
              "    .dataframe tbody tr th:only-of-type {\n",
              "        vertical-align: middle;\n",
              "    }\n",
              "\n",
              "    .dataframe tbody tr th {\n",
              "        vertical-align: top;\n",
              "    }\n",
              "\n",
              "    .dataframe thead th {\n",
              "        text-align: right;\n",
              "    }\n",
              "</style>\n",
              "<table border=\"1\" class=\"dataframe\">\n",
              "  <thead>\n",
              "    <tr style=\"text-align: right;\">\n",
              "      <th></th>\n",
              "      <th>retweet</th>\n",
              "      <th>seguidores</th>\n",
              "      <th>latitude</th>\n",
              "      <th>longitude</th>\n",
              "    </tr>\n",
              "  </thead>\n",
              "  <tbody>\n",
              "    <tr>\n",
              "      <th>count</th>\n",
              "      <td>1.658825e+06</td>\n",
              "      <td>1.658825e+06</td>\n",
              "      <td>8720.000000</td>\n",
              "      <td>8720.000000</td>\n",
              "    </tr>\n",
              "    <tr>\n",
              "      <th>mean</th>\n",
              "      <td>1.978533e+02</td>\n",
              "      <td>3.257206e+04</td>\n",
              "      <td>-40.237583</td>\n",
              "      <td>-11.117100</td>\n",
              "    </tr>\n",
              "    <tr>\n",
              "      <th>std</th>\n",
              "      <td>6.337641e+03</td>\n",
              "      <td>3.680300e+05</td>\n",
              "      <td>20.808494</td>\n",
              "      <td>19.169105</td>\n",
              "    </tr>\n",
              "    <tr>\n",
              "      <th>min</th>\n",
              "      <td>0.000000e+00</td>\n",
              "      <td>0.000000e+00</td>\n",
              "      <td>-123.120400</td>\n",
              "      <td>-37.818769</td>\n",
              "    </tr>\n",
              "    <tr>\n",
              "      <th>25%</th>\n",
              "      <td>0.000000e+00</td>\n",
              "      <td>1.010000e+02</td>\n",
              "      <td>-47.864334</td>\n",
              "      <td>-23.305300</td>\n",
              "    </tr>\n",
              "    <tr>\n",
              "      <th>50%</th>\n",
              "      <td>0.000000e+00</td>\n",
              "      <td>3.800000e+02</td>\n",
              "      <td>-43.955615</td>\n",
              "      <td>-19.624400</td>\n",
              "    </tr>\n",
              "    <tr>\n",
              "      <th>75%</th>\n",
              "      <td>0.000000e+00</td>\n",
              "      <td>1.470000e+03</td>\n",
              "      <td>-38.453198</td>\n",
              "      <td>-7.120700</td>\n",
              "    </tr>\n",
              "    <tr>\n",
              "      <th>max</th>\n",
              "      <td>1.139763e+06</td>\n",
              "      <td>8.424125e+07</td>\n",
              "      <td>174.789310</td>\n",
              "      <td>58.257776</td>\n",
              "    </tr>\n",
              "  </tbody>\n",
              "</table>\n",
              "</div>"
            ],
            "text/plain": [
              "            retweet    seguidores     latitude    longitude\n",
              "count  1.658825e+06  1.658825e+06  8720.000000  8720.000000\n",
              "mean   1.978533e+02  3.257206e+04   -40.237583   -11.117100\n",
              "std    6.337641e+03  3.680300e+05    20.808494    19.169105\n",
              "min    0.000000e+00  0.000000e+00  -123.120400   -37.818769\n",
              "25%    0.000000e+00  1.010000e+02   -47.864334   -23.305300\n",
              "50%    0.000000e+00  3.800000e+02   -43.955615   -19.624400\n",
              "75%    0.000000e+00  1.470000e+03   -38.453198    -7.120700\n",
              "max    1.139763e+06  8.424125e+07   174.789310    58.257776"
            ]
          },
          "metadata": {
            "tags": []
          },
          "execution_count": 12
        }
      ]
    },
    {
      "cell_type": "markdown",
      "metadata": {
        "id": "JnCwx2_XQLVP"
      },
      "source": [
        "Cabeçalho do nosso arquivo"
      ]
    },
    {
      "cell_type": "code",
      "metadata": {
        "id": "URoyvh9_RUaA",
        "outputId": "b2f736f2-3d63-4888-80d6-222183391672",
        "colab": {
          "base_uri": "https://localhost:8080/",
          "height": 289
        }
      },
      "source": [
        "tw.head()"
      ],
      "execution_count": null,
      "outputs": [
        {
          "output_type": "execute_result",
          "data": {
            "text/html": [
              "<div>\n",
              "<style scoped>\n",
              "    .dataframe tbody tr th:only-of-type {\n",
              "        vertical-align: middle;\n",
              "    }\n",
              "\n",
              "    .dataframe tbody tr th {\n",
              "        vertical-align: top;\n",
              "    }\n",
              "\n",
              "    .dataframe thead th {\n",
              "        text-align: right;\n",
              "    }\n",
              "</style>\n",
              "<table border=\"1\" class=\"dataframe\">\n",
              "  <thead>\n",
              "    <tr style=\"text-align: right;\">\n",
              "      <th></th>\n",
              "      <th>data</th>\n",
              "      <th>usuario</th>\n",
              "      <th>apelido</th>\n",
              "      <th>texto</th>\n",
              "      <th>retweet</th>\n",
              "      <th>seguidores</th>\n",
              "      <th>idioma</th>\n",
              "      <th>lugar</th>\n",
              "      <th>pais</th>\n",
              "      <th>sigla</th>\n",
              "      <th>latitude</th>\n",
              "      <th>longitude</th>\n",
              "      <th>hashtags</th>\n",
              "    </tr>\n",
              "  </thead>\n",
              "  <tbody>\n",
              "    <tr>\n",
              "      <th>0</th>\n",
              "      <td>2020-03-23 18:51:14</td>\n",
              "      <td>Gaboardi</td>\n",
              "      <td>fraslee</td>\n",
              "      <td>@BolsonaroSP Cade o fundão deputado??? Congres...</td>\n",
              "      <td>0</td>\n",
              "      <td>138</td>\n",
              "      <td>pt</td>\n",
              "      <td>NaN</td>\n",
              "      <td>NaN</td>\n",
              "      <td>NaN</td>\n",
              "      <td>NaN</td>\n",
              "      <td>NaN</td>\n",
              "      <td>[]</td>\n",
              "    </tr>\n",
              "    <tr>\n",
              "      <th>1</th>\n",
              "      <td>2020-03-18 03:18:14</td>\n",
              "      <td>Seu Zé da Farmácia</td>\n",
              "      <td>seuzedafarmacia</td>\n",
              "      <td>Em ação preventiva, o Governo do Estado suspen...</td>\n",
              "      <td>0</td>\n",
              "      <td>56</td>\n",
              "      <td>pt</td>\n",
              "      <td>NaN</td>\n",
              "      <td>NaN</td>\n",
              "      <td>NaN</td>\n",
              "      <td>NaN</td>\n",
              "      <td>NaN</td>\n",
              "      <td>[]</td>\n",
              "    </tr>\n",
              "    <tr>\n",
              "      <th>2</th>\n",
              "      <td>2020-03-29 12:09:27</td>\n",
              "      <td>Marília Oliveira 🇧🇷</td>\n",
              "      <td>Marioliveira_gb</td>\n",
              "      <td>Incrível como os defensores do fim do distanci...</td>\n",
              "      <td>0</td>\n",
              "      <td>5</td>\n",
              "      <td>pt</td>\n",
              "      <td>NaN</td>\n",
              "      <td>NaN</td>\n",
              "      <td>NaN</td>\n",
              "      <td>NaN</td>\n",
              "      <td>NaN</td>\n",
              "      <td>[]</td>\n",
              "    </tr>\n",
              "    <tr>\n",
              "      <th>3</th>\n",
              "      <td>2020-04-01 21:11:07</td>\n",
              "      <td>🚩</td>\n",
              "      <td>santosodeto</td>\n",
              "      <td>Fumaça de cigarro pode propagar coronavírus? h...</td>\n",
              "      <td>0</td>\n",
              "      <td>1885</td>\n",
              "      <td>pt</td>\n",
              "      <td>NaN</td>\n",
              "      <td>NaN</td>\n",
              "      <td>NaN</td>\n",
              "      <td>NaN</td>\n",
              "      <td>NaN</td>\n",
              "      <td>[]</td>\n",
              "    </tr>\n",
              "    <tr>\n",
              "      <th>4</th>\n",
              "      <td>2020-03-19 17:49:40</td>\n",
              "      <td>Nova Impressão</td>\n",
              "      <td>novaimpressao_</td>\n",
              "      <td>🚨Todos juntos contra COVID-19💪\\n\\nSolicite seu...</td>\n",
              "      <td>0</td>\n",
              "      <td>124</td>\n",
              "      <td>pt</td>\n",
              "      <td>Brasília</td>\n",
              "      <td>Brazil</td>\n",
              "      <td>BR</td>\n",
              "      <td>-47.8778</td>\n",
              "      <td>-15.77691</td>\n",
              "      <td>[]</td>\n",
              "    </tr>\n",
              "  </tbody>\n",
              "</table>\n",
              "</div>"
            ],
            "text/plain": [
              "                  data              usuario  ... longitude hashtags\n",
              "0  2020-03-23 18:51:14             Gaboardi  ...       NaN       []\n",
              "1  2020-03-18 03:18:14   Seu Zé da Farmácia  ...       NaN       []\n",
              "2  2020-03-29 12:09:27  Marília Oliveira 🇧🇷  ...       NaN       []\n",
              "3  2020-04-01 21:11:07                    🚩  ...       NaN       []\n",
              "4  2020-03-19 17:49:40       Nova Impressão  ... -15.77691       []\n",
              "\n",
              "[5 rows x 13 columns]"
            ]
          },
          "metadata": {
            "tags": []
          },
          "execution_count": 13
        }
      ]
    },
    {
      "cell_type": "code",
      "metadata": {
        "id": "VEZ9Y_-PRaA2",
        "outputId": "f1d07e1b-afac-47c6-b7c3-3b5cc98f5d07",
        "colab": {
          "base_uri": "https://localhost:8080/",
          "height": 394
        }
      },
      "source": [
        "tw.tail()"
      ],
      "execution_count": null,
      "outputs": [
        {
          "output_type": "execute_result",
          "data": {
            "text/html": [
              "<div>\n",
              "<style scoped>\n",
              "    .dataframe tbody tr th:only-of-type {\n",
              "        vertical-align: middle;\n",
              "    }\n",
              "\n",
              "    .dataframe tbody tr th {\n",
              "        vertical-align: top;\n",
              "    }\n",
              "\n",
              "    .dataframe thead th {\n",
              "        text-align: right;\n",
              "    }\n",
              "</style>\n",
              "<table border=\"1\" class=\"dataframe\">\n",
              "  <thead>\n",
              "    <tr style=\"text-align: right;\">\n",
              "      <th></th>\n",
              "      <th>data</th>\n",
              "      <th>usuario</th>\n",
              "      <th>apelido</th>\n",
              "      <th>texto</th>\n",
              "      <th>retweet</th>\n",
              "      <th>seguidores</th>\n",
              "      <th>idioma</th>\n",
              "      <th>lugar</th>\n",
              "      <th>pais</th>\n",
              "      <th>sigla</th>\n",
              "      <th>latitude</th>\n",
              "      <th>longitude</th>\n",
              "      <th>hashtags</th>\n",
              "    </tr>\n",
              "  </thead>\n",
              "  <tbody>\n",
              "    <tr>\n",
              "      <th>1658820</th>\n",
              "      <td>2020-03-13 17:26:18</td>\n",
              "      <td>broca</td>\n",
              "      <td>whoisdrill</td>\n",
              "      <td>oms: tamo tendo pandemia evitar\\n conglomerado...</td>\n",
              "      <td>0</td>\n",
              "      <td>361</td>\n",
              "      <td>pt</td>\n",
              "      <td>NaN</td>\n",
              "      <td>NaN</td>\n",
              "      <td>NaN</td>\n",
              "      <td>NaN</td>\n",
              "      <td>NaN</td>\n",
              "      <td>[]</td>\n",
              "    </tr>\n",
              "    <tr>\n",
              "      <th>1658821</th>\n",
              "      <td>2020-05-12 13:02:34</td>\n",
              "      <td>Renato 🇧🇷</td>\n",
              "      <td>VerdadeExpress</td>\n",
              "      <td>@OsmarTerra Sr. Osmar Terra, gostaria de ouvir...</td>\n",
              "      <td>0</td>\n",
              "      <td>4066</td>\n",
              "      <td>pt</td>\n",
              "      <td>NaN</td>\n",
              "      <td>NaN</td>\n",
              "      <td>NaN</td>\n",
              "      <td>NaN</td>\n",
              "      <td>NaN</td>\n",
              "      <td>[]</td>\n",
              "    </tr>\n",
              "    <tr>\n",
              "      <th>1658822</th>\n",
              "      <td>2020-03-19 18:16:30</td>\n",
              "      <td>eugeniocosta8</td>\n",
              "      <td>EugenioCosta8</td>\n",
              "      <td>CIENTISTA DE HARVARD PREVÊ QUE ATÉ 70% DO MUND...</td>\n",
              "      <td>3</td>\n",
              "      <td>5307</td>\n",
              "      <td>pt</td>\n",
              "      <td>NaN</td>\n",
              "      <td>NaN</td>\n",
              "      <td>NaN</td>\n",
              "      <td>NaN</td>\n",
              "      <td>NaN</td>\n",
              "      <td>['CORONAVIRUS']</td>\n",
              "    </tr>\n",
              "    <tr>\n",
              "      <th>1658823</th>\n",
              "      <td>2020-04-07 18:14:45</td>\n",
              "      <td>Wagner Mota - Seriedade + Geek</td>\n",
              "      <td>wagnermota75</td>\n",
              "      <td>#BolsonaroTemRazaoSim porque, quando a prefeit...</td>\n",
              "      <td>0</td>\n",
              "      <td>1000</td>\n",
              "      <td>pt</td>\n",
              "      <td>NaN</td>\n",
              "      <td>NaN</td>\n",
              "      <td>NaN</td>\n",
              "      <td>NaN</td>\n",
              "      <td>NaN</td>\n",
              "      <td>['BolsonaroTemRazaoSim']</td>\n",
              "    </tr>\n",
              "    <tr>\n",
              "      <th>1658824</th>\n",
              "      <td>2020-06-02 16:04:51</td>\n",
              "      <td>Fotógrafo</td>\n",
              "      <td>omarcelogoulart</td>\n",
              "      <td>Em meio a uma pandemia, estamos na luta também...</td>\n",
              "      <td>0</td>\n",
              "      <td>726</td>\n",
              "      <td>pt</td>\n",
              "      <td>São Félix do Araguaia</td>\n",
              "      <td>Brazil</td>\n",
              "      <td>BR</td>\n",
              "      <td>-53.0</td>\n",
              "      <td>-11.0</td>\n",
              "      <td>[]</td>\n",
              "    </tr>\n",
              "  </tbody>\n",
              "</table>\n",
              "</div>"
            ],
            "text/plain": [
              "                        data  ...                  hashtags\n",
              "1658820  2020-03-13 17:26:18  ...                        []\n",
              "1658821  2020-05-12 13:02:34  ...                        []\n",
              "1658822  2020-03-19 18:16:30  ...           ['CORONAVIRUS']\n",
              "1658823  2020-04-07 18:14:45  ...  ['BolsonaroTemRazaoSim']\n",
              "1658824  2020-06-02 16:04:51  ...                        []\n",
              "\n",
              "[5 rows x 13 columns]"
            ]
          },
          "metadata": {
            "tags": []
          },
          "execution_count": 14
        }
      ]
    },
    {
      "cell_type": "code",
      "metadata": {
        "id": "0z5cJ8wwRd0D",
        "outputId": "cfc7488b-556d-4f13-f3f6-ef2c4b1d2845",
        "colab": {
          "base_uri": "https://localhost:8080/",
          "height": 35
        }
      },
      "source": [
        "tw.iloc[4,3]"
      ],
      "execution_count": null,
      "outputs": [
        {
          "output_type": "execute_result",
          "data": {
            "application/vnd.google.colaboratory.intrinsic+json": {
              "type": "string"
            },
            "text/plain": [
              "'🚨Todos juntos contra COVID-19💪\\n\\nSolicite seu material por e-mail ou WhatsApp. Caso venha até a empresa traga seu ma… https://t.co/p6wcoomynZ'"
            ]
          },
          "metadata": {
            "tags": []
          },
          "execution_count": 15
        }
      ]
    },
    {
      "cell_type": "code",
      "metadata": {
        "id": "ADcz99oXRj__",
        "outputId": "a7f641cc-a41b-4f8e-bfea-e0c21417e435",
        "colab": {
          "base_uri": "https://localhost:8080/",
          "height": 221
        }
      },
      "source": [
        "tw.sigla.unique()"
      ],
      "execution_count": null,
      "outputs": [
        {
          "output_type": "execute_result",
          "data": {
            "text/plain": [
              "array([nan, 'BR', 'IE', 'PT', 'ES', 'DE', 'CA', 'US', 'AO', 'UG', 'NL',\n",
              "       'JP', 'GB', 'MZ', 'BE', 'SA', 'VE', 'PK', 'ID', 'CL', 'SN', 'AR',\n",
              "       'CO', 'FR', 'TR', 'AT', 'PY', 'IT', 'NZ', 'KE', 'CN', 'PA', 'GH',\n",
              "       'EC', 'HT', 'AU', 'MX', 'PH', 'HR', 'ZA', 'DK', 'IN', 'CR', 'NG',\n",
              "       'MY', 'KP', 'UY', 'CY', 'EG', 'DO', 'VN', 'BH', 'SV', 'CH', 'AE',\n",
              "       'LK', 'CV', 'SK', 'SE', 'IL', 'HN', 'ME', 'TH', 'PE', 'CZ', 'LU',\n",
              "       'OM', 'TW', 'GE', 'IR', 'CI', 'BW', 'UA', 'LB', 'RO', 'KZ', 'TL',\n",
              "       'BO', 'MO', 'NO', 'CM', 'SG', 'IQ', 'QA', 'JM', 'CD', 'GT', 'EE',\n",
              "       'CW', 'RU', 'BS', 'KR', 'XK', 'KW', 'GW', 'CU', 'CF', 'TZ', 'PL',\n",
              "       'VA', 'TT', 'GR', 'GN', 'NI', 'SR', 'JO', 'MA', 'ZW', 'FI', 'GF',\n",
              "       'AM', 'SI', 'HU', 'GP', 'LA', 'MG', 'AD', 'MC', 'MT', 'TD', 'LT'],\n",
              "      dtype=object)"
            ]
          },
          "metadata": {
            "tags": []
          },
          "execution_count": 16
        }
      ]
    },
    {
      "cell_type": "code",
      "metadata": {
        "id": "yND184tiS_Dr",
        "outputId": "894d90d9-2528-442a-ff81-dc38dec2ddbb",
        "colab": {
          "base_uri": "https://localhost:8080/",
          "height": 779
        }
      },
      "source": [
        "tw"
      ],
      "execution_count": null,
      "outputs": [
        {
          "output_type": "execute_result",
          "data": {
            "text/html": [
              "<div>\n",
              "<style scoped>\n",
              "    .dataframe tbody tr th:only-of-type {\n",
              "        vertical-align: middle;\n",
              "    }\n",
              "\n",
              "    .dataframe tbody tr th {\n",
              "        vertical-align: top;\n",
              "    }\n",
              "\n",
              "    .dataframe thead th {\n",
              "        text-align: right;\n",
              "    }\n",
              "</style>\n",
              "<table border=\"1\" class=\"dataframe\">\n",
              "  <thead>\n",
              "    <tr style=\"text-align: right;\">\n",
              "      <th></th>\n",
              "      <th>data</th>\n",
              "      <th>usuario</th>\n",
              "      <th>apelido</th>\n",
              "      <th>texto</th>\n",
              "      <th>retweet</th>\n",
              "      <th>seguidores</th>\n",
              "      <th>idioma</th>\n",
              "      <th>lugar</th>\n",
              "      <th>pais</th>\n",
              "      <th>sigla</th>\n",
              "      <th>latitude</th>\n",
              "      <th>longitude</th>\n",
              "      <th>hashtags</th>\n",
              "    </tr>\n",
              "  </thead>\n",
              "  <tbody>\n",
              "    <tr>\n",
              "      <th>0</th>\n",
              "      <td>2020-03-23 18:51:14</td>\n",
              "      <td>Gaboardi</td>\n",
              "      <td>fraslee</td>\n",
              "      <td>@BolsonaroSP Cade o fundão deputado??? Congres...</td>\n",
              "      <td>0</td>\n",
              "      <td>138</td>\n",
              "      <td>pt</td>\n",
              "      <td>NaN</td>\n",
              "      <td>NaN</td>\n",
              "      <td>NaN</td>\n",
              "      <td>NaN</td>\n",
              "      <td>NaN</td>\n",
              "      <td>[]</td>\n",
              "    </tr>\n",
              "    <tr>\n",
              "      <th>1</th>\n",
              "      <td>2020-03-18 03:18:14</td>\n",
              "      <td>Seu Zé da Farmácia</td>\n",
              "      <td>seuzedafarmacia</td>\n",
              "      <td>Em ação preventiva, o Governo do Estado suspen...</td>\n",
              "      <td>0</td>\n",
              "      <td>56</td>\n",
              "      <td>pt</td>\n",
              "      <td>NaN</td>\n",
              "      <td>NaN</td>\n",
              "      <td>NaN</td>\n",
              "      <td>NaN</td>\n",
              "      <td>NaN</td>\n",
              "      <td>[]</td>\n",
              "    </tr>\n",
              "    <tr>\n",
              "      <th>2</th>\n",
              "      <td>2020-03-29 12:09:27</td>\n",
              "      <td>Marília Oliveira 🇧🇷</td>\n",
              "      <td>Marioliveira_gb</td>\n",
              "      <td>Incrível como os defensores do fim do distanci...</td>\n",
              "      <td>0</td>\n",
              "      <td>5</td>\n",
              "      <td>pt</td>\n",
              "      <td>NaN</td>\n",
              "      <td>NaN</td>\n",
              "      <td>NaN</td>\n",
              "      <td>NaN</td>\n",
              "      <td>NaN</td>\n",
              "      <td>[]</td>\n",
              "    </tr>\n",
              "    <tr>\n",
              "      <th>3</th>\n",
              "      <td>2020-04-01 21:11:07</td>\n",
              "      <td>🚩</td>\n",
              "      <td>santosodeto</td>\n",
              "      <td>Fumaça de cigarro pode propagar coronavírus? h...</td>\n",
              "      <td>0</td>\n",
              "      <td>1885</td>\n",
              "      <td>pt</td>\n",
              "      <td>NaN</td>\n",
              "      <td>NaN</td>\n",
              "      <td>NaN</td>\n",
              "      <td>NaN</td>\n",
              "      <td>NaN</td>\n",
              "      <td>[]</td>\n",
              "    </tr>\n",
              "    <tr>\n",
              "      <th>4</th>\n",
              "      <td>2020-03-19 17:49:40</td>\n",
              "      <td>Nova Impressão</td>\n",
              "      <td>novaimpressao_</td>\n",
              "      <td>🚨Todos juntos contra COVID-19💪\\n\\nSolicite seu...</td>\n",
              "      <td>0</td>\n",
              "      <td>124</td>\n",
              "      <td>pt</td>\n",
              "      <td>Brasília</td>\n",
              "      <td>Brazil</td>\n",
              "      <td>BR</td>\n",
              "      <td>-47.8778</td>\n",
              "      <td>-15.77691</td>\n",
              "      <td>[]</td>\n",
              "    </tr>\n",
              "    <tr>\n",
              "      <th>...</th>\n",
              "      <td>...</td>\n",
              "      <td>...</td>\n",
              "      <td>...</td>\n",
              "      <td>...</td>\n",
              "      <td>...</td>\n",
              "      <td>...</td>\n",
              "      <td>...</td>\n",
              "      <td>...</td>\n",
              "      <td>...</td>\n",
              "      <td>...</td>\n",
              "      <td>...</td>\n",
              "      <td>...</td>\n",
              "      <td>...</td>\n",
              "    </tr>\n",
              "    <tr>\n",
              "      <th>1658820</th>\n",
              "      <td>2020-03-13 17:26:18</td>\n",
              "      <td>broca</td>\n",
              "      <td>whoisdrill</td>\n",
              "      <td>oms: tamo tendo pandemia evitar\\n conglomerado...</td>\n",
              "      <td>0</td>\n",
              "      <td>361</td>\n",
              "      <td>pt</td>\n",
              "      <td>NaN</td>\n",
              "      <td>NaN</td>\n",
              "      <td>NaN</td>\n",
              "      <td>NaN</td>\n",
              "      <td>NaN</td>\n",
              "      <td>[]</td>\n",
              "    </tr>\n",
              "    <tr>\n",
              "      <th>1658821</th>\n",
              "      <td>2020-05-12 13:02:34</td>\n",
              "      <td>Renato 🇧🇷</td>\n",
              "      <td>VerdadeExpress</td>\n",
              "      <td>@OsmarTerra Sr. Osmar Terra, gostaria de ouvir...</td>\n",
              "      <td>0</td>\n",
              "      <td>4066</td>\n",
              "      <td>pt</td>\n",
              "      <td>NaN</td>\n",
              "      <td>NaN</td>\n",
              "      <td>NaN</td>\n",
              "      <td>NaN</td>\n",
              "      <td>NaN</td>\n",
              "      <td>[]</td>\n",
              "    </tr>\n",
              "    <tr>\n",
              "      <th>1658822</th>\n",
              "      <td>2020-03-19 18:16:30</td>\n",
              "      <td>eugeniocosta8</td>\n",
              "      <td>EugenioCosta8</td>\n",
              "      <td>CIENTISTA DE HARVARD PREVÊ QUE ATÉ 70% DO MUND...</td>\n",
              "      <td>3</td>\n",
              "      <td>5307</td>\n",
              "      <td>pt</td>\n",
              "      <td>NaN</td>\n",
              "      <td>NaN</td>\n",
              "      <td>NaN</td>\n",
              "      <td>NaN</td>\n",
              "      <td>NaN</td>\n",
              "      <td>['CORONAVIRUS']</td>\n",
              "    </tr>\n",
              "    <tr>\n",
              "      <th>1658823</th>\n",
              "      <td>2020-04-07 18:14:45</td>\n",
              "      <td>Wagner Mota - Seriedade + Geek</td>\n",
              "      <td>wagnermota75</td>\n",
              "      <td>#BolsonaroTemRazaoSim porque, quando a prefeit...</td>\n",
              "      <td>0</td>\n",
              "      <td>1000</td>\n",
              "      <td>pt</td>\n",
              "      <td>NaN</td>\n",
              "      <td>NaN</td>\n",
              "      <td>NaN</td>\n",
              "      <td>NaN</td>\n",
              "      <td>NaN</td>\n",
              "      <td>['BolsonaroTemRazaoSim']</td>\n",
              "    </tr>\n",
              "    <tr>\n",
              "      <th>1658824</th>\n",
              "      <td>2020-06-02 16:04:51</td>\n",
              "      <td>Fotógrafo</td>\n",
              "      <td>omarcelogoulart</td>\n",
              "      <td>Em meio a uma pandemia, estamos na luta também...</td>\n",
              "      <td>0</td>\n",
              "      <td>726</td>\n",
              "      <td>pt</td>\n",
              "      <td>São Félix do Araguaia</td>\n",
              "      <td>Brazil</td>\n",
              "      <td>BR</td>\n",
              "      <td>-53.0000</td>\n",
              "      <td>-11.00000</td>\n",
              "      <td>[]</td>\n",
              "    </tr>\n",
              "  </tbody>\n",
              "</table>\n",
              "<p>1658825 rows × 13 columns</p>\n",
              "</div>"
            ],
            "text/plain": [
              "                        data  ...                  hashtags\n",
              "0        2020-03-23 18:51:14  ...                        []\n",
              "1        2020-03-18 03:18:14  ...                        []\n",
              "2        2020-03-29 12:09:27  ...                        []\n",
              "3        2020-04-01 21:11:07  ...                        []\n",
              "4        2020-03-19 17:49:40  ...                        []\n",
              "...                      ...  ...                       ...\n",
              "1658820  2020-03-13 17:26:18  ...                        []\n",
              "1658821  2020-05-12 13:02:34  ...                        []\n",
              "1658822  2020-03-19 18:16:30  ...           ['CORONAVIRUS']\n",
              "1658823  2020-04-07 18:14:45  ...  ['BolsonaroTemRazaoSim']\n",
              "1658824  2020-06-02 16:04:51  ...                        []\n",
              "\n",
              "[1658825 rows x 13 columns]"
            ]
          },
          "metadata": {
            "tags": []
          },
          "execution_count": 17
        }
      ]
    },
    {
      "cell_type": "code",
      "metadata": {
        "id": "DuT4Er_RUIF8",
        "outputId": "33484bed-f7ff-4d8a-f30b-6ff1828d473f",
        "colab": {
          "base_uri": "https://localhost:8080/",
          "height": 68
        }
      },
      "source": [
        "tw.columns.values"
      ],
      "execution_count": null,
      "outputs": [
        {
          "output_type": "execute_result",
          "data": {
            "text/plain": [
              "array(['data', 'usuario', 'apelido', 'texto', 'retweet', 'seguidores',\n",
              "       'idioma', 'lugar', 'pais', 'sigla', 'latitude', 'longitude',\n",
              "       'hashtags'], dtype=object)"
            ]
          },
          "metadata": {
            "tags": []
          },
          "execution_count": 20
        }
      ]
    },
    {
      "cell_type": "code",
      "metadata": {
        "id": "b_ZtTleEUqU1"
      },
      "source": [
        "twselect = tw.filter(items=['texto'])"
      ],
      "execution_count": null,
      "outputs": []
    },
    {
      "cell_type": "code",
      "metadata": {
        "id": "YeyP8ZXAU0W9",
        "outputId": "0b837a20-6295-4755-a7e7-01512daf78dc",
        "colab": {
          "base_uri": "https://localhost:8080/",
          "height": 419
        }
      },
      "source": [
        "twselect"
      ],
      "execution_count": null,
      "outputs": [
        {
          "output_type": "execute_result",
          "data": {
            "text/html": [
              "<div>\n",
              "<style scoped>\n",
              "    .dataframe tbody tr th:only-of-type {\n",
              "        vertical-align: middle;\n",
              "    }\n",
              "\n",
              "    .dataframe tbody tr th {\n",
              "        vertical-align: top;\n",
              "    }\n",
              "\n",
              "    .dataframe thead th {\n",
              "        text-align: right;\n",
              "    }\n",
              "</style>\n",
              "<table border=\"1\" class=\"dataframe\">\n",
              "  <thead>\n",
              "    <tr style=\"text-align: right;\">\n",
              "      <th></th>\n",
              "      <th>texto</th>\n",
              "    </tr>\n",
              "  </thead>\n",
              "  <tbody>\n",
              "    <tr>\n",
              "      <th>0</th>\n",
              "      <td>@BolsonaroSP Cade o fundão deputado??? Congres...</td>\n",
              "    </tr>\n",
              "    <tr>\n",
              "      <th>1</th>\n",
              "      <td>Em ação preventiva, o Governo do Estado suspen...</td>\n",
              "    </tr>\n",
              "    <tr>\n",
              "      <th>2</th>\n",
              "      <td>Incrível como os defensores do fim do distanci...</td>\n",
              "    </tr>\n",
              "    <tr>\n",
              "      <th>3</th>\n",
              "      <td>Fumaça de cigarro pode propagar coronavírus? h...</td>\n",
              "    </tr>\n",
              "    <tr>\n",
              "      <th>4</th>\n",
              "      <td>🚨Todos juntos contra COVID-19💪\\n\\nSolicite seu...</td>\n",
              "    </tr>\n",
              "    <tr>\n",
              "      <th>...</th>\n",
              "      <td>...</td>\n",
              "    </tr>\n",
              "    <tr>\n",
              "      <th>1658820</th>\n",
              "      <td>oms: tamo tendo pandemia evitar\\n conglomerado...</td>\n",
              "    </tr>\n",
              "    <tr>\n",
              "      <th>1658821</th>\n",
              "      <td>@OsmarTerra Sr. Osmar Terra, gostaria de ouvir...</td>\n",
              "    </tr>\n",
              "    <tr>\n",
              "      <th>1658822</th>\n",
              "      <td>CIENTISTA DE HARVARD PREVÊ QUE ATÉ 70% DO MUND...</td>\n",
              "    </tr>\n",
              "    <tr>\n",
              "      <th>1658823</th>\n",
              "      <td>#BolsonaroTemRazaoSim porque, quando a prefeit...</td>\n",
              "    </tr>\n",
              "    <tr>\n",
              "      <th>1658824</th>\n",
              "      <td>Em meio a uma pandemia, estamos na luta também...</td>\n",
              "    </tr>\n",
              "  </tbody>\n",
              "</table>\n",
              "<p>1658825 rows × 1 columns</p>\n",
              "</div>"
            ],
            "text/plain": [
              "                                                     texto\n",
              "0        @BolsonaroSP Cade o fundão deputado??? Congres...\n",
              "1        Em ação preventiva, o Governo do Estado suspen...\n",
              "2        Incrível como os defensores do fim do distanci...\n",
              "3        Fumaça de cigarro pode propagar coronavírus? h...\n",
              "4        🚨Todos juntos contra COVID-19💪\\n\\nSolicite seu...\n",
              "...                                                    ...\n",
              "1658820  oms: tamo tendo pandemia evitar\\n conglomerado...\n",
              "1658821  @OsmarTerra Sr. Osmar Terra, gostaria de ouvir...\n",
              "1658822  CIENTISTA DE HARVARD PREVÊ QUE ATÉ 70% DO MUND...\n",
              "1658823  #BolsonaroTemRazaoSim porque, quando a prefeit...\n",
              "1658824  Em meio a uma pandemia, estamos na luta também...\n",
              "\n",
              "[1658825 rows x 1 columns]"
            ]
          },
          "metadata": {
            "tags": []
          },
          "execution_count": 22
        }
      ]
    }
  ]
}