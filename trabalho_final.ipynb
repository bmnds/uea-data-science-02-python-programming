{
  "nbformat": 4,
  "nbformat_minor": 0,
  "metadata": {
    "colab": {
      "name": "trabalho_final.ipynb",
      "provenance": [],
      "collapsed_sections": [],
      "include_colab_link": true
    },
    "kernelspec": {
      "name": "python3",
      "display_name": "Python 3"
    }
  },
  "cells": [
    {
      "cell_type": "markdown",
      "metadata": {
        "id": "view-in-github",
        "colab_type": "text"
      },
      "source": [
        "<a href=\"https://colab.research.google.com/github/bmnds/uea-data-science-02-python-programming/blob/master/trabalho_final.ipynb\" target=\"_parent\"><img src=\"https://colab.research.google.com/assets/colab-badge.svg\" alt=\"Open In Colab\"/></a>"
      ]
    },
    {
      "cell_type": "markdown",
      "metadata": {
        "id": "Fw2R7uGSM_px"
      },
      "source": [
        "# Trabalho Final da Disciplina de Programação para Ciência de Dados do Curso de Pós-Graduação em Ciência de Dados da UEA-AM\n",
        "Dupla: Alberto e Bruno\n",
        "\n",
        "## Objetivo\n",
        "Analisar o _dataset_ de _tweets_ fornecido, referente ao período da pandemia, para extrair _insights_ gerais e também a respeito dos temas discutidos, da temporalidade e da localização geográfica.\n",
        "\n",
        "## Estrutura do Trabalho\n",
        "O trabalho foi organizado seguindo a ordem de especificação do trabalho fornecida pelo professor.\n",
        "\n",
        "### 1. Visão Geral\n",
        "* [ ] Importar todos os **tweets** e descrevê-los\n",
        "* [ ] Extrair somente as **perguntas** e descrevê-las\n",
        "\n",
        "### 2. Temas Discutidos\n",
        "Analisar perguntas, sobre:\n",
        "* [ ] **Doença**\n",
        "* [ ] **Medicamentos**\n",
        "* [ ] **Organizações**\n",
        "* [ ] **Pessoas**\n",
        "\n",
        "### 3. Visão Temporal\n",
        "* [ ] Definir o intervalo de tempo em dias, semanas ou meses\n",
        "* [ ] Apresentar pelo menos duas análises temporais\n",
        "\n",
        "### 4. Visão Geográfica\n",
        "* [ ] Definir como classificar geograficamente os dados fornecidos\n",
        "* [ ] Apresentar pelo menos duas análises geográficas\n",
        "\n",
        "## Checklist de Tecnologias\n",
        "* [x] Google Colaboratory\n",
        "* [x] GitHub\n",
        "* [x] Jupyter Notebook\n",
        "* [ ] NumPy\n",
        "* [ ] MatPlotLib\n",
        "* [ ] Seaborn\n",
        "* [ ] Plotly\n"
      ]
    },
    {
      "cell_type": "markdown",
      "metadata": {
        "id": "Qp5qa9LRNO_n"
      },
      "source": [
        "## Estrutura do trabalho\n",
        "* [ ] Importação dos"
      ]
    },
    {
      "cell_type": "markdown",
      "metadata": {
        "id": "44D1aVWCQtkD"
      },
      "source": [
        "Importação do pandas"
      ]
    },
    {
      "cell_type": "code",
      "metadata": {
        "id": "8kzthDosQb9y"
      },
      "source": [
        "import pandas as pd\n",
        "import matplotlib\n",
        "!pip install geopandas\n",
        "from shapely.geometry import Point\n",
        "import geopandas as gpd\n",
        "from geopandas import GeoDataFrame"
      ],
      "execution_count": 13,
      "outputs": []
    },
    {
      "cell_type": "markdown",
      "metadata": {
        "id": "rqg6_gsMAmnO"
      },
      "source": [
        "Importação do banco de dados"
      ]
    },
    {
      "cell_type": "code",
      "metadata": {
        "id": "ll75aQpyAixs",
        "outputId": "ffeba93a-afcc-4fa7-dc7a-fcbf76fd54be",
        "colab": {
          "base_uri": "https://localhost:8080/",
          "height": 204
        }
      },
      "source": [
        "!wget http://tiagodemelo.info/datasets/dados-curso-completo.csv.tar.gz"
      ],
      "execution_count": 2,
      "outputs": [
        {
          "output_type": "stream",
          "text": [
            "--2020-10-23 00:38:19--  http://tiagodemelo.info/datasets/dados-curso-completo.csv.tar.gz\n",
            "Resolving tiagodemelo.info (tiagodemelo.info)... 108.167.188.189\n",
            "Connecting to tiagodemelo.info (tiagodemelo.info)|108.167.188.189|:80... connected.\n",
            "HTTP request sent, awaiting response... 200 OK\n",
            "Length: 143340808 (137M) [application/x-gzip]\n",
            "Saving to: ‘dados-curso-completo.csv.tar.gz’\n",
            "\n",
            "dados-curso-complet 100%[===================>] 136.70M  60.8MB/s    in 2.2s    \n",
            "\n",
            "2020-10-23 00:38:22 (60.8 MB/s) - ‘dados-curso-completo.csv.tar.gz’ saved [143340808/143340808]\n",
            "\n"
          ],
          "name": "stdout"
        }
      ]
    },
    {
      "cell_type": "code",
      "metadata": {
        "id": "7IKbYvKIAqo5",
        "outputId": "87012fc2-8fbc-4499-d804-c67e6e5818fa",
        "colab": {
          "base_uri": "https://localhost:8080/",
          "height": 34
        }
      },
      "source": [
        "!tar -xvf dados-curso-completo.csv.tar.gz"
      ],
      "execution_count": 8,
      "outputs": [
        {
          "output_type": "stream",
          "text": [
            "dados-curso-completo.csv\n"
          ],
          "name": "stdout"
        }
      ]
    },
    {
      "cell_type": "code",
      "metadata": {
        "id": "s5J8I6uRQ2sV"
      },
      "source": [
        "tw=pd.read_csv(\"dados-curso-completo.csv\")"
      ],
      "execution_count": 14,
      "outputs": []
    },
    {
      "cell_type": "code",
      "metadata": {
        "id": "VKtwWawmRHyo",
        "outputId": "ae9c811a-e94b-4949-dc28-7897ca558f7a",
        "colab": {
          "base_uri": "https://localhost:8080/",
          "height": 297
        }
      },
      "source": [
        "tw.describe()"
      ],
      "execution_count": 15,
      "outputs": [
        {
          "output_type": "execute_result",
          "data": {
            "text/html": [
              "<div>\n",
              "<style scoped>\n",
              "    .dataframe tbody tr th:only-of-type {\n",
              "        vertical-align: middle;\n",
              "    }\n",
              "\n",
              "    .dataframe tbody tr th {\n",
              "        vertical-align: top;\n",
              "    }\n",
              "\n",
              "    .dataframe thead th {\n",
              "        text-align: right;\n",
              "    }\n",
              "</style>\n",
              "<table border=\"1\" class=\"dataframe\">\n",
              "  <thead>\n",
              "    <tr style=\"text-align: right;\">\n",
              "      <th></th>\n",
              "      <th>retweet</th>\n",
              "      <th>seguidores</th>\n",
              "      <th>latitude</th>\n",
              "      <th>longitude</th>\n",
              "    </tr>\n",
              "  </thead>\n",
              "  <tbody>\n",
              "    <tr>\n",
              "      <th>count</th>\n",
              "      <td>1.658825e+06</td>\n",
              "      <td>1.658825e+06</td>\n",
              "      <td>8720.000000</td>\n",
              "      <td>8720.000000</td>\n",
              "    </tr>\n",
              "    <tr>\n",
              "      <th>mean</th>\n",
              "      <td>1.978533e+02</td>\n",
              "      <td>3.257206e+04</td>\n",
              "      <td>-40.237583</td>\n",
              "      <td>-11.117100</td>\n",
              "    </tr>\n",
              "    <tr>\n",
              "      <th>std</th>\n",
              "      <td>6.337641e+03</td>\n",
              "      <td>3.680300e+05</td>\n",
              "      <td>20.808494</td>\n",
              "      <td>19.169105</td>\n",
              "    </tr>\n",
              "    <tr>\n",
              "      <th>min</th>\n",
              "      <td>0.000000e+00</td>\n",
              "      <td>0.000000e+00</td>\n",
              "      <td>-123.120400</td>\n",
              "      <td>-37.818769</td>\n",
              "    </tr>\n",
              "    <tr>\n",
              "      <th>25%</th>\n",
              "      <td>0.000000e+00</td>\n",
              "      <td>1.010000e+02</td>\n",
              "      <td>-47.864334</td>\n",
              "      <td>-23.305300</td>\n",
              "    </tr>\n",
              "    <tr>\n",
              "      <th>50%</th>\n",
              "      <td>0.000000e+00</td>\n",
              "      <td>3.800000e+02</td>\n",
              "      <td>-43.955615</td>\n",
              "      <td>-19.624400</td>\n",
              "    </tr>\n",
              "    <tr>\n",
              "      <th>75%</th>\n",
              "      <td>0.000000e+00</td>\n",
              "      <td>1.470000e+03</td>\n",
              "      <td>-38.453198</td>\n",
              "      <td>-7.120700</td>\n",
              "    </tr>\n",
              "    <tr>\n",
              "      <th>max</th>\n",
              "      <td>1.139763e+06</td>\n",
              "      <td>8.424125e+07</td>\n",
              "      <td>174.789310</td>\n",
              "      <td>58.257776</td>\n",
              "    </tr>\n",
              "  </tbody>\n",
              "</table>\n",
              "</div>"
            ],
            "text/plain": [
              "            retweet    seguidores     latitude    longitude\n",
              "count  1.658825e+06  1.658825e+06  8720.000000  8720.000000\n",
              "mean   1.978533e+02  3.257206e+04   -40.237583   -11.117100\n",
              "std    6.337641e+03  3.680300e+05    20.808494    19.169105\n",
              "min    0.000000e+00  0.000000e+00  -123.120400   -37.818769\n",
              "25%    0.000000e+00  1.010000e+02   -47.864334   -23.305300\n",
              "50%    0.000000e+00  3.800000e+02   -43.955615   -19.624400\n",
              "75%    0.000000e+00  1.470000e+03   -38.453198    -7.120700\n",
              "max    1.139763e+06  8.424125e+07   174.789310    58.257776"
            ]
          },
          "metadata": {
            "tags": []
          },
          "execution_count": 15
        }
      ]
    },
    {
      "cell_type": "markdown",
      "metadata": {
        "id": "JnCwx2_XQLVP"
      },
      "source": [
        "#1. Visão Geral\n",
        "Descrição dos twitters com um periodo de janeiro à Julho de 2020"
      ]
    },
    {
      "cell_type": "code",
      "metadata": {
        "id": "URoyvh9_RUaA",
        "outputId": "e7b11bc8-d414-483f-9039-51e539ecc4ef",
        "colab": {
          "base_uri": "https://localhost:8080/",
          "height": 289
        }
      },
      "source": [
        "tw.head()"
      ],
      "execution_count": 16,
      "outputs": [
        {
          "output_type": "execute_result",
          "data": {
            "text/html": [
              "<div>\n",
              "<style scoped>\n",
              "    .dataframe tbody tr th:only-of-type {\n",
              "        vertical-align: middle;\n",
              "    }\n",
              "\n",
              "    .dataframe tbody tr th {\n",
              "        vertical-align: top;\n",
              "    }\n",
              "\n",
              "    .dataframe thead th {\n",
              "        text-align: right;\n",
              "    }\n",
              "</style>\n",
              "<table border=\"1\" class=\"dataframe\">\n",
              "  <thead>\n",
              "    <tr style=\"text-align: right;\">\n",
              "      <th></th>\n",
              "      <th>data</th>\n",
              "      <th>usuario</th>\n",
              "      <th>apelido</th>\n",
              "      <th>texto</th>\n",
              "      <th>retweet</th>\n",
              "      <th>seguidores</th>\n",
              "      <th>idioma</th>\n",
              "      <th>lugar</th>\n",
              "      <th>pais</th>\n",
              "      <th>sigla</th>\n",
              "      <th>latitude</th>\n",
              "      <th>longitude</th>\n",
              "      <th>hashtags</th>\n",
              "    </tr>\n",
              "  </thead>\n",
              "  <tbody>\n",
              "    <tr>\n",
              "      <th>0</th>\n",
              "      <td>2020-03-23 18:51:14</td>\n",
              "      <td>Gaboardi</td>\n",
              "      <td>fraslee</td>\n",
              "      <td>@BolsonaroSP Cade o fundão deputado??? Congres...</td>\n",
              "      <td>0</td>\n",
              "      <td>138</td>\n",
              "      <td>pt</td>\n",
              "      <td>NaN</td>\n",
              "      <td>NaN</td>\n",
              "      <td>NaN</td>\n",
              "      <td>NaN</td>\n",
              "      <td>NaN</td>\n",
              "      <td>[]</td>\n",
              "    </tr>\n",
              "    <tr>\n",
              "      <th>1</th>\n",
              "      <td>2020-03-18 03:18:14</td>\n",
              "      <td>Seu Zé da Farmácia</td>\n",
              "      <td>seuzedafarmacia</td>\n",
              "      <td>Em ação preventiva, o Governo do Estado suspen...</td>\n",
              "      <td>0</td>\n",
              "      <td>56</td>\n",
              "      <td>pt</td>\n",
              "      <td>NaN</td>\n",
              "      <td>NaN</td>\n",
              "      <td>NaN</td>\n",
              "      <td>NaN</td>\n",
              "      <td>NaN</td>\n",
              "      <td>[]</td>\n",
              "    </tr>\n",
              "    <tr>\n",
              "      <th>2</th>\n",
              "      <td>2020-03-29 12:09:27</td>\n",
              "      <td>Marília Oliveira 🇧🇷</td>\n",
              "      <td>Marioliveira_gb</td>\n",
              "      <td>Incrível como os defensores do fim do distanci...</td>\n",
              "      <td>0</td>\n",
              "      <td>5</td>\n",
              "      <td>pt</td>\n",
              "      <td>NaN</td>\n",
              "      <td>NaN</td>\n",
              "      <td>NaN</td>\n",
              "      <td>NaN</td>\n",
              "      <td>NaN</td>\n",
              "      <td>[]</td>\n",
              "    </tr>\n",
              "    <tr>\n",
              "      <th>3</th>\n",
              "      <td>2020-04-01 21:11:07</td>\n",
              "      <td>🚩</td>\n",
              "      <td>santosodeto</td>\n",
              "      <td>Fumaça de cigarro pode propagar coronavírus? h...</td>\n",
              "      <td>0</td>\n",
              "      <td>1885</td>\n",
              "      <td>pt</td>\n",
              "      <td>NaN</td>\n",
              "      <td>NaN</td>\n",
              "      <td>NaN</td>\n",
              "      <td>NaN</td>\n",
              "      <td>NaN</td>\n",
              "      <td>[]</td>\n",
              "    </tr>\n",
              "    <tr>\n",
              "      <th>4</th>\n",
              "      <td>2020-03-19 17:49:40</td>\n",
              "      <td>Nova Impressão</td>\n",
              "      <td>novaimpressao_</td>\n",
              "      <td>🚨Todos juntos contra COVID-19💪\\n\\nSolicite seu...</td>\n",
              "      <td>0</td>\n",
              "      <td>124</td>\n",
              "      <td>pt</td>\n",
              "      <td>Brasília</td>\n",
              "      <td>Brazil</td>\n",
              "      <td>BR</td>\n",
              "      <td>-47.8778</td>\n",
              "      <td>-15.77691</td>\n",
              "      <td>[]</td>\n",
              "    </tr>\n",
              "  </tbody>\n",
              "</table>\n",
              "</div>"
            ],
            "text/plain": [
              "                  data              usuario  ... longitude hashtags\n",
              "0  2020-03-23 18:51:14             Gaboardi  ...       NaN       []\n",
              "1  2020-03-18 03:18:14   Seu Zé da Farmácia  ...       NaN       []\n",
              "2  2020-03-29 12:09:27  Marília Oliveira 🇧🇷  ...       NaN       []\n",
              "3  2020-04-01 21:11:07                    🚩  ...       NaN       []\n",
              "4  2020-03-19 17:49:40       Nova Impressão  ... -15.77691       []\n",
              "\n",
              "[5 rows x 13 columns]"
            ]
          },
          "metadata": {
            "tags": []
          },
          "execution_count": 16
        }
      ]
    },
    {
      "cell_type": "code",
      "metadata": {
        "id": "VEZ9Y_-PRaA2",
        "outputId": "b00b2ffa-126a-423f-db44-27e4cf34d174",
        "colab": {
          "base_uri": "https://localhost:8080/",
          "height": 394
        }
      },
      "source": [
        "tw.tail()"
      ],
      "execution_count": 17,
      "outputs": [
        {
          "output_type": "execute_result",
          "data": {
            "text/html": [
              "<div>\n",
              "<style scoped>\n",
              "    .dataframe tbody tr th:only-of-type {\n",
              "        vertical-align: middle;\n",
              "    }\n",
              "\n",
              "    .dataframe tbody tr th {\n",
              "        vertical-align: top;\n",
              "    }\n",
              "\n",
              "    .dataframe thead th {\n",
              "        text-align: right;\n",
              "    }\n",
              "</style>\n",
              "<table border=\"1\" class=\"dataframe\">\n",
              "  <thead>\n",
              "    <tr style=\"text-align: right;\">\n",
              "      <th></th>\n",
              "      <th>data</th>\n",
              "      <th>usuario</th>\n",
              "      <th>apelido</th>\n",
              "      <th>texto</th>\n",
              "      <th>retweet</th>\n",
              "      <th>seguidores</th>\n",
              "      <th>idioma</th>\n",
              "      <th>lugar</th>\n",
              "      <th>pais</th>\n",
              "      <th>sigla</th>\n",
              "      <th>latitude</th>\n",
              "      <th>longitude</th>\n",
              "      <th>hashtags</th>\n",
              "    </tr>\n",
              "  </thead>\n",
              "  <tbody>\n",
              "    <tr>\n",
              "      <th>1658820</th>\n",
              "      <td>2020-03-13 17:26:18</td>\n",
              "      <td>broca</td>\n",
              "      <td>whoisdrill</td>\n",
              "      <td>oms: tamo tendo pandemia evitar\\n conglomerado...</td>\n",
              "      <td>0</td>\n",
              "      <td>361</td>\n",
              "      <td>pt</td>\n",
              "      <td>NaN</td>\n",
              "      <td>NaN</td>\n",
              "      <td>NaN</td>\n",
              "      <td>NaN</td>\n",
              "      <td>NaN</td>\n",
              "      <td>[]</td>\n",
              "    </tr>\n",
              "    <tr>\n",
              "      <th>1658821</th>\n",
              "      <td>2020-05-12 13:02:34</td>\n",
              "      <td>Renato 🇧🇷</td>\n",
              "      <td>VerdadeExpress</td>\n",
              "      <td>@OsmarTerra Sr. Osmar Terra, gostaria de ouvir...</td>\n",
              "      <td>0</td>\n",
              "      <td>4066</td>\n",
              "      <td>pt</td>\n",
              "      <td>NaN</td>\n",
              "      <td>NaN</td>\n",
              "      <td>NaN</td>\n",
              "      <td>NaN</td>\n",
              "      <td>NaN</td>\n",
              "      <td>[]</td>\n",
              "    </tr>\n",
              "    <tr>\n",
              "      <th>1658822</th>\n",
              "      <td>2020-03-19 18:16:30</td>\n",
              "      <td>eugeniocosta8</td>\n",
              "      <td>EugenioCosta8</td>\n",
              "      <td>CIENTISTA DE HARVARD PREVÊ QUE ATÉ 70% DO MUND...</td>\n",
              "      <td>3</td>\n",
              "      <td>5307</td>\n",
              "      <td>pt</td>\n",
              "      <td>NaN</td>\n",
              "      <td>NaN</td>\n",
              "      <td>NaN</td>\n",
              "      <td>NaN</td>\n",
              "      <td>NaN</td>\n",
              "      <td>['CORONAVIRUS']</td>\n",
              "    </tr>\n",
              "    <tr>\n",
              "      <th>1658823</th>\n",
              "      <td>2020-04-07 18:14:45</td>\n",
              "      <td>Wagner Mota - Seriedade + Geek</td>\n",
              "      <td>wagnermota75</td>\n",
              "      <td>#BolsonaroTemRazaoSim porque, quando a prefeit...</td>\n",
              "      <td>0</td>\n",
              "      <td>1000</td>\n",
              "      <td>pt</td>\n",
              "      <td>NaN</td>\n",
              "      <td>NaN</td>\n",
              "      <td>NaN</td>\n",
              "      <td>NaN</td>\n",
              "      <td>NaN</td>\n",
              "      <td>['BolsonaroTemRazaoSim']</td>\n",
              "    </tr>\n",
              "    <tr>\n",
              "      <th>1658824</th>\n",
              "      <td>2020-06-02 16:04:51</td>\n",
              "      <td>Fotógrafo</td>\n",
              "      <td>omarcelogoulart</td>\n",
              "      <td>Em meio a uma pandemia, estamos na luta também...</td>\n",
              "      <td>0</td>\n",
              "      <td>726</td>\n",
              "      <td>pt</td>\n",
              "      <td>São Félix do Araguaia</td>\n",
              "      <td>Brazil</td>\n",
              "      <td>BR</td>\n",
              "      <td>-53.0</td>\n",
              "      <td>-11.0</td>\n",
              "      <td>[]</td>\n",
              "    </tr>\n",
              "  </tbody>\n",
              "</table>\n",
              "</div>"
            ],
            "text/plain": [
              "                        data  ...                  hashtags\n",
              "1658820  2020-03-13 17:26:18  ...                        []\n",
              "1658821  2020-05-12 13:02:34  ...                        []\n",
              "1658822  2020-03-19 18:16:30  ...           ['CORONAVIRUS']\n",
              "1658823  2020-04-07 18:14:45  ...  ['BolsonaroTemRazaoSim']\n",
              "1658824  2020-06-02 16:04:51  ...                        []\n",
              "\n",
              "[5 rows x 13 columns]"
            ]
          },
          "metadata": {
            "tags": []
          },
          "execution_count": 17
        }
      ]
    },
    {
      "cell_type": "code",
      "metadata": {
        "id": "8L4cC-0S_bKB",
        "outputId": "f7ac0605-68ef-4d64-dce3-7ec8d076c825",
        "colab": {
          "base_uri": "https://localhost:8080/",
          "height": 51
        }
      },
      "source": [
        "twselectdata = tw.filter(items=['data'])\n",
        "twselectdata.min()"
      ],
      "execution_count": 48,
      "outputs": [
        {
          "output_type": "execute_result",
          "data": {
            "text/plain": [
              "data    2020-01-01 00:42:12\n",
              "dtype: object"
            ]
          },
          "metadata": {
            "tags": []
          },
          "execution_count": 48
        }
      ]
    },
    {
      "cell_type": "code",
      "metadata": {
        "id": "hm_2YpIHAH6G",
        "outputId": "760eac05-ea1c-4107-9112-fab590bb78e3",
        "colab": {
          "base_uri": "https://localhost:8080/",
          "height": 51
        }
      },
      "source": [
        "twselectdata = tw.filter(items=['data'])\n",
        "twselectdata.max()"
      ],
      "execution_count": 49,
      "outputs": [
        {
          "output_type": "execute_result",
          "data": {
            "text/plain": [
              "data    2020-07-28 17:19:44\n",
              "dtype: object"
            ]
          },
          "metadata": {
            "tags": []
          },
          "execution_count": 49
        }
      ]
    },
    {
      "cell_type": "code",
      "metadata": {
        "id": "0z5cJ8wwRd0D",
        "outputId": "b67775b5-3c4c-408b-caab-ac3a6b27d7b6",
        "colab": {
          "base_uri": "https://localhost:8080/",
          "height": 193
        }
      },
      "source": [
        "tw.iloc[2:5]"
      ],
      "execution_count": 43,
      "outputs": [
        {
          "output_type": "execute_result",
          "data": {
            "text/html": [
              "<div>\n",
              "<style scoped>\n",
              "    .dataframe tbody tr th:only-of-type {\n",
              "        vertical-align: middle;\n",
              "    }\n",
              "\n",
              "    .dataframe tbody tr th {\n",
              "        vertical-align: top;\n",
              "    }\n",
              "\n",
              "    .dataframe thead th {\n",
              "        text-align: right;\n",
              "    }\n",
              "</style>\n",
              "<table border=\"1\" class=\"dataframe\">\n",
              "  <thead>\n",
              "    <tr style=\"text-align: right;\">\n",
              "      <th></th>\n",
              "      <th>data</th>\n",
              "      <th>usuario</th>\n",
              "      <th>apelido</th>\n",
              "      <th>texto</th>\n",
              "      <th>retweet</th>\n",
              "      <th>seguidores</th>\n",
              "      <th>idioma</th>\n",
              "      <th>lugar</th>\n",
              "      <th>pais</th>\n",
              "      <th>sigla</th>\n",
              "      <th>latitude</th>\n",
              "      <th>longitude</th>\n",
              "      <th>hashtags</th>\n",
              "    </tr>\n",
              "  </thead>\n",
              "  <tbody>\n",
              "    <tr>\n",
              "      <th>2</th>\n",
              "      <td>2020-03-29 12:09:27</td>\n",
              "      <td>Marília Oliveira 🇧🇷</td>\n",
              "      <td>Marioliveira_gb</td>\n",
              "      <td>Incrível como os defensores do fim do distanci...</td>\n",
              "      <td>0</td>\n",
              "      <td>5</td>\n",
              "      <td>pt</td>\n",
              "      <td>NaN</td>\n",
              "      <td>NaN</td>\n",
              "      <td>NaN</td>\n",
              "      <td>NaN</td>\n",
              "      <td>NaN</td>\n",
              "      <td>[]</td>\n",
              "    </tr>\n",
              "    <tr>\n",
              "      <th>3</th>\n",
              "      <td>2020-04-01 21:11:07</td>\n",
              "      <td>🚩</td>\n",
              "      <td>santosodeto</td>\n",
              "      <td>Fumaça de cigarro pode propagar coronavírus? h...</td>\n",
              "      <td>0</td>\n",
              "      <td>1885</td>\n",
              "      <td>pt</td>\n",
              "      <td>NaN</td>\n",
              "      <td>NaN</td>\n",
              "      <td>NaN</td>\n",
              "      <td>NaN</td>\n",
              "      <td>NaN</td>\n",
              "      <td>[]</td>\n",
              "    </tr>\n",
              "    <tr>\n",
              "      <th>4</th>\n",
              "      <td>2020-03-19 17:49:40</td>\n",
              "      <td>Nova Impressão</td>\n",
              "      <td>novaimpressao_</td>\n",
              "      <td>🚨Todos juntos contra COVID-19💪\\n\\nSolicite seu...</td>\n",
              "      <td>0</td>\n",
              "      <td>124</td>\n",
              "      <td>pt</td>\n",
              "      <td>Brasília</td>\n",
              "      <td>Brazil</td>\n",
              "      <td>BR</td>\n",
              "      <td>-47.8778</td>\n",
              "      <td>-15.77691</td>\n",
              "      <td>[]</td>\n",
              "    </tr>\n",
              "  </tbody>\n",
              "</table>\n",
              "</div>"
            ],
            "text/plain": [
              "                  data              usuario  ... longitude hashtags\n",
              "2  2020-03-29 12:09:27  Marília Oliveira 🇧🇷  ...       NaN       []\n",
              "3  2020-04-01 21:11:07                    🚩  ...       NaN       []\n",
              "4  2020-03-19 17:49:40       Nova Impressão  ... -15.77691       []\n",
              "\n",
              "[3 rows x 13 columns]"
            ]
          },
          "metadata": {
            "tags": []
          },
          "execution_count": 43
        }
      ]
    },
    {
      "cell_type": "code",
      "metadata": {
        "id": "ADcz99oXRj__",
        "outputId": "dd0444b9-849f-407d-b5fa-b5221d6ac0b3",
        "colab": {
          "base_uri": "https://localhost:8080/",
          "height": 221
        }
      },
      "source": [
        "tw.sigla.unique()"
      ],
      "execution_count": 19,
      "outputs": [
        {
          "output_type": "execute_result",
          "data": {
            "text/plain": [
              "array([nan, 'BR', 'IE', 'PT', 'ES', 'DE', 'CA', 'US', 'AO', 'UG', 'NL',\n",
              "       'JP', 'GB', 'MZ', 'BE', 'SA', 'VE', 'PK', 'ID', 'CL', 'SN', 'AR',\n",
              "       'CO', 'FR', 'TR', 'AT', 'PY', 'IT', 'NZ', 'KE', 'CN', 'PA', 'GH',\n",
              "       'EC', 'HT', 'AU', 'MX', 'PH', 'HR', 'ZA', 'DK', 'IN', 'CR', 'NG',\n",
              "       'MY', 'KP', 'UY', 'CY', 'EG', 'DO', 'VN', 'BH', 'SV', 'CH', 'AE',\n",
              "       'LK', 'CV', 'SK', 'SE', 'IL', 'HN', 'ME', 'TH', 'PE', 'CZ', 'LU',\n",
              "       'OM', 'TW', 'GE', 'IR', 'CI', 'BW', 'UA', 'LB', 'RO', 'KZ', 'TL',\n",
              "       'BO', 'MO', 'NO', 'CM', 'SG', 'IQ', 'QA', 'JM', 'CD', 'GT', 'EE',\n",
              "       'CW', 'RU', 'BS', 'KR', 'XK', 'KW', 'GW', 'CU', 'CF', 'TZ', 'PL',\n",
              "       'VA', 'TT', 'GR', 'GN', 'NI', 'SR', 'JO', 'MA', 'ZW', 'FI', 'GF',\n",
              "       'AM', 'SI', 'HU', 'GP', 'LA', 'MG', 'AD', 'MC', 'MT', 'TD', 'LT'],\n",
              "      dtype=object)"
            ]
          },
          "metadata": {
            "tags": []
          },
          "execution_count": 19
        }
      ]
    },
    {
      "cell_type": "code",
      "metadata": {
        "id": "yND184tiS_Dr",
        "outputId": "b91e195d-f585-4d6a-8010-3911d194b740",
        "colab": {
          "base_uri": "https://localhost:8080/",
          "height": 779
        }
      },
      "source": [
        "tw"
      ],
      "execution_count": 20,
      "outputs": [
        {
          "output_type": "execute_result",
          "data": {
            "text/html": [
              "<div>\n",
              "<style scoped>\n",
              "    .dataframe tbody tr th:only-of-type {\n",
              "        vertical-align: middle;\n",
              "    }\n",
              "\n",
              "    .dataframe tbody tr th {\n",
              "        vertical-align: top;\n",
              "    }\n",
              "\n",
              "    .dataframe thead th {\n",
              "        text-align: right;\n",
              "    }\n",
              "</style>\n",
              "<table border=\"1\" class=\"dataframe\">\n",
              "  <thead>\n",
              "    <tr style=\"text-align: right;\">\n",
              "      <th></th>\n",
              "      <th>data</th>\n",
              "      <th>usuario</th>\n",
              "      <th>apelido</th>\n",
              "      <th>texto</th>\n",
              "      <th>retweet</th>\n",
              "      <th>seguidores</th>\n",
              "      <th>idioma</th>\n",
              "      <th>lugar</th>\n",
              "      <th>pais</th>\n",
              "      <th>sigla</th>\n",
              "      <th>latitude</th>\n",
              "      <th>longitude</th>\n",
              "      <th>hashtags</th>\n",
              "    </tr>\n",
              "  </thead>\n",
              "  <tbody>\n",
              "    <tr>\n",
              "      <th>0</th>\n",
              "      <td>2020-03-23 18:51:14</td>\n",
              "      <td>Gaboardi</td>\n",
              "      <td>fraslee</td>\n",
              "      <td>@BolsonaroSP Cade o fundão deputado??? Congres...</td>\n",
              "      <td>0</td>\n",
              "      <td>138</td>\n",
              "      <td>pt</td>\n",
              "      <td>NaN</td>\n",
              "      <td>NaN</td>\n",
              "      <td>NaN</td>\n",
              "      <td>NaN</td>\n",
              "      <td>NaN</td>\n",
              "      <td>[]</td>\n",
              "    </tr>\n",
              "    <tr>\n",
              "      <th>1</th>\n",
              "      <td>2020-03-18 03:18:14</td>\n",
              "      <td>Seu Zé da Farmácia</td>\n",
              "      <td>seuzedafarmacia</td>\n",
              "      <td>Em ação preventiva, o Governo do Estado suspen...</td>\n",
              "      <td>0</td>\n",
              "      <td>56</td>\n",
              "      <td>pt</td>\n",
              "      <td>NaN</td>\n",
              "      <td>NaN</td>\n",
              "      <td>NaN</td>\n",
              "      <td>NaN</td>\n",
              "      <td>NaN</td>\n",
              "      <td>[]</td>\n",
              "    </tr>\n",
              "    <tr>\n",
              "      <th>2</th>\n",
              "      <td>2020-03-29 12:09:27</td>\n",
              "      <td>Marília Oliveira 🇧🇷</td>\n",
              "      <td>Marioliveira_gb</td>\n",
              "      <td>Incrível como os defensores do fim do distanci...</td>\n",
              "      <td>0</td>\n",
              "      <td>5</td>\n",
              "      <td>pt</td>\n",
              "      <td>NaN</td>\n",
              "      <td>NaN</td>\n",
              "      <td>NaN</td>\n",
              "      <td>NaN</td>\n",
              "      <td>NaN</td>\n",
              "      <td>[]</td>\n",
              "    </tr>\n",
              "    <tr>\n",
              "      <th>3</th>\n",
              "      <td>2020-04-01 21:11:07</td>\n",
              "      <td>🚩</td>\n",
              "      <td>santosodeto</td>\n",
              "      <td>Fumaça de cigarro pode propagar coronavírus? h...</td>\n",
              "      <td>0</td>\n",
              "      <td>1885</td>\n",
              "      <td>pt</td>\n",
              "      <td>NaN</td>\n",
              "      <td>NaN</td>\n",
              "      <td>NaN</td>\n",
              "      <td>NaN</td>\n",
              "      <td>NaN</td>\n",
              "      <td>[]</td>\n",
              "    </tr>\n",
              "    <tr>\n",
              "      <th>4</th>\n",
              "      <td>2020-03-19 17:49:40</td>\n",
              "      <td>Nova Impressão</td>\n",
              "      <td>novaimpressao_</td>\n",
              "      <td>🚨Todos juntos contra COVID-19💪\\n\\nSolicite seu...</td>\n",
              "      <td>0</td>\n",
              "      <td>124</td>\n",
              "      <td>pt</td>\n",
              "      <td>Brasília</td>\n",
              "      <td>Brazil</td>\n",
              "      <td>BR</td>\n",
              "      <td>-47.8778</td>\n",
              "      <td>-15.77691</td>\n",
              "      <td>[]</td>\n",
              "    </tr>\n",
              "    <tr>\n",
              "      <th>...</th>\n",
              "      <td>...</td>\n",
              "      <td>...</td>\n",
              "      <td>...</td>\n",
              "      <td>...</td>\n",
              "      <td>...</td>\n",
              "      <td>...</td>\n",
              "      <td>...</td>\n",
              "      <td>...</td>\n",
              "      <td>...</td>\n",
              "      <td>...</td>\n",
              "      <td>...</td>\n",
              "      <td>...</td>\n",
              "      <td>...</td>\n",
              "    </tr>\n",
              "    <tr>\n",
              "      <th>1658820</th>\n",
              "      <td>2020-03-13 17:26:18</td>\n",
              "      <td>broca</td>\n",
              "      <td>whoisdrill</td>\n",
              "      <td>oms: tamo tendo pandemia evitar\\n conglomerado...</td>\n",
              "      <td>0</td>\n",
              "      <td>361</td>\n",
              "      <td>pt</td>\n",
              "      <td>NaN</td>\n",
              "      <td>NaN</td>\n",
              "      <td>NaN</td>\n",
              "      <td>NaN</td>\n",
              "      <td>NaN</td>\n",
              "      <td>[]</td>\n",
              "    </tr>\n",
              "    <tr>\n",
              "      <th>1658821</th>\n",
              "      <td>2020-05-12 13:02:34</td>\n",
              "      <td>Renato 🇧🇷</td>\n",
              "      <td>VerdadeExpress</td>\n",
              "      <td>@OsmarTerra Sr. Osmar Terra, gostaria de ouvir...</td>\n",
              "      <td>0</td>\n",
              "      <td>4066</td>\n",
              "      <td>pt</td>\n",
              "      <td>NaN</td>\n",
              "      <td>NaN</td>\n",
              "      <td>NaN</td>\n",
              "      <td>NaN</td>\n",
              "      <td>NaN</td>\n",
              "      <td>[]</td>\n",
              "    </tr>\n",
              "    <tr>\n",
              "      <th>1658822</th>\n",
              "      <td>2020-03-19 18:16:30</td>\n",
              "      <td>eugeniocosta8</td>\n",
              "      <td>EugenioCosta8</td>\n",
              "      <td>CIENTISTA DE HARVARD PREVÊ QUE ATÉ 70% DO MUND...</td>\n",
              "      <td>3</td>\n",
              "      <td>5307</td>\n",
              "      <td>pt</td>\n",
              "      <td>NaN</td>\n",
              "      <td>NaN</td>\n",
              "      <td>NaN</td>\n",
              "      <td>NaN</td>\n",
              "      <td>NaN</td>\n",
              "      <td>['CORONAVIRUS']</td>\n",
              "    </tr>\n",
              "    <tr>\n",
              "      <th>1658823</th>\n",
              "      <td>2020-04-07 18:14:45</td>\n",
              "      <td>Wagner Mota - Seriedade + Geek</td>\n",
              "      <td>wagnermota75</td>\n",
              "      <td>#BolsonaroTemRazaoSim porque, quando a prefeit...</td>\n",
              "      <td>0</td>\n",
              "      <td>1000</td>\n",
              "      <td>pt</td>\n",
              "      <td>NaN</td>\n",
              "      <td>NaN</td>\n",
              "      <td>NaN</td>\n",
              "      <td>NaN</td>\n",
              "      <td>NaN</td>\n",
              "      <td>['BolsonaroTemRazaoSim']</td>\n",
              "    </tr>\n",
              "    <tr>\n",
              "      <th>1658824</th>\n",
              "      <td>2020-06-02 16:04:51</td>\n",
              "      <td>Fotógrafo</td>\n",
              "      <td>omarcelogoulart</td>\n",
              "      <td>Em meio a uma pandemia, estamos na luta também...</td>\n",
              "      <td>0</td>\n",
              "      <td>726</td>\n",
              "      <td>pt</td>\n",
              "      <td>São Félix do Araguaia</td>\n",
              "      <td>Brazil</td>\n",
              "      <td>BR</td>\n",
              "      <td>-53.0000</td>\n",
              "      <td>-11.00000</td>\n",
              "      <td>[]</td>\n",
              "    </tr>\n",
              "  </tbody>\n",
              "</table>\n",
              "<p>1658825 rows × 13 columns</p>\n",
              "</div>"
            ],
            "text/plain": [
              "                        data  ...                  hashtags\n",
              "0        2020-03-23 18:51:14  ...                        []\n",
              "1        2020-03-18 03:18:14  ...                        []\n",
              "2        2020-03-29 12:09:27  ...                        []\n",
              "3        2020-04-01 21:11:07  ...                        []\n",
              "4        2020-03-19 17:49:40  ...                        []\n",
              "...                      ...  ...                       ...\n",
              "1658820  2020-03-13 17:26:18  ...                        []\n",
              "1658821  2020-05-12 13:02:34  ...                        []\n",
              "1658822  2020-03-19 18:16:30  ...           ['CORONAVIRUS']\n",
              "1658823  2020-04-07 18:14:45  ...  ['BolsonaroTemRazaoSim']\n",
              "1658824  2020-06-02 16:04:51  ...                        []\n",
              "\n",
              "[1658825 rows x 13 columns]"
            ]
          },
          "metadata": {
            "tags": []
          },
          "execution_count": 20
        }
      ]
    },
    {
      "cell_type": "code",
      "metadata": {
        "id": "DuT4Er_RUIF8",
        "outputId": "317ace6b-1617-4f35-94e0-62e083572a59",
        "colab": {
          "base_uri": "https://localhost:8080/",
          "height": 68
        }
      },
      "source": [
        "tw.columns.values"
      ],
      "execution_count": 50,
      "outputs": [
        {
          "output_type": "execute_result",
          "data": {
            "text/plain": [
              "array(['data', 'usuario', 'apelido', 'texto', 'retweet', 'seguidores',\n",
              "       'idioma', 'lugar', 'pais', 'sigla', 'latitude', 'longitude',\n",
              "       'hashtags'], dtype=object)"
            ]
          },
          "metadata": {
            "tags": []
          },
          "execution_count": 50
        }
      ]
    },
    {
      "cell_type": "markdown",
      "metadata": {
        "id": "cSpGEBpeMzbR"
      },
      "source": [
        "Quantidade de casos por País"
      ]
    },
    {
      "cell_type": "code",
      "metadata": {
        "id": "NgUDdPH8LpQ7",
        "outputId": "c65c54d1-47fa-4119-bea6-d6c9b43b9746",
        "colab": {
          "base_uri": "https://localhost:8080/",
          "height": 136
        }
      },
      "source": [
        "twSelectPais = tw.filter(items=['pais'])\n",
        "contador = twSelectPais.value_counts()\n",
        "contador.head()"
      ],
      "execution_count": 86,
      "outputs": [
        {
          "output_type": "execute_result",
          "data": {
            "text/plain": [
              "pais         \n",
              "Brazil           67247\n",
              "Portugal          2675\n",
              "United States     1068\n",
              "Italy              484\n",
              "Spain              379\n",
              "dtype: int64"
            ]
          },
          "metadata": {
            "tags": []
          },
          "execution_count": 86
        }
      ]
    },
    {
      "cell_type": "markdown",
      "metadata": {
        "id": "tGSUlo1Zerc0"
      },
      "source": [
        "Grafico de barras não fica legal pela quantidade de atributos"
      ]
    },
    {
      "cell_type": "code",
      "metadata": {
        "id": "erFVJxFXcPSd",
        "outputId": "b3f8eec5-3d41-4473-aead-7735d91a0c39",
        "colab": {
          "base_uri": "https://localhost:8080/",
          "height": 720
        }
      },
      "source": [
        "twselectpais.groupby('pais')['pais'].nunique().plot(kind='bar')\n",
        "twselectpais.show()"
      ],
      "execution_count": 82,
      "outputs": [
        {
          "output_type": "error",
          "ename": "AttributeError",
          "evalue": "ignored",
          "traceback": [
            "\u001b[0;31m---------------------------------------------------------------------------\u001b[0m",
            "\u001b[0;31mAttributeError\u001b[0m                            Traceback (most recent call last)",
            "\u001b[0;32m<ipython-input-82-87f2dc895236>\u001b[0m in \u001b[0;36m<module>\u001b[0;34m()\u001b[0m\n\u001b[1;32m      1\u001b[0m \u001b[0mtwselectpais\u001b[0m\u001b[0;34m.\u001b[0m\u001b[0mgroupby\u001b[0m\u001b[0;34m(\u001b[0m\u001b[0;34m'pais'\u001b[0m\u001b[0;34m)\u001b[0m\u001b[0;34m[\u001b[0m\u001b[0;34m'pais'\u001b[0m\u001b[0;34m]\u001b[0m\u001b[0;34m.\u001b[0m\u001b[0mnunique\u001b[0m\u001b[0;34m(\u001b[0m\u001b[0;34m)\u001b[0m\u001b[0;34m.\u001b[0m\u001b[0mplot\u001b[0m\u001b[0;34m(\u001b[0m\u001b[0mkind\u001b[0m\u001b[0;34m=\u001b[0m\u001b[0;34m'bar'\u001b[0m\u001b[0;34m)\u001b[0m\u001b[0;34m\u001b[0m\u001b[0;34m\u001b[0m\u001b[0m\n\u001b[0;32m----> 2\u001b[0;31m \u001b[0mtwselectpais\u001b[0m\u001b[0;34m.\u001b[0m\u001b[0mshow\u001b[0m\u001b[0;34m(\u001b[0m\u001b[0;34m)\u001b[0m\u001b[0;34m\u001b[0m\u001b[0;34m\u001b[0m\u001b[0m\n\u001b[0m",
            "\u001b[0;32m/usr/local/lib/python3.6/dist-packages/pandas/core/generic.py\u001b[0m in \u001b[0;36m__getattr__\u001b[0;34m(self, name)\u001b[0m\n\u001b[1;32m   5134\u001b[0m             \u001b[0;32mif\u001b[0m \u001b[0mself\u001b[0m\u001b[0;34m.\u001b[0m\u001b[0m_info_axis\u001b[0m\u001b[0;34m.\u001b[0m\u001b[0m_can_hold_identifiers_and_holds_name\u001b[0m\u001b[0;34m(\u001b[0m\u001b[0mname\u001b[0m\u001b[0;34m)\u001b[0m\u001b[0;34m:\u001b[0m\u001b[0;34m\u001b[0m\u001b[0;34m\u001b[0m\u001b[0m\n\u001b[1;32m   5135\u001b[0m                 \u001b[0;32mreturn\u001b[0m \u001b[0mself\u001b[0m\u001b[0;34m[\u001b[0m\u001b[0mname\u001b[0m\u001b[0;34m]\u001b[0m\u001b[0;34m\u001b[0m\u001b[0;34m\u001b[0m\u001b[0m\n\u001b[0;32m-> 5136\u001b[0;31m             \u001b[0;32mreturn\u001b[0m \u001b[0mobject\u001b[0m\u001b[0;34m.\u001b[0m\u001b[0m__getattribute__\u001b[0m\u001b[0;34m(\u001b[0m\u001b[0mself\u001b[0m\u001b[0;34m,\u001b[0m \u001b[0mname\u001b[0m\u001b[0;34m)\u001b[0m\u001b[0;34m\u001b[0m\u001b[0;34m\u001b[0m\u001b[0m\n\u001b[0m\u001b[1;32m   5137\u001b[0m \u001b[0;34m\u001b[0m\u001b[0m\n\u001b[1;32m   5138\u001b[0m     \u001b[0;32mdef\u001b[0m \u001b[0m__setattr__\u001b[0m\u001b[0;34m(\u001b[0m\u001b[0mself\u001b[0m\u001b[0;34m,\u001b[0m \u001b[0mname\u001b[0m\u001b[0;34m:\u001b[0m \u001b[0mstr\u001b[0m\u001b[0;34m,\u001b[0m \u001b[0mvalue\u001b[0m\u001b[0;34m)\u001b[0m \u001b[0;34m->\u001b[0m \u001b[0;32mNone\u001b[0m\u001b[0;34m:\u001b[0m\u001b[0;34m\u001b[0m\u001b[0;34m\u001b[0m\u001b[0m\n",
            "\u001b[0;31mAttributeError\u001b[0m: 'DataFrame' object has no attribute 'show'"
          ]
        },
        {
          "output_type": "display_data",
          "data": {
            "image/png": "[encoded data removed]",
            "text/plain": [
              "<Figure size 432x288 with 1 Axes>"
            ]
          },
          "metadata": {
            "tags": [],
            "needs_background": "light"
          }
        }
      ]
    },
    {
      "cell_type": "code",
      "metadata": {
        "id": "K9hbrKucewfm",
        "outputId": "aacd0f30-98b9-48f6-b16b-12c7852568bd",
        "colab": {
          "base_uri": "https://localhost:8080/",
          "height": 334
        }
      },
      "source": [
        "geometry = [Point(xy) for xy in zip(tw['latitude'], tw['longitude'])]\n",
        "gdf = GeoDataFrame(tw, geometry=geometry)   \n",
        "\n",
        "world = gpd.read_file(gpd.datasets.get_path('naturalearth_lowres'))\n",
        "gdf.plot(ax=world.plot(figsize=(10, 6)), marker='o', color='red', markersize=15)"
      ],
      "execution_count": 94,
      "outputs": [
        {
          "output_type": "execute_result",
          "data": {
            "text/plain": [
              "<matplotlib.axes._subplots.AxesSubplot at 0x7fe22ec37438>"
            ]
          },
          "metadata": {
            "tags": []
          },
          "execution_count": 94
        },
        {
          "output_type": "display_data",
          "data": {
            "image/png": "[encoded data removed]",
            "text/plain": [
              "<Figure size 720x432 with 1 Axes>"
            ]
          },
          "metadata": {
            "tags": [],
            "needs_background": "light"
          }
        }
      ]
    },
    {
      "cell_type": "markdown",
      "metadata": {
        "id": "PNTc1JxtpARB"
      },
      "source": [
        "Mostrar o volume de perguntas por período !"
      ]
    },
    {
      "cell_type": "code",
      "metadata": {
        "id": "lWB5tS7vo4hv",
        "outputId": "55fff6b7-11d4-46ee-9f35-ea8c56f6e9ed",
        "colab": {
          "base_uri": "https://localhost:8080/",
          "height": 386
        }
      },
      "source": [
        "import matplotlib.pyplot as plt\n",
        "import numpy as np\n",
        "import urllib.request\n",
        "import matplotlib.dates as mdates\n",
        "\n",
        "def bytespdate2num(fmt, encoding='utf-8'):\n",
        "    strconverter = mdates.strpdate2num(fmt)\n",
        "    def bytesconverter(b):\n",
        "        s = b.decode(encoding)\n",
        "        return strconverter(s)\n",
        "    return bytesconverter\n",
        "    \n",
        "\n",
        "def graph_data(stock):\n",
        "\n",
        "    stock_price_url = 'https://tiagodemelo.info/datasets/entrada.txt'\n",
        "    source_code = urllib.request.urlopen(stock_price_url).read().decode()\n",
        "\n",
        "    stock_data = []\n",
        "    split_source = source_code.split('\\n')\n",
        "    for line in split_source[1:]:\n",
        "        split_line = line.split(',')\n",
        "        if len(split_line) == 7:\n",
        "            if 'values' not in line and 'labels' not in line:\n",
        "                stock_data.append(line)\n",
        "\n",
        "    date, closep, highp, lowp, openp, adj_closep, volume = np.loadtxt(stock_data,\n",
        "                                                          delimiter=',',\n",
        "                                                          unpack=True,\n",
        "                                                          # %Y = full year. 2015\n",
        "                                                          # %y = partial year 15\n",
        "                                                          # %m = number month\n",
        "                                                          # %d = number day\n",
        "                                                          # %H = hours\n",
        "                                                          # %M = minutes\n",
        "                                                          # %S = seconds\n",
        "                                                          # 12-06-2014\n",
        "                                                          # %m-%d-%Y\n",
        "                                                          converters={0: bytespdate2num('%Y-%m-%d')})\n",
        "\n",
        "    plt.plot_date(date, closep,'-', label='Price')\n",
        " \n",
        "    plt.xlabel('Período')\n",
        "    plt.ylabel('Preços')\n",
        "    plt.title('Variação ao Longo do Tempo')\n",
        "    plt.legend()\n",
        "    plt.show()\n",
        "\n",
        "\n",
        "graph_data('TSLA')"
      ],
      "execution_count": 102,
      "outputs": [
        {
          "output_type": "stream",
          "text": [
            "/usr/local/lib/python3.6/dist-packages/ipykernel_launcher.py:7: MatplotlibDeprecationWarning:\n",
            "\n",
            "\n",
            "The strpdate2num class was deprecated in Matplotlib 3.1 and will be removed in 3.3. Use time.strptime or dateutil.parser.parse or datestr2num instead.\n",
            "\n"
          ],
          "name": "stderr"
        },
        {
          "output_type": "display_data",
          "data": {
            "image/png": "[encoded data removed]",
            "text/plain": [
              "<Figure size 432x288 with 1 Axes>"
            ]
          },
          "metadata": {
            "tags": []
          }
        }
      ]
    },
    {
      "cell_type": "code",
      "metadata": {
        "id": "rjnhBx9B-yru",
        "outputId": "df3f234f-cc93-464d-8159-69bda28ba2e8",
        "colab": {
          "base_uri": "https://localhost:8080/",
          "height": 328
        }
      },
      "source": [
        "twselectpais.iloc[1:10]"
      ],
      "execution_count": 51,
      "outputs": [
        {
          "output_type": "execute_result",
          "data": {
            "text/html": [
              "<div>\n",
              "<style scoped>\n",
              "    .dataframe tbody tr th:only-of-type {\n",
              "        vertical-align: middle;\n",
              "    }\n",
              "\n",
              "    .dataframe tbody tr th {\n",
              "        vertical-align: top;\n",
              "    }\n",
              "\n",
              "    .dataframe thead th {\n",
              "        text-align: right;\n",
              "    }\n",
              "</style>\n",
              "<table border=\"1\" class=\"dataframe\">\n",
              "  <thead>\n",
              "    <tr style=\"text-align: right;\">\n",
              "      <th></th>\n",
              "      <th>pais</th>\n",
              "    </tr>\n",
              "  </thead>\n",
              "  <tbody>\n",
              "    <tr>\n",
              "      <th>1</th>\n",
              "      <td>NaN</td>\n",
              "    </tr>\n",
              "    <tr>\n",
              "      <th>2</th>\n",
              "      <td>NaN</td>\n",
              "    </tr>\n",
              "    <tr>\n",
              "      <th>3</th>\n",
              "      <td>NaN</td>\n",
              "    </tr>\n",
              "    <tr>\n",
              "      <th>4</th>\n",
              "      <td>Brazil</td>\n",
              "    </tr>\n",
              "    <tr>\n",
              "      <th>5</th>\n",
              "      <td>Brazil</td>\n",
              "    </tr>\n",
              "    <tr>\n",
              "      <th>6</th>\n",
              "      <td>NaN</td>\n",
              "    </tr>\n",
              "    <tr>\n",
              "      <th>7</th>\n",
              "      <td>NaN</td>\n",
              "    </tr>\n",
              "    <tr>\n",
              "      <th>8</th>\n",
              "      <td>NaN</td>\n",
              "    </tr>\n",
              "    <tr>\n",
              "      <th>9</th>\n",
              "      <td>NaN</td>\n",
              "    </tr>\n",
              "  </tbody>\n",
              "</table>\n",
              "</div>"
            ],
            "text/plain": [
              "     pais\n",
              "1     NaN\n",
              "2     NaN\n",
              "3     NaN\n",
              "4  Brazil\n",
              "5  Brazil\n",
              "6     NaN\n",
              "7     NaN\n",
              "8     NaN\n",
              "9     NaN"
            ]
          },
          "metadata": {
            "tags": []
          },
          "execution_count": 51
        }
      ]
    },
    {
      "cell_type": "markdown",
      "metadata": {
        "id": "npPXO4mGNlPp"
      },
      "source": [
        "COlocar uma grafico aqui para mostrar quantidade de casos por paises"
      ]
    },
    {
      "cell_type": "markdown",
      "metadata": {
        "id": "BDJDcCNkOgly"
      },
      "source": [
        "select de lugares"
      ]
    },
    {
      "cell_type": "code",
      "metadata": {
        "id": "UV48sj5lOixk",
        "outputId": "afa86d07-03b6-4e67-c446-f76286000657",
        "colab": {
          "base_uri": "https://localhost:8080/",
          "height": 238
        }
      },
      "source": [
        "twselectlugar = tw.filter(items=['lugar'])\n",
        "twselectlugar.value_counts().sort_index()"
      ],
      "execution_count": 23,
      "outputs": [
        {
          "output_type": "execute_result",
          "data": {
            "text/plain": [
              "lugar                                         \n",
              "'s-Hertogenbosch                                   3\n",
              "12° Batalhão de Infantaria do Exército (12 BI)     1\n",
              "3ª Delegacia de Polícia (DP)                       1\n",
              "89 A Rádio Rock                                    1\n",
              "@oBarreiro - Capital Do MUNDO                     13\n",
              "                                                  ..\n",
              "Смотровая площадка ЦДМ                             1\n",
              "صُحار                                              1\n",
              "屏東市                                                1\n",
              "東京国立博物館 (Tokyo National Museum)                    1\n",
              "牛嶋神社                                               1\n",
              "Length: 4500, dtype: int64"
            ]
          },
          "metadata": {
            "tags": []
          },
          "execution_count": 23
        }
      ]
    },
    {
      "cell_type": "markdown",
      "metadata": {
        "id": "c5BOHlzyNrSP"
      },
      "source": [
        "todos os textos \n"
      ]
    },
    {
      "cell_type": "code",
      "metadata": {
        "id": "b_ZtTleEUqU1",
        "outputId": "dfa26184-27aa-42dd-dfbc-c9bdabdfd9bb",
        "colab": {
          "base_uri": "https://localhost:8080/",
          "height": 419
        }
      },
      "source": [
        "twselect = tw.filter(items=['texto'])\n",
        "twselect = twselect.dropna()\n",
        "twselect"
      ],
      "execution_count": 29,
      "outputs": [
        {
          "output_type": "execute_result",
          "data": {
            "text/html": [
              "<div>\n",
              "<style scoped>\n",
              "    .dataframe tbody tr th:only-of-type {\n",
              "        vertical-align: middle;\n",
              "    }\n",
              "\n",
              "    .dataframe tbody tr th {\n",
              "        vertical-align: top;\n",
              "    }\n",
              "\n",
              "    .dataframe thead th {\n",
              "        text-align: right;\n",
              "    }\n",
              "</style>\n",
              "<table border=\"1\" class=\"dataframe\">\n",
              "  <thead>\n",
              "    <tr style=\"text-align: right;\">\n",
              "      <th></th>\n",
              "      <th>texto</th>\n",
              "    </tr>\n",
              "  </thead>\n",
              "  <tbody>\n",
              "    <tr>\n",
              "      <th>0</th>\n",
              "      <td>@BolsonaroSP Cade o fundão deputado??? Congres...</td>\n",
              "    </tr>\n",
              "    <tr>\n",
              "      <th>1</th>\n",
              "      <td>Em ação preventiva, o Governo do Estado suspen...</td>\n",
              "    </tr>\n",
              "    <tr>\n",
              "      <th>2</th>\n",
              "      <td>Incrível como os defensores do fim do distanci...</td>\n",
              "    </tr>\n",
              "    <tr>\n",
              "      <th>3</th>\n",
              "      <td>Fumaça de cigarro pode propagar coronavírus? h...</td>\n",
              "    </tr>\n",
              "    <tr>\n",
              "      <th>4</th>\n",
              "      <td>🚨Todos juntos contra COVID-19💪\\n\\nSolicite seu...</td>\n",
              "    </tr>\n",
              "    <tr>\n",
              "      <th>...</th>\n",
              "      <td>...</td>\n",
              "    </tr>\n",
              "    <tr>\n",
              "      <th>1658820</th>\n",
              "      <td>oms: tamo tendo pandemia evitar\\n conglomerado...</td>\n",
              "    </tr>\n",
              "    <tr>\n",
              "      <th>1658821</th>\n",
              "      <td>@OsmarTerra Sr. Osmar Terra, gostaria de ouvir...</td>\n",
              "    </tr>\n",
              "    <tr>\n",
              "      <th>1658822</th>\n",
              "      <td>CIENTISTA DE HARVARD PREVÊ QUE ATÉ 70% DO MUND...</td>\n",
              "    </tr>\n",
              "    <tr>\n",
              "      <th>1658823</th>\n",
              "      <td>#BolsonaroTemRazaoSim porque, quando a prefeit...</td>\n",
              "    </tr>\n",
              "    <tr>\n",
              "      <th>1658824</th>\n",
              "      <td>Em meio a uma pandemia, estamos na luta também...</td>\n",
              "    </tr>\n",
              "  </tbody>\n",
              "</table>\n",
              "<p>1658825 rows × 1 columns</p>\n",
              "</div>"
            ],
            "text/plain": [
              "                                                     texto\n",
              "0        @BolsonaroSP Cade o fundão deputado??? Congres...\n",
              "1        Em ação preventiva, o Governo do Estado suspen...\n",
              "2        Incrível como os defensores do fim do distanci...\n",
              "3        Fumaça de cigarro pode propagar coronavírus? h...\n",
              "4        🚨Todos juntos contra COVID-19💪\\n\\nSolicite seu...\n",
              "...                                                    ...\n",
              "1658820  oms: tamo tendo pandemia evitar\\n conglomerado...\n",
              "1658821  @OsmarTerra Sr. Osmar Terra, gostaria de ouvir...\n",
              "1658822  CIENTISTA DE HARVARD PREVÊ QUE ATÉ 70% DO MUND...\n",
              "1658823  #BolsonaroTemRazaoSim porque, quando a prefeit...\n",
              "1658824  Em meio a uma pandemia, estamos na luta também...\n",
              "\n",
              "[1658825 rows x 1 columns]"
            ]
          },
          "metadata": {
            "tags": []
          },
          "execution_count": 29
        }
      ]
    },
    {
      "cell_type": "code",
      "metadata": {
        "id": "oEp3k1ZmI4Aj",
        "outputId": "e03db844-932f-41b1-e396-46e347ce4a78",
        "colab": {
          "base_uri": "https://localhost:8080/",
          "height": 433
        }
      },
      "source": [
        "twselect.groupby('texto').count()"
      ],
      "execution_count": 31,
      "outputs": [
        {
          "output_type": "execute_result",
          "data": {
            "text/html": [
              "<div>\n",
              "<style scoped>\n",
              "    .dataframe tbody tr th:only-of-type {\n",
              "        vertical-align: middle;\n",
              "    }\n",
              "\n",
              "    .dataframe tbody tr th {\n",
              "        vertical-align: top;\n",
              "    }\n",
              "\n",
              "    .dataframe thead th {\n",
              "        text-align: right;\n",
              "    }\n",
              "</style>\n",
              "<table border=\"1\" class=\"dataframe\">\n",
              "  <thead>\n",
              "    <tr style=\"text-align: right;\">\n",
              "      <th></th>\n",
              "    </tr>\n",
              "    <tr>\n",
              "      <th>texto</th>\n",
              "    </tr>\n",
              "  </thead>\n",
              "  <tbody>\n",
              "    <tr>\n",
              "      <th>!\\nclaro que o coronavírus é importante mas aqui a gente já tem as nossas doenças tropicais que têm uma taxa de mort… https://t.co/xqKiTFhJ9K</th>\n",
              "    </tr>\n",
              "    <tr>\n",
              "      <th>! 'Tigre de 4anos de idade do Zoológico do Bronx, nos EUA, testou POSITIVO p/o Coronavírus, c/ outros tigres e leõe… https://t.co/2xQR9zTxiB</th>\n",
              "    </tr>\n",
              "    <tr>\n",
              "      <th>! ALO ! Durante a quarentena, vamo se juntar no discord pra jogar joguinhos? https://t.co/VjyMlYacN8 Vou estar abri… https://t.co/7SpBN0rifr</th>\n",
              "    </tr>\n",
              "    <tr>\n",
              "      <th>! Cloroquina - Sem patente\\nRemdesivir - Patenteado pela Gilead, empresa da qual o Fauci é acionista. A Gilead tem a… https://t.co/CvnkcTYytB</th>\n",
              "    </tr>\n",
              "    <tr>\n",
              "      <th>! LYNN E O GATO CARTEIRO 1 DE GRAÇA NO TAPAS !\\n\\npor causa da COVID, resolvi compartilhar a primeira história de Lyn… https://t.co/QLpNlpavKU</th>\n",
              "    </tr>\n",
              "    <tr>\n",
              "      <th>...</th>\n",
              "    </tr>\n",
              "    <tr>\n",
              "      <th>🩺 @minsaude inaugura ala indígena em hospital de #Manaus. Esta é primeira ala voltada para o atendimento de pacient… https://t.co/tqxqyG3Cex</th>\n",
              "    </tr>\n",
              "    <tr>\n",
              "      <th>🩺 Cerca de 400 médicos já foram contratados para atuar no combate à Covid-19 na Bahia; inscrições abertas. Saiba ma… https://t.co/jyyBPlKxtU</th>\n",
              "    </tr>\n",
              "    <tr>\n",
              "      <th>🩺 possibilidade de antecipação de colação de grau para profissionais da saúde 🩺\\n.\\n.\\nEm razão da #pandemia, no dia 0… https://t.co/Kd86NcP4iY</th>\n",
              "    </tr>\n",
              "    <tr>\n",
              "      <th>🩺@SaudeGovRJ tem plano de contingência para coronavírus\\n\\n🧬Ações e procedimentos, como ampliação de leitos, estão en… https://t.co/zOqiOIaGGx</th>\n",
              "    </tr>\n",
              "    <tr>\n",
              "      <th>🩺🧑‍⚕️ A Secretaria de Saúde de Guarulhos está ligando para todos os pacientes que tinham consultas e exames agendad… https://t.co/edidafesk8</th>\n",
              "    </tr>\n",
              "  </tbody>\n",
              "</table>\n",
              "<p>1653599 rows × 0 columns</p>\n",
              "</div>"
            ],
            "text/plain": [
              "Empty DataFrame\n",
              "Columns: []\n",
              "Index: [!\n",
              "claro que o coronavírus é importante mas aqui a gente já tem as nossas doenças tropicais que têm uma taxa de mort… https://t.co/xqKiTFhJ9K, ! 'Tigre de 4anos de idade do Zoológico do Bronx, nos EUA, testou POSITIVO p/o Coronavírus, c/ outros tigres e leõe… https://t.co/2xQR9zTxiB, ! ALO ! Durante a quarentena, vamo se juntar no discord pra jogar joguinhos? https://t.co/VjyMlYacN8 Vou estar abri… https://t.co/7SpBN0rifr, ! Cloroquina - Sem patente\n",
              "Remdesivir - Patenteado pela Gilead, empresa da qual o Fauci é acionista. A Gilead tem a… https://t.co/CvnkcTYytB, ! LYNN E O GATO CARTEIRO 1 DE GRAÇA NO TAPAS !\n",
              "\n",
              "por causa da COVID, resolvi compartilhar a primeira história de Lyn… https://t.co/QLpNlpavKU, ! https://t.co/dNlw4tgCih, !! FGV CANCELOU AS AULAS !!\n",
              "\n",
              "e vamos de isolamento social \n",
              "\n",
              "Carregando ... %, !!!\n",
              "\n",
              "Rússia aprova medicamento para a Covid-19 com eficácia de 90% https://t.co/fzI20X1LTf via @sicnoticias, !!! #CubaSalvaVidas !!!\n",
              "\"Coronavírus em Cuba: embargo dos EUA é ainda mais cruel durante a pandemia.\"… https://t.co/0nEG7Q4TUU, !!! Cuidado: mulher em isolamento social !!!\n",
              "\n",
              "⚠️ ATENÇÃO ⚠️\n",
              "\n",
              "Ao curtir esse tweet você confirma os boatos que me beijaria., !!! LOGBOOK !!!\n",
              "\n",
              "Para registar os eventos importantes do \"COVID-19 para leigos\"\n",
              "\n",
              "#COVID19\n",
              "#COVID19PT\n",
              "#coronavirus… https://t.co/PfolG1Q1nK, !!! O assunti Covid-19 chegou até ao pelouro do cabrita. Sabem o q isto quer dizer? - é hora de encher a despenca de latas de atum., !!! https://t.co/dOMFHbfq0L, !!! já fecharam três faculdades do Porto por causa do covid, espero que a minha seja a próxima, rezem por mim amigos 🙏, !!!!\n",
              "\"Segundo ele, a iminente saída se dá após sua declaração com fortes críticas as medidas de flexibilização dian… https://t.co/WDLLwUBSty, !!!!!\n",
              "\n",
              "\"Precisamos falar sobre a cobrança por produtividade durante o isolamento social\"  https://t.co/PqEavV30A5, !!!!!!\n",
              " O impacto da Covid-19 em uma família registrado em quadrinhos https://t.co/IpmdMM8tLu, !!!!!! Beleza que tô com saudade do Flamengo mas é isso, pandemia tá acima do futebol e fodase https://t.co/lHZfigGnIE, !!!!!! https://t.co/hH6gJMtNOM, !!!!!! https://t.co/qg9e1wjAxW, !!!!!!! Mandetta era importante por seus posicionamentos contra a pandemia nada mais que isso segue sendo farinha d… https://t.co/CfLHKXTPv5, !!!!!!! Ministro pede cautela no uso de cloroquina: 'Não é panaceia'  https://t.co/uS0gWxe6EO, !!!!!!!!! Foi demitido por querer proteger os brasileiros da pandemia https://t.co/VJk0XvSl6W, !!!!!!!!! Notícias boas sobre o COVID-19 !!!!!!!!!\n",
              "https://t.co/GHr3b7mRKL, !!!!!!!!!!!!! DEMAIS PQP EU NUNCA PEDI NADA, CORONAVIRUS, MORRE PUFAVO https://t.co/gF4udxhcLV, !!!!!!!!!!!!! https://t.co/BmJ42gYD7u, !!!!!!!!!!!!!!\n",
              "A RioFarmes já não fornece a mais de um ano e tenho que comprar em farmácias grandes, as vezes vem a… https://t.co/Y829fui71Y, !!!!!!!!!!!!!!!!!!!!!!!!!!! Se você tá se encontrando com outras pessoas que não moram com você, você não tá em iso… https://t.co/qYNlVJtds4, !!!!!!!!!!!!!!!ATENÇÃO!!!!!!!!!!!!!!!!!!!\n",
              "\n",
              "ao curtir este tweet, você está deixando claro que acha que tenho algo C… https://t.co/Q3WI6t08aY, !!!!!!!!!!!!!!!ATENÇÃO!!!!!!!!!!!!!!!!!!!\n",
              "\n",
              "ao curtir este tweet, você está deixando claro que quando a quarentena c… https://t.co/OjkJbC1RD6, !!!!!!!!!!!!!!!ATENÇÃO!!!!!!!!!!!!!!!!!!!\n",
              "\n",
              "ao curtir este tweet, você está deixando claro que quando a quarentena c… https://t.co/ThGywXwJMu, !!!!!!!!!!!!!!!ATENÇÃO!!!!!!!!!!!!!!!!!!!\n",
              "\n",
              "ao curtir este tweet, você está deixando claro que quando a quarentena c… https://t.co/VPy3pZ9div, !!!!!!!!!!!!!ATENÇÃO!!!!!!!!!!!!!!!!!!!\n",
              "\n",
              "ao curtir este tweet, você está deixando claro que quando a quarentena che… https://t.co/wPKTYk0IYB, !!!!!!AZAR não me xinguem por +1 corrente!!!!!!!\n",
              "\n",
              "NA QUARENTENA EU (pesadão)\n",
              "1. Não\n",
              "2. Sim\n",
              "3. Não\n",
              "4. Não \n",
              "5. Sim\n",
              "6.… https://t.co/muRNoUBWgp, !!!ATENÇÃO HATERS DE LIVES!!!\n",
              "Vou fazer a terceira live desde que a pandemia começou.\n",
              "Se você perdeu as outras duas… https://t.co/byC7tIqmHi, !!!Aviso importante!!!\n",
              "Em virtude de todas orientações preventivas por conta COVID 19 corona vírus, estaremos encer… https://t.co/IsvOfDIsrH, !!!Ideia!!! iniciar uma thread: COVID-19 para leigos. \n",
              "Analisar os números dos outros países e fazer previsões de c… https://t.co/hlQVpyypA0, !!!SEVIM ADIADO!!! Devido a crise do COVID-19 o SeViM teve de ser adiado para o segundo semestre de 2020, com possí… https://t.co/02deEtbls5, !!!bananinha!!!\n",
              "\"Em meio à pandemia, Bolsonaro divulga vídeo sobre a produção de banana\" https://t.co/Dn1QUeY9QP, !!NOVOS CURSOS E-LEARNING!!\n",
              "A Atlântica desenvolveu cursos em e-learning, de curta duração, para esta fase em que e… https://t.co/HWDVxhHZg8, !??!?\n",
              "Prefeito da minha cidade comprou 200k cápsulas de cloroquina.\n",
              "\n",
              " O médico vai fazer uma avaliação e se autoriz… https://t.co/jptljWkbSO, !ATENÇÃO! Utilidade Pública!\n",
              "#coronavirusbrasil \n",
              "#CoronavirusPandemic \n",
              "#coronavirus \n",
              "#Covid_19 \n",
              "#COVID19 https://t.co/vfkzAqcyrp, !COMPRE DO PEQUENO!\n",
              "\n",
              "[JUNTOS SOMOS MAIS FORTES]\n",
              "\n",
              "Acesse&gt;&gt;&gt; https://t.co/GZYFwapjz5 e fique por dentro das ações cri… https://t.co/hWMtbgWiJa, !Essa quarentena me ensinou a dar valor àquelas pessoas q tão smp cmg!, !URGENTE!\n",
              "\n",
              "segundo informações a secretaria da saúde estaria construindo esta área para quarentena de infectados do… https://t.co/VTFWvlud4a, !Utilidade pública!\n",
              "https://t.co/yC6g9cqKuT\n",
              "#COVID19 #máscara, !VRRP || QUARENTENA || KING ZÉ CARRO NOVO E ASSALTOS | ♥ Artista, maedoteufilho, SirMalucoo, f4lleR, Manudasilva33 https://t.co/wluk7yS3vT, !estou sendo obrigada a militar nesta rede social, me perdoem! Ñ, ñ pode visitar o amg, talvez vc e ele ñ estejam s… https://t.co/pBCrRuntuI, !lhe convido a fim de um bej9 pôs quarentena!\n",
              "se não quise é brincadeirinha se quise vem de zap, \"\n",
              "Ministro das Relações Exteriores, Ernesto Araújo afirmou neste domingo (24) que os Estados Unidos farão a doação… https://t.co/pATTKepGjD, \" \"O vírus tá aí, vamos ter de enfrentá-lo, mas enfrentar como homem, pô, não como moleque\", disse o presidente do… https://t.co/FVjC4KQKuF, \" #COVID19 Quando os casos aumentam, continuamos a recomendar que todos os países façam da contenção sua maior prio… https://t.co/agqcowGMr1, \" #CientistasBrasileiros suam para criar testes de coronavírus mais acessíveis\n",
              "A pesquisa é limitada por uma série… https://t.co/WedcRpLb5R, \" #RádioUFMG, Felipe Nunes analisou discursos de lideranças nacionais a #pandemia\n",
              "#UFMG #Brasil #Universidade #MG… https://t.co/JrZHqo9foj, \" #coronavirus Este vírus não é influenza \"- @DrTedros\n",
              "#COVID19 @WHO, \" #isolamentosocial \" , por Instagram @cartunistazappa\n",
              "\n",
              "#Charge #Meme #Humor #coronavirus #Verdade e #pensamento em… https://t.co/tpg5Q5Zz1I, \" 'Só quero distância', diz Ludmilla sobre Anitta \"\n",
              "\n",
              "ISSO AÍ LUDMILLA, EM TEMPOS DE QUARENTENA O DISTANCIAMENTO SOC… https://t.co/Qg5bZ2E5VL, \" - CORONA VÍRUS É O CARALHOO \"\n",
              "\" - QUANDO SUA FAMÍLIA TODA MORRER QUERO VER VC GRITAR ISSO SEU IRRESPONSÁVEL \"\n",
              "\" -… https://t.co/qpTSDayEFd, \" ... então, no dia 19 de março de 20 do século passado, após as chamadas manifestações fatais, 1/3 da população br… https://t.co/ckz9mO79ph, \" ...para ajudar os alunos pobres do curso, Souza inventava uma bolsa que o aluno receberia, mas que, na verdade, e… https://t.co/717wlX8HkB, \" 2020 vai ser o ano \"\n",
              "\n",
              "Janeiro: possível 3° guerra mundial\n",
              "Fevereiro: água da cedae\n",
              "Março: corona vírus\n",
              "\n",
              "Se a gent… https://t.co/Pv1kn3uyZs, \" 2020 vai ser o meu ano \" \n",
              "\n",
              "Janeiro: Terceira Guerra Mundial\n",
              "\n",
              "Fevereiro: Corona Vírus\n",
              "\n",
              "Março: Quarentena e colapso… https://t.co/Y0cFfhuc5W, \" 2020 vai ser um ano de coisas boas afinal já passamos a data limite \"\n",
              "\n",
              "Janeiro de 2020 \n",
              "Primeira parte - 3 guerra… https://t.co/xQNO1yliog, \" 30 mil mortes pelo novo coronavírus no Brasil\"\n",
              "\n",
              "O presidente : ai ai esse corona tóxico, \" 5.ª feira negra\" em sete bolsas europeias, Lisboa incluída. Nos EUA, #Dow Jones registou a maior quebra desde 198… https://t.co/BixR1rp08O, \" 5000 mortes pelo covid \"\n",
              "\n",
              "kd os \" gratidão-boy \" and \" deus é bom o tempo todo-girl\" ?\n",
              "\n",
              "Os \" coutí \" e monja vão… https://t.co/3cpzCZz8Xb, \" 59% são contra renúncia de Bolsonaro, aponta pesquisa nacional do Datafolha.\n",
              "\n",
              "Outros 37% desejam renúncia em meio… https://t.co/Bo96mFWYcr, \" @Anitta \" , remédio secreto de Pontes é pior que cloroquina para Covid-19, diz estudo chinês… https://t.co/faTXz97CD9, \" @lhmandetta descobriu que o pior tipo de solidão é a companhia de @jairbolsonaro \". Texto maravilhoso de… https://t.co/VN9K9Wad4t, \" A COVID-19 produz impactos tão severos no organismo que é difícil diferenciar pacientes com câncer de pulmão de i… https://t.co/vW3bSkC7Ji, \" A Cloroquina eu tenho experiência pela minha idade, falo c/ médicos e o que eles dizem é  um sucesso\" . Bolsonaro, \" A Melhor Prevenção contra o Coronavirus\" com  Doug Batchelor e Dr. Nei... https://t.co/fjoa2Jg8X8 via @YouTube, \" A Organização Mundial de saúde (OMS) declara pandemia do novo Corona Vírus\".\n",
              "\n",
              "O brasileiro: https://t.co/vtYlEP3BIy, \" A PANDEMIA SE TORNOU UM CAOS \" \n",
              "CARMINHA: É TUDO CULPA DA RITA! #AvenidaBrasil, \" A ciencia mistica do lockdown \" - @GFiuza_Oficial\n",
              "\n",
              "OU\n",
              "A enorme MALDADE dos governadores e prefeitos Brasil afora\n",
              "\n",
              "https://t.co/1HUwzBm3a9, \" A economia depois da pandemia tem que priorizar a vida\" Miguel Nicolelis neurofisiologista e cientista, \" A economia estava voando antes da crise do Coronavírus, cresciamos quase 1,7%\" Vitor Hugo, Major. Lider do governo na Camara, \" A medida que as taxas de infecção e mortalidade [por coronavírus] sobem no Brasil, o presidente Jair Bolsonaro es… https://t.co/QDj0MX3O5E, \" A riqueza só pode ser distribuída caso antes tenha sido criada\". Roger Scruton\n",
              "\n",
              "Libera a Cloroquina e vamos traba… https://t.co/BtO2QDs4Ng, \" A saúde mental da comunidade acadêmica na situação de isolamento social.\" Impressionante. Façam me rir. IDIOTAS. https://t.co/q8UIwtqy1T, \" A verdade está aparecendo aí: a hidroxicloroquina funciona, essa quarentena foi precipitada? Não tá aparecendo a… https://t.co/S2n1rAGoII, \" Agende seu Teste RT-PCR, Padrão Ouro, para o combate ao Covid – 19.\n",
              "     O único teste que detecta o vírus desde… https://t.co/pOAG0fuheM, \" Ah eu mesmo que não tomo essa Cloroquina aí\"...!!! Toma sim, filho! Se você pegar o corona, você toma até mijo de… https://t.co/37a1GKl5c7, \" Ahhh mas por que não é recomendável dar A TODOS hidroxicloroquina para combater covid-19 ?\" \n",
              "\n",
              "Porque cientificame… https://t.co/8kwV0QgvBu, \" Ai ce ta chato só fala de política\"\n",
              "Meu irmão, eu to sem esporte\n",
              "sem UM xamego\n",
              "não posso sair pra beber\n",
              "não posso… https://t.co/n2NZ28Y2Jy, \" Ainda bem que a natureza criou esse monstro chamado corona vírus (....),para que as pessoas percebam que apenas o… https://t.co/76Z9vUqdPc, \" Ainda bem que a natureza criou esse monstro chamado coronavirus para que as pessoas percebam que apenas o Estado… https://t.co/zdKJejfHGj, \" Ainda bem que a natureza criou o coronavírus \". Lula\n",
              "Que tipo de monstro Lula é pq pra dizer isso certamente pess… https://t.co/wJP8waKJsG, \" Alice vamos na rua com a gente, pro corona vírus não pegar na gente. Ele não gosta de gente feia\" KKKKKKKKKKKKKKKKK que ódio, \" Andaraí nunca decepciona \" é decepcionante sim ver a quadra de onde moramos cheia de gente em meio uma pandemia 🤙🏽🤔, \" Anh porque na europa o pessoal respeita o isolamento social , tem cultura, pensam no próximo etc\"\n",
              "\n",
              "Torcida do Nap… https://t.co/mgg66FhKJ7, \" Após o vídeo de Jair Bolsonaro, o seu teste de Covid-19 deu negativo para o impeachment e deu positivo para reele… https://t.co/3IF7qJjRVJ, \" Aras diz em resposta ao STF que decisão de isolamento Social no Brasil, é o GOVERNO FEDERAL quem decide\" este Ara… https://t.co/o4n9COxTpW, \" Até agora, não há sinais de que serão testados para a Covid-19. A dificuldade financeira para implementar o proto… https://t.co/DdkID1gtKW, \" Bolsonaro já tem mais testes de coronavírus do que projetos aprovados em 30 anos de parlamento. \", \" Bolsonaro revela que Trump enviará 2 milhões de comprimidos de cloroquina ao Brasil \"- Ajuda inestimável, poderá… https://t.co/2SJCOY30Gc, \" Brasil e Estados Unidos em estreita coordenação na luta compartilhada contra a pandemia do coronavírus \" https://t.co/SObdY0G3hg, \" Brasil tem recorde de novos casos e registra 888 mortes por coronavírus em 24 horas\" \n",
              "\n",
              "Meu deus do céu !!! ... fi… https://t.co/R2LqwxPTs4, \" Brasil vai superar a  China em números de morte por COVID\"\n",
              "Óbvio!!\n",
              " Lá morre e não contam, aqui contam até os que não morrem.🤔, \" C'est une saleté, je ne souhaite ça à personne \",\n",
              "\n",
              "The testimony of a patient cured of # Covid_19\n",
              "  #coronavirus… https://t.co/9c03zGh5dW, ...]\n",
              "\n",
              "[1653599 rows x 0 columns]"
            ]
          },
          "metadata": {
            "tags": []
          },
          "execution_count": 31
        }
      ]
    },
    {
      "cell_type": "code",
      "metadata": {
        "id": "8HX7c-airzY4",
        "outputId": "00ba169d-6d2b-4607-c4b7-c2bd7565a162",
        "colab": {
          "base_uri": "https://localhost:8080/",
          "height": 306
        }
      },
      "source": [
        "tw.head()"
      ],
      "execution_count": 104,
      "outputs": [
        {
          "output_type": "execute_result",
          "data": {
            "text/html": [
              "<div>\n",
              "<style scoped>\n",
              "    .dataframe tbody tr th:only-of-type {\n",
              "        vertical-align: middle;\n",
              "    }\n",
              "\n",
              "    .dataframe tbody tr th {\n",
              "        vertical-align: top;\n",
              "    }\n",
              "\n",
              "    .dataframe thead th {\n",
              "        text-align: right;\n",
              "    }\n",
              "</style>\n",
              "<table border=\"1\" class=\"dataframe\">\n",
              "  <thead>\n",
              "    <tr style=\"text-align: right;\">\n",
              "      <th></th>\n",
              "      <th>data</th>\n",
              "      <th>usuario</th>\n",
              "      <th>apelido</th>\n",
              "      <th>texto</th>\n",
              "      <th>retweet</th>\n",
              "      <th>seguidores</th>\n",
              "      <th>idioma</th>\n",
              "      <th>lugar</th>\n",
              "      <th>pais</th>\n",
              "      <th>sigla</th>\n",
              "      <th>latitude</th>\n",
              "      <th>longitude</th>\n",
              "      <th>hashtags</th>\n",
              "      <th>geometry</th>\n",
              "    </tr>\n",
              "  </thead>\n",
              "  <tbody>\n",
              "    <tr>\n",
              "      <th>0</th>\n",
              "      <td>2020-03-23 18:51:14</td>\n",
              "      <td>Gaboardi</td>\n",
              "      <td>fraslee</td>\n",
              "      <td>@BolsonaroSP Cade o fundão deputado??? Congres...</td>\n",
              "      <td>0</td>\n",
              "      <td>138</td>\n",
              "      <td>pt</td>\n",
              "      <td>NaN</td>\n",
              "      <td>NaN</td>\n",
              "      <td>NaN</td>\n",
              "      <td>NaN</td>\n",
              "      <td>NaN</td>\n",
              "      <td>[]</td>\n",
              "      <td>POINT (nan nan)</td>\n",
              "    </tr>\n",
              "    <tr>\n",
              "      <th>1</th>\n",
              "      <td>2020-03-18 03:18:14</td>\n",
              "      <td>Seu Zé da Farmácia</td>\n",
              "      <td>seuzedafarmacia</td>\n",
              "      <td>Em ação preventiva, o Governo do Estado suspen...</td>\n",
              "      <td>0</td>\n",
              "      <td>56</td>\n",
              "      <td>pt</td>\n",
              "      <td>NaN</td>\n",
              "      <td>NaN</td>\n",
              "      <td>NaN</td>\n",
              "      <td>NaN</td>\n",
              "      <td>NaN</td>\n",
              "      <td>[]</td>\n",
              "      <td>POINT (nan nan)</td>\n",
              "    </tr>\n",
              "    <tr>\n",
              "      <th>2</th>\n",
              "      <td>2020-03-29 12:09:27</td>\n",
              "      <td>Marília Oliveira 🇧🇷</td>\n",
              "      <td>Marioliveira_gb</td>\n",
              "      <td>Incrível como os defensores do fim do distanci...</td>\n",
              "      <td>0</td>\n",
              "      <td>5</td>\n",
              "      <td>pt</td>\n",
              "      <td>NaN</td>\n",
              "      <td>NaN</td>\n",
              "      <td>NaN</td>\n",
              "      <td>NaN</td>\n",
              "      <td>NaN</td>\n",
              "      <td>[]</td>\n",
              "      <td>POINT (nan nan)</td>\n",
              "    </tr>\n",
              "    <tr>\n",
              "      <th>3</th>\n",
              "      <td>2020-04-01 21:11:07</td>\n",
              "      <td>🚩</td>\n",
              "      <td>santosodeto</td>\n",
              "      <td>Fumaça de cigarro pode propagar coronavírus? h...</td>\n",
              "      <td>0</td>\n",
              "      <td>1885</td>\n",
              "      <td>pt</td>\n",
              "      <td>NaN</td>\n",
              "      <td>NaN</td>\n",
              "      <td>NaN</td>\n",
              "      <td>NaN</td>\n",
              "      <td>NaN</td>\n",
              "      <td>[]</td>\n",
              "      <td>POINT (nan nan)</td>\n",
              "    </tr>\n",
              "    <tr>\n",
              "      <th>4</th>\n",
              "      <td>2020-03-19 17:49:40</td>\n",
              "      <td>Nova Impressão</td>\n",
              "      <td>novaimpressao_</td>\n",
              "      <td>🚨Todos juntos contra COVID-19💪\\n\\nSolicite seu...</td>\n",
              "      <td>0</td>\n",
              "      <td>124</td>\n",
              "      <td>pt</td>\n",
              "      <td>Brasília</td>\n",
              "      <td>Brazil</td>\n",
              "      <td>BR</td>\n",
              "      <td>-47.8778</td>\n",
              "      <td>-15.77691</td>\n",
              "      <td>[]</td>\n",
              "      <td>POINT (-47.87780 -15.77691)</td>\n",
              "    </tr>\n",
              "  </tbody>\n",
              "</table>\n",
              "</div>"
            ],
            "text/plain": [
              "                  data  ...                     geometry\n",
              "0  2020-03-23 18:51:14  ...              POINT (nan nan)\n",
              "1  2020-03-18 03:18:14  ...              POINT (nan nan)\n",
              "2  2020-03-29 12:09:27  ...              POINT (nan nan)\n",
              "3  2020-04-01 21:11:07  ...              POINT (nan nan)\n",
              "4  2020-03-19 17:49:40  ...  POINT (-47.87780 -15.77691)\n",
              "\n",
              "[5 rows x 14 columns]"
            ]
          },
          "metadata": {
            "tags": []
          },
          "execution_count": 104
        }
      ]
    },
    {
      "cell_type": "markdown",
      "metadata": {
        "id": "s1Q3UMTcqs-R"
      },
      "source": [
        "### Extração das Perguntas"
      ]
    },
    {
      "cell_type": "code",
      "metadata": {
        "id": "S-jGt0_7pzt_",
        "outputId": "db95eb61-b4cd-418b-a2a6-47bf8a5f600e",
        "colab": {
          "base_uri": "https://localhost:8080/",
          "height": 306
        }
      },
      "source": [
        "import re # lib para trabalhar com expressões regulares\n",
        "data = []\n",
        "for tweet in tw.itertuples(index=False):\n",
        "    sentences = re.findall('[^[?|!|.|;]+]*[?|!|.|;]', tweet.texto)\n",
        "    questions = list(filter(lambda x: x.endswith('?'), sentences))\n",
        "    for question in questions:\n",
        "      new_tweet = (tweet[0:3] + (question,) + tweet[4:14])\n",
        "      data.append(new_tweet) \n",
        "PerguntasDB = pd.DataFrame(data, columns = tw.columns)\n",
        "PerguntasDB.head()"
      ],
      "execution_count": 105,
      "outputs": [
        {
          "output_type": "execute_result",
          "data": {
            "text/html": [
              "<div>\n",
              "<style scoped>\n",
              "    .dataframe tbody tr th:only-of-type {\n",
              "        vertical-align: middle;\n",
              "    }\n",
              "\n",
              "    .dataframe tbody tr th {\n",
              "        vertical-align: top;\n",
              "    }\n",
              "\n",
              "    .dataframe thead th {\n",
              "        text-align: right;\n",
              "    }\n",
              "</style>\n",
              "<table border=\"1\" class=\"dataframe\">\n",
              "  <thead>\n",
              "    <tr style=\"text-align: right;\">\n",
              "      <th></th>\n",
              "      <th>data</th>\n",
              "      <th>usuario</th>\n",
              "      <th>apelido</th>\n",
              "      <th>texto</th>\n",
              "      <th>retweet</th>\n",
              "      <th>seguidores</th>\n",
              "      <th>idioma</th>\n",
              "      <th>lugar</th>\n",
              "      <th>pais</th>\n",
              "      <th>sigla</th>\n",
              "      <th>latitude</th>\n",
              "      <th>longitude</th>\n",
              "      <th>hashtags</th>\n",
              "      <th>geometry</th>\n",
              "    </tr>\n",
              "  </thead>\n",
              "  <tbody>\n",
              "    <tr>\n",
              "      <th>0</th>\n",
              "      <td>2020-03-23 18:51:14</td>\n",
              "      <td>Gaboardi</td>\n",
              "      <td>fraslee</td>\n",
              "      <td>@BolsonaroSP Cade o fundão deputado?</td>\n",
              "      <td>0</td>\n",
              "      <td>138</td>\n",
              "      <td>pt</td>\n",
              "      <td>NaN</td>\n",
              "      <td>NaN</td>\n",
              "      <td>NaN</td>\n",
              "      <td>NaN</td>\n",
              "      <td>NaN</td>\n",
              "      <td>[]</td>\n",
              "      <td>POINT (nan nan)</td>\n",
              "    </tr>\n",
              "    <tr>\n",
              "      <th>1</th>\n",
              "      <td>2020-04-01 21:11:07</td>\n",
              "      <td>🚩</td>\n",
              "      <td>santosodeto</td>\n",
              "      <td>Fumaça de cigarro pode propagar coronavírus?</td>\n",
              "      <td>0</td>\n",
              "      <td>1885</td>\n",
              "      <td>pt</td>\n",
              "      <td>NaN</td>\n",
              "      <td>NaN</td>\n",
              "      <td>NaN</td>\n",
              "      <td>NaN</td>\n",
              "      <td>NaN</td>\n",
              "      <td>[]</td>\n",
              "      <td>POINT (nan nan)</td>\n",
              "    </tr>\n",
              "    <tr>\n",
              "      <th>2</th>\n",
              "      <td>2020-06-25 11:09:19</td>\n",
              "      <td>Andreia Peraro</td>\n",
              "      <td>AndreiaPeraro</td>\n",
              "      <td>@ipratesMD @dr_pampers Será que corremos o ris...</td>\n",
              "      <td>0</td>\n",
              "      <td>86</td>\n",
              "      <td>pt</td>\n",
              "      <td>NaN</td>\n",
              "      <td>NaN</td>\n",
              "      <td>NaN</td>\n",
              "      <td>NaN</td>\n",
              "      <td>NaN</td>\n",
              "      <td>[]</td>\n",
              "      <td>POINT (nan nan)</td>\n",
              "    </tr>\n",
              "    <tr>\n",
              "      <th>3</th>\n",
              "      <td>2020-04-06 15:44:36</td>\n",
              "      <td>Diorgenes Pandini</td>\n",
              "      <td>diorpandini</td>\n",
              "      <td>Prioridade ?</td>\n",
              "      <td>0</td>\n",
              "      <td>219</td>\n",
              "      <td>pt</td>\n",
              "      <td>NaN</td>\n",
              "      <td>NaN</td>\n",
              "      <td>NaN</td>\n",
              "      <td>NaN</td>\n",
              "      <td>NaN</td>\n",
              "      <td>['COVID19', 'floripa', 'isolamento']</td>\n",
              "      <td>POINT (nan nan)</td>\n",
              "    </tr>\n",
              "    <tr>\n",
              "      <th>4</th>\n",
              "      <td>2020-03-30 00:43:36</td>\n",
              "      <td>Valnei do Val</td>\n",
              "      <td>vdoval</td>\n",
              "      <td>Que tal uma notícia boa, indo na contramão do ...</td>\n",
              "      <td>0</td>\n",
              "      <td>201</td>\n",
              "      <td>pt</td>\n",
              "      <td>NaN</td>\n",
              "      <td>NaN</td>\n",
              "      <td>NaN</td>\n",
              "      <td>NaN</td>\n",
              "      <td>NaN</td>\n",
              "      <td>[]</td>\n",
              "      <td>POINT (nan nan)</td>\n",
              "    </tr>\n",
              "  </tbody>\n",
              "</table>\n",
              "</div>"
            ],
            "text/plain": [
              "                  data  ...         geometry\n",
              "0  2020-03-23 18:51:14  ...  POINT (nan nan)\n",
              "1  2020-04-01 21:11:07  ...  POINT (nan nan)\n",
              "2  2020-06-25 11:09:19  ...  POINT (nan nan)\n",
              "3  2020-04-06 15:44:36  ...  POINT (nan nan)\n",
              "4  2020-03-30 00:43:36  ...  POINT (nan nan)\n",
              "\n",
              "[5 rows x 14 columns]"
            ]
          },
          "metadata": {
            "tags": []
          },
          "execution_count": 105
        }
      ]
    }
  ]
}