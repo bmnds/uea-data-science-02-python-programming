{
  "nbformat": 4,
  "nbformat_minor": 0,
  "metadata": {
    "colab": {
      "name": "Intro to Jupyter Notebook.ipynb",
      "provenance": [],
      "collapsed_sections": [],
      "authorship_tag": "ABX9TyPyUMNyvY0PtM3qMo1vWh/r",
      "include_colab_link": true
    },
    "kernelspec": {
      "name": "python3",
      "display_name": "Python 3"
    }
  },
  "cells": [
    {
      "cell_type": "markdown",
      "metadata": {
        "id": "view-in-github",
        "colab_type": "text"
      },
      "source": [
        "<a href=\"https://colab.research.google.com/github/bmnds/uea-data-science-02-python-programming/blob/master/Intro_to_Jupyter_Notebook.ipynb\" target=\"_parent\"><img src=\"https://colab.research.google.com/assets/colab-badge.svg\" alt=\"Open In Colab\"/></a>"
      ]
    },
    {
      "cell_type": "markdown",
      "metadata": {
        "id": "zqwtUyhKeEVt",
        "colab_type": "text"
      },
      "source": [
        "# Olá, Jupyter!\n",
        "\n",
        "texto **em negrito** ou *em itálico* ou ~tachado~\n",
        "\n",
        "fórmula matemática inline $e^x=\\sum_{i=0}^n \\frac{1}{i!}x^i$\n",
        "\n",
        "link para o [repositório no github](https://github.com/bmnds/uea-data-science-02-python-programming)"
      ]
    },
    {
      "cell_type": "code",
      "metadata": {
        "id": "l8KyH0N7yYDu",
        "colab_type": "code",
        "colab": {
          "base_uri": "https://localhost:8080/",
          "height": 34
        },
        "outputId": "8ece21b5-102e-4d9c-a547-2852b1b08495"
      },
      "source": [
        "!python --version"
      ],
      "execution_count": null,
      "outputs": [
        {
          "output_type": "stream",
          "text": [
            "Python 3.6.9\n"
          ],
          "name": "stdout"
        }
      ]
    },
    {
      "cell_type": "code",
      "metadata": {
        "id": "aLHxoUGj8TSq",
        "colab_type": "code",
        "colab": {
          "base_uri": "https://localhost:8080/",
          "height": 34
        },
        "outputId": "24baa9fe-f434-4d77-b761-d701e121f274"
      },
      "source": [
        "from google.colab import drive\n",
        "drive.mount('/content/drive')"
      ],
      "execution_count": 89,
      "outputs": [
        {
          "output_type": "stream",
          "text": [
            "Mounted at /content/drive\n"
          ],
          "name": "stdout"
        }
      ]
    },
    {
      "cell_type": "code",
      "metadata": {
        "id": "2mtcaku4ycm1",
        "colab_type": "code",
        "colab": {
          "base_uri": "https://localhost:8080/",
          "height": 222
        },
        "outputId": "c3dfe5e8-41f5-4302-d1c1-e69d27a2a66f"
      },
      "source": [
        "!wget http://tiagodemelo.info/datasets/dados-curso.csv"
      ],
      "execution_count": 94,
      "outputs": [
        {
          "output_type": "stream",
          "text": [
            "--2020-09-19 20:52:32--  http://tiagodemelo.info/datasets/dados-curso.csv\n",
            "Resolving tiagodemelo.info (tiagodemelo.info)... 108.167.188.189\n",
            "Connecting to tiagodemelo.info (tiagodemelo.info)|108.167.188.189|:80... connected.\n",
            "HTTP request sent, awaiting response... 200 OK\n",
            "Length: 102696 (100K) [text/csv]\n",
            "Saving to: ‘dados-curso.csv.1’\n",
            "\n",
            "dados-curso.csv.1   100%[===================>] 100.29K   205KB/s    in 0.5s    \n",
            "\n",
            "2020-09-19 20:52:33 (205 KB/s) - ‘dados-curso.csv.1’ saved [102696/102696]\n",
            "\n"
          ],
          "name": "stdout"
        }
      ]
    },
    {
      "cell_type": "markdown",
      "metadata": {
        "id": "EYK3eSrKJgnR",
        "colab_type": "text"
      },
      "source": [
        "### Lendo dados do arquivo CSV"
      ]
    },
    {
      "cell_type": "code",
      "metadata": {
        "id": "SWIF6Y8cfK_a",
        "colab_type": "code",
        "colab": {
          "base_uri": "https://localhost:8080/",
          "height": 286
        },
        "outputId": "b1a6cc78-ca48-4cb8-b54d-e8b733c9a0e7"
      },
      "source": [
        "import pandas as pd\n",
        "dados = pd.read_csv('dados-curso.csv')\n",
        "dados.info()"
      ],
      "execution_count": 101,
      "outputs": [
        {
          "output_type": "stream",
          "text": [
            "<class 'pandas.core.frame.DataFrame'>\n",
            "RangeIndex: 500 entries, 0 to 499\n",
            "Data columns (total 9 columns):\n",
            " #   Column     Non-Null Count  Dtype  \n",
            "---  ------     --------------  -----  \n",
            " 0   data       500 non-null    object \n",
            " 1   texto      500 non-null    object \n",
            " 2   retweet    500 non-null    int64  \n",
            " 3   idioma     500 non-null    object \n",
            " 4   lugar      500 non-null    object \n",
            " 5   pais       500 non-null    object \n",
            " 6   sigla      499 non-null    object \n",
            " 7   latitude   500 non-null    float64\n",
            " 8   longitude  500 non-null    float64\n",
            "dtypes: float64(2), int64(1), object(6)\n",
            "memory usage: 35.3+ KB\n"
          ],
          "name": "stdout"
        }
      ]
    },
    {
      "cell_type": "code",
      "metadata": {
        "id": "Lb_LjTnAfjkF",
        "colab_type": "code",
        "colab": {
          "base_uri": "https://localhost:8080/",
          "height": 383
        },
        "outputId": "f7d2cf9b-ad5a-4b8c-c37c-0acd880dc9d5"
      },
      "source": [
        "dados.head()"
      ],
      "execution_count": 102,
      "outputs": [
        {
          "output_type": "execute_result",
          "data": {
            "text/html": [
              "<div>\n",
              "<style scoped>\n",
              "    .dataframe tbody tr th:only-of-type {\n",
              "        vertical-align: middle;\n",
              "    }\n",
              "\n",
              "    .dataframe tbody tr th {\n",
              "        vertical-align: top;\n",
              "    }\n",
              "\n",
              "    .dataframe thead th {\n",
              "        text-align: right;\n",
              "    }\n",
              "</style>\n",
              "<table border=\"1\" class=\"dataframe\">\n",
              "  <thead>\n",
              "    <tr style=\"text-align: right;\">\n",
              "      <th></th>\n",
              "      <th>data</th>\n",
              "      <th>texto</th>\n",
              "      <th>retweet</th>\n",
              "      <th>idioma</th>\n",
              "      <th>lugar</th>\n",
              "      <th>pais</th>\n",
              "      <th>sigla</th>\n",
              "      <th>latitude</th>\n",
              "      <th>longitude</th>\n",
              "    </tr>\n",
              "  </thead>\n",
              "  <tbody>\n",
              "    <tr>\n",
              "      <th>0</th>\n",
              "      <td>2020-05-23 00:21:14</td>\n",
              "      <td>Para voltar tudo ao normal, você precisa fazer...</td>\n",
              "      <td>0</td>\n",
              "      <td>pt</td>\n",
              "      <td>Rio das Ostras</td>\n",
              "      <td>Brazil</td>\n",
              "      <td>BR</td>\n",
              "      <td>-41.937900</td>\n",
              "      <td>-22.522600</td>\n",
              "    </tr>\n",
              "    <tr>\n",
              "      <th>1</th>\n",
              "      <td>2020-03-22 22:57:51</td>\n",
              "      <td>14.245 – O que é a hidroxicloroquina? https://...</td>\n",
              "      <td>0</td>\n",
              "      <td>pt</td>\n",
              "      <td>Sao Paulo</td>\n",
              "      <td>Brazil</td>\n",
              "      <td>BR</td>\n",
              "      <td>-46.674739</td>\n",
              "      <td>-23.606067</td>\n",
              "    </tr>\n",
              "    <tr>\n",
              "      <th>2</th>\n",
              "      <td>2020-04-14 00:11:33</td>\n",
              "      <td>Quarta morte em Lar de Estarreja associada à C...</td>\n",
              "      <td>1</td>\n",
              "      <td>pt</td>\n",
              "      <td>Lisbon</td>\n",
              "      <td>Portugal</td>\n",
              "      <td>PT</td>\n",
              "      <td>-9.099043</td>\n",
              "      <td>38.747518</td>\n",
              "    </tr>\n",
              "    <tr>\n",
              "      <th>3</th>\n",
              "      <td>2020-05-25 20:45:43</td>\n",
              "      <td>COVID-19 |  Hospital municipal Tide Setúbal, n...</td>\n",
              "      <td>0</td>\n",
              "      <td>pt</td>\n",
              "      <td>Sao Paulo</td>\n",
              "      <td>Brazil</td>\n",
              "      <td>BR</td>\n",
              "      <td>-46.633300</td>\n",
              "      <td>-23.550000</td>\n",
              "    </tr>\n",
              "    <tr>\n",
              "      <th>4</th>\n",
              "      <td>2020-04-15 10:34:39</td>\n",
              "      <td>#cenasdocotidiano #santos #distanciamentosocia...</td>\n",
              "      <td>0</td>\n",
              "      <td>pt</td>\n",
              "      <td>Santos</td>\n",
              "      <td>Brazil</td>\n",
              "      <td>BR</td>\n",
              "      <td>-46.293700</td>\n",
              "      <td>-23.975947</td>\n",
              "    </tr>\n",
              "  </tbody>\n",
              "</table>\n",
              "</div>"
            ],
            "text/plain": [
              "                  data  ...  longitude\n",
              "0  2020-05-23 00:21:14  ... -22.522600\n",
              "1  2020-03-22 22:57:51  ... -23.606067\n",
              "2  2020-04-14 00:11:33  ...  38.747518\n",
              "3  2020-05-25 20:45:43  ... -23.550000\n",
              "4  2020-04-15 10:34:39  ... -23.975947\n",
              "\n",
              "[5 rows x 9 columns]"
            ]
          },
          "metadata": {
            "tags": []
          },
          "execution_count": 102
        }
      ]
    },
    {
      "cell_type": "markdown",
      "metadata": {
        "id": "QGt2H5cyJOrR",
        "colab_type": "text"
      },
      "source": [
        "### Acessando dados do arquivo"
      ]
    },
    {
      "cell_type": "code",
      "metadata": {
        "id": "S_dp9KRZJIov",
        "colab_type": "code",
        "colab": {
          "base_uri": "https://localhost:8080/",
          "height": 218
        },
        "outputId": "f9daf039-76af-4065-a741-eb8175db1ebd"
      },
      "source": [
        "dados['lugar']"
      ],
      "execution_count": 103,
      "outputs": [
        {
          "output_type": "execute_result",
          "data": {
            "text/plain": [
              "0      Rio das Ostras\n",
              "1           Sao Paulo\n",
              "2              Lisbon\n",
              "3           Sao Paulo\n",
              "4              Santos\n",
              "            ...      \n",
              "495        Rio Branco\n",
              "496    Rio de Janeiro\n",
              "497           Toronto\n",
              "498         Sao Paulo\n",
              "499            Lisbon\n",
              "Name: lugar, Length: 500, dtype: object"
            ]
          },
          "metadata": {
            "tags": []
          },
          "execution_count": 103
        }
      ]
    },
    {
      "cell_type": "markdown",
      "metadata": {
        "id": "KBFrGqrXJvML",
        "colab_type": "text"
      },
      "source": [
        "Traz as colunas como linhas e os valores da primeira linha"
      ]
    },
    {
      "cell_type": "code",
      "metadata": {
        "id": "BPVnJJC5JUoY",
        "colab_type": "code",
        "colab": {
          "base_uri": "https://localhost:8080/",
          "height": 185
        },
        "outputId": "ff2e4cff-de46-4459-91d9-ab904a5a0f90"
      },
      "source": [
        "dados.iloc[0]"
      ],
      "execution_count": 106,
      "outputs": [
        {
          "output_type": "execute_result",
          "data": {
            "text/plain": [
              "data                                       2020-05-23 00:21:14\n",
              "texto        Para voltar tudo ao normal, você precisa fazer...\n",
              "retweet                                                      0\n",
              "idioma                                                      pt\n",
              "lugar                                           Rio das Ostras\n",
              "pais                                                    Brazil\n",
              "sigla                                                       BR\n",
              "latitude                                              -41.9379\n",
              "longitude                                             -22.5226\n",
              "Name: 0, dtype: object"
            ]
          },
          "metadata": {
            "tags": []
          },
          "execution_count": 106
        }
      ]
    },
    {
      "cell_type": "markdown",
      "metadata": {
        "id": "qvx2bwWAKEtK",
        "colab_type": "text"
      },
      "source": [
        "Lê os 5 primeiros registros"
      ]
    },
    {
      "cell_type": "code",
      "metadata": {
        "id": "LuzLQlCaKFFZ",
        "colab_type": "code",
        "colab": {
          "base_uri": "https://localhost:8080/",
          "height": 383
        },
        "outputId": "9c4565ac-1b78-4148-bb88-132c01343f0a"
      },
      "source": [
        "dados.iloc[:5]"
      ],
      "execution_count": 110,
      "outputs": [
        {
          "output_type": "execute_result",
          "data": {
            "text/html": [
              "<div>\n",
              "<style scoped>\n",
              "    .dataframe tbody tr th:only-of-type {\n",
              "        vertical-align: middle;\n",
              "    }\n",
              "\n",
              "    .dataframe tbody tr th {\n",
              "        vertical-align: top;\n",
              "    }\n",
              "\n",
              "    .dataframe thead th {\n",
              "        text-align: right;\n",
              "    }\n",
              "</style>\n",
              "<table border=\"1\" class=\"dataframe\">\n",
              "  <thead>\n",
              "    <tr style=\"text-align: right;\">\n",
              "      <th></th>\n",
              "      <th>data</th>\n",
              "      <th>texto</th>\n",
              "      <th>retweet</th>\n",
              "      <th>idioma</th>\n",
              "      <th>lugar</th>\n",
              "      <th>pais</th>\n",
              "      <th>sigla</th>\n",
              "      <th>latitude</th>\n",
              "      <th>longitude</th>\n",
              "    </tr>\n",
              "  </thead>\n",
              "  <tbody>\n",
              "    <tr>\n",
              "      <th>0</th>\n",
              "      <td>2020-05-23 00:21:14</td>\n",
              "      <td>Para voltar tudo ao normal, você precisa fazer...</td>\n",
              "      <td>0</td>\n",
              "      <td>pt</td>\n",
              "      <td>Rio das Ostras</td>\n",
              "      <td>Brazil</td>\n",
              "      <td>BR</td>\n",
              "      <td>-41.937900</td>\n",
              "      <td>-22.522600</td>\n",
              "    </tr>\n",
              "    <tr>\n",
              "      <th>1</th>\n",
              "      <td>2020-03-22 22:57:51</td>\n",
              "      <td>14.245 – O que é a hidroxicloroquina? https://...</td>\n",
              "      <td>0</td>\n",
              "      <td>pt</td>\n",
              "      <td>Sao Paulo</td>\n",
              "      <td>Brazil</td>\n",
              "      <td>BR</td>\n",
              "      <td>-46.674739</td>\n",
              "      <td>-23.606067</td>\n",
              "    </tr>\n",
              "    <tr>\n",
              "      <th>2</th>\n",
              "      <td>2020-04-14 00:11:33</td>\n",
              "      <td>Quarta morte em Lar de Estarreja associada à C...</td>\n",
              "      <td>1</td>\n",
              "      <td>pt</td>\n",
              "      <td>Lisbon</td>\n",
              "      <td>Portugal</td>\n",
              "      <td>PT</td>\n",
              "      <td>-9.099043</td>\n",
              "      <td>38.747518</td>\n",
              "    </tr>\n",
              "    <tr>\n",
              "      <th>3</th>\n",
              "      <td>2020-05-25 20:45:43</td>\n",
              "      <td>COVID-19 |  Hospital municipal Tide Setúbal, n...</td>\n",
              "      <td>0</td>\n",
              "      <td>pt</td>\n",
              "      <td>Sao Paulo</td>\n",
              "      <td>Brazil</td>\n",
              "      <td>BR</td>\n",
              "      <td>-46.633300</td>\n",
              "      <td>-23.550000</td>\n",
              "    </tr>\n",
              "    <tr>\n",
              "      <th>4</th>\n",
              "      <td>2020-04-15 10:34:39</td>\n",
              "      <td>#cenasdocotidiano #santos #distanciamentosocia...</td>\n",
              "      <td>0</td>\n",
              "      <td>pt</td>\n",
              "      <td>Santos</td>\n",
              "      <td>Brazil</td>\n",
              "      <td>BR</td>\n",
              "      <td>-46.293700</td>\n",
              "      <td>-23.975947</td>\n",
              "    </tr>\n",
              "  </tbody>\n",
              "</table>\n",
              "</div>"
            ],
            "text/plain": [
              "                  data  ...  longitude\n",
              "0  2020-05-23 00:21:14  ... -22.522600\n",
              "1  2020-03-22 22:57:51  ... -23.606067\n",
              "2  2020-04-14 00:11:33  ...  38.747518\n",
              "3  2020-05-25 20:45:43  ... -23.550000\n",
              "4  2020-04-15 10:34:39  ... -23.975947\n",
              "\n",
              "[5 rows x 9 columns]"
            ]
          },
          "metadata": {
            "tags": []
          },
          "execution_count": 110
        }
      ]
    },
    {
      "cell_type": "markdown",
      "metadata": {
        "id": "F8LzAEHiJ_Q6",
        "colab_type": "text"
      },
      "source": [
        "Lê os 5 últimos registros"
      ]
    },
    {
      "cell_type": "code",
      "metadata": {
        "id": "b_bT158GJ500",
        "colab_type": "code",
        "colab": {
          "base_uri": "https://localhost:8080/",
          "height": 565
        },
        "outputId": "b05889b3-3feb-434f-dfd2-2d5c03898984"
      },
      "source": [
        "dados.iloc[-5:]"
      ],
      "execution_count": 107,
      "outputs": [
        {
          "output_type": "execute_result",
          "data": {
            "text/html": [
              "<div>\n",
              "<style scoped>\n",
              "    .dataframe tbody tr th:only-of-type {\n",
              "        vertical-align: middle;\n",
              "    }\n",
              "\n",
              "    .dataframe tbody tr th {\n",
              "        vertical-align: top;\n",
              "    }\n",
              "\n",
              "    .dataframe thead th {\n",
              "        text-align: right;\n",
              "    }\n",
              "</style>\n",
              "<table border=\"1\" class=\"dataframe\">\n",
              "  <thead>\n",
              "    <tr style=\"text-align: right;\">\n",
              "      <th></th>\n",
              "      <th>data</th>\n",
              "      <th>texto</th>\n",
              "      <th>retweet</th>\n",
              "      <th>idioma</th>\n",
              "      <th>lugar</th>\n",
              "      <th>pais</th>\n",
              "      <th>sigla</th>\n",
              "      <th>latitude</th>\n",
              "      <th>longitude</th>\n",
              "    </tr>\n",
              "  </thead>\n",
              "  <tbody>\n",
              "    <tr>\n",
              "      <th>495</th>\n",
              "      <td>2020-04-07 16:14:13</td>\n",
              "      <td>O isolamento social também serve para mostrar ...</td>\n",
              "      <td>1</td>\n",
              "      <td>pt</td>\n",
              "      <td>Rio Branco</td>\n",
              "      <td>Brazil</td>\n",
              "      <td>BR</td>\n",
              "      <td>-67.859657</td>\n",
              "      <td>-9.932246</td>\n",
              "    </tr>\n",
              "    <tr>\n",
              "      <th>496</th>\n",
              "      <td>2020-03-26 18:02:28</td>\n",
              "      <td>Enquanto o mundo está atento ao covid 19 é o B...</td>\n",
              "      <td>0</td>\n",
              "      <td>pt</td>\n",
              "      <td>Rio de Janeiro</td>\n",
              "      <td>Brazil</td>\n",
              "      <td>BR</td>\n",
              "      <td>-43.358100</td>\n",
              "      <td>-22.942800</td>\n",
              "    </tr>\n",
              "    <tr>\n",
              "      <th>497</th>\n",
              "      <td>2020-03-18 05:28:16</td>\n",
              "      <td>#covid_19 #stayhome @ Toronto, Ontario https:/...</td>\n",
              "      <td>0</td>\n",
              "      <td>pt</td>\n",
              "      <td>Toronto</td>\n",
              "      <td>Canada</td>\n",
              "      <td>CA</td>\n",
              "      <td>-79.387200</td>\n",
              "      <td>43.648000</td>\n",
              "    </tr>\n",
              "    <tr>\n",
              "      <th>498</th>\n",
              "      <td>2020-03-03 21:27:11</td>\n",
              "      <td>Um vira-lata sem Coronavirus #joeviralata #dog...</td>\n",
              "      <td>0</td>\n",
              "      <td>pt</td>\n",
              "      <td>Sao Paulo</td>\n",
              "      <td>Brazil</td>\n",
              "      <td>BR</td>\n",
              "      <td>-46.633300</td>\n",
              "      <td>-23.550000</td>\n",
              "    </tr>\n",
              "    <tr>\n",
              "      <th>499</th>\n",
              "      <td>2020-01-21 13:18:03</td>\n",
              "      <td>Portugal já está a preparar-se para responder ...</td>\n",
              "      <td>1</td>\n",
              "      <td>pt</td>\n",
              "      <td>Lisbon</td>\n",
              "      <td>Portugal</td>\n",
              "      <td>PT</td>\n",
              "      <td>-9.099043</td>\n",
              "      <td>38.747518</td>\n",
              "    </tr>\n",
              "  </tbody>\n",
              "</table>\n",
              "</div>"
            ],
            "text/plain": [
              "                    data  ...  longitude\n",
              "495  2020-04-07 16:14:13  ...  -9.932246\n",
              "496  2020-03-26 18:02:28  ... -22.942800\n",
              "497  2020-03-18 05:28:16  ...  43.648000\n",
              "498  2020-03-03 21:27:11  ... -23.550000\n",
              "499  2020-01-21 13:18:03  ...  38.747518\n",
              "\n",
              "[5 rows x 9 columns]"
            ]
          },
          "metadata": {
            "tags": []
          },
          "execution_count": 107
        }
      ]
    },
    {
      "cell_type": "markdown",
      "metadata": {
        "id": "e6eal6W7K46r",
        "colab_type": "text"
      },
      "source": [
        "### Mudando o índice para os valores da coluna país"
      ]
    },
    {
      "cell_type": "code",
      "metadata": {
        "id": "Q9t8h7PuKky-",
        "colab_type": "code",
        "colab": {
          "base_uri": "https://localhost:8080/",
          "height": 787
        },
        "outputId": "973f1fcd-4dd3-4aa7-ec4d-50b4facb0c63"
      },
      "source": [
        "dados.set_index('pais')"
      ],
      "execution_count": 112,
      "outputs": [
        {
          "output_type": "execute_result",
          "data": {
            "text/html": [
              "<div>\n",
              "<style scoped>\n",
              "    .dataframe tbody tr th:only-of-type {\n",
              "        vertical-align: middle;\n",
              "    }\n",
              "\n",
              "    .dataframe tbody tr th {\n",
              "        vertical-align: top;\n",
              "    }\n",
              "\n",
              "    .dataframe thead th {\n",
              "        text-align: right;\n",
              "    }\n",
              "</style>\n",
              "<table border=\"1\" class=\"dataframe\">\n",
              "  <thead>\n",
              "    <tr style=\"text-align: right;\">\n",
              "      <th></th>\n",
              "      <th>data</th>\n",
              "      <th>texto</th>\n",
              "      <th>retweet</th>\n",
              "      <th>idioma</th>\n",
              "      <th>lugar</th>\n",
              "      <th>sigla</th>\n",
              "      <th>latitude</th>\n",
              "      <th>longitude</th>\n",
              "    </tr>\n",
              "    <tr>\n",
              "      <th>pais</th>\n",
              "      <th></th>\n",
              "      <th></th>\n",
              "      <th></th>\n",
              "      <th></th>\n",
              "      <th></th>\n",
              "      <th></th>\n",
              "      <th></th>\n",
              "      <th></th>\n",
              "    </tr>\n",
              "  </thead>\n",
              "  <tbody>\n",
              "    <tr>\n",
              "      <th>Brazil</th>\n",
              "      <td>2020-05-23 00:21:14</td>\n",
              "      <td>Para voltar tudo ao normal, você precisa fazer...</td>\n",
              "      <td>0</td>\n",
              "      <td>pt</td>\n",
              "      <td>Rio das Ostras</td>\n",
              "      <td>BR</td>\n",
              "      <td>-41.937900</td>\n",
              "      <td>-22.522600</td>\n",
              "    </tr>\n",
              "    <tr>\n",
              "      <th>Brazil</th>\n",
              "      <td>2020-03-22 22:57:51</td>\n",
              "      <td>14.245 – O que é a hidroxicloroquina? https://...</td>\n",
              "      <td>0</td>\n",
              "      <td>pt</td>\n",
              "      <td>Sao Paulo</td>\n",
              "      <td>BR</td>\n",
              "      <td>-46.674739</td>\n",
              "      <td>-23.606067</td>\n",
              "    </tr>\n",
              "    <tr>\n",
              "      <th>Portugal</th>\n",
              "      <td>2020-04-14 00:11:33</td>\n",
              "      <td>Quarta morte em Lar de Estarreja associada à C...</td>\n",
              "      <td>1</td>\n",
              "      <td>pt</td>\n",
              "      <td>Lisbon</td>\n",
              "      <td>PT</td>\n",
              "      <td>-9.099043</td>\n",
              "      <td>38.747518</td>\n",
              "    </tr>\n",
              "    <tr>\n",
              "      <th>Brazil</th>\n",
              "      <td>2020-05-25 20:45:43</td>\n",
              "      <td>COVID-19 |  Hospital municipal Tide Setúbal, n...</td>\n",
              "      <td>0</td>\n",
              "      <td>pt</td>\n",
              "      <td>Sao Paulo</td>\n",
              "      <td>BR</td>\n",
              "      <td>-46.633300</td>\n",
              "      <td>-23.550000</td>\n",
              "    </tr>\n",
              "    <tr>\n",
              "      <th>Brazil</th>\n",
              "      <td>2020-04-15 10:34:39</td>\n",
              "      <td>#cenasdocotidiano #santos #distanciamentosocia...</td>\n",
              "      <td>0</td>\n",
              "      <td>pt</td>\n",
              "      <td>Santos</td>\n",
              "      <td>BR</td>\n",
              "      <td>-46.293700</td>\n",
              "      <td>-23.975947</td>\n",
              "    </tr>\n",
              "    <tr>\n",
              "      <th>...</th>\n",
              "      <td>...</td>\n",
              "      <td>...</td>\n",
              "      <td>...</td>\n",
              "      <td>...</td>\n",
              "      <td>...</td>\n",
              "      <td>...</td>\n",
              "      <td>...</td>\n",
              "      <td>...</td>\n",
              "    </tr>\n",
              "    <tr>\n",
              "      <th>Brazil</th>\n",
              "      <td>2020-04-07 16:14:13</td>\n",
              "      <td>O isolamento social também serve para mostrar ...</td>\n",
              "      <td>1</td>\n",
              "      <td>pt</td>\n",
              "      <td>Rio Branco</td>\n",
              "      <td>BR</td>\n",
              "      <td>-67.859657</td>\n",
              "      <td>-9.932246</td>\n",
              "    </tr>\n",
              "    <tr>\n",
              "      <th>Brazil</th>\n",
              "      <td>2020-03-26 18:02:28</td>\n",
              "      <td>Enquanto o mundo está atento ao covid 19 é o B...</td>\n",
              "      <td>0</td>\n",
              "      <td>pt</td>\n",
              "      <td>Rio de Janeiro</td>\n",
              "      <td>BR</td>\n",
              "      <td>-43.358100</td>\n",
              "      <td>-22.942800</td>\n",
              "    </tr>\n",
              "    <tr>\n",
              "      <th>Canada</th>\n",
              "      <td>2020-03-18 05:28:16</td>\n",
              "      <td>#covid_19 #stayhome @ Toronto, Ontario https:/...</td>\n",
              "      <td>0</td>\n",
              "      <td>pt</td>\n",
              "      <td>Toronto</td>\n",
              "      <td>CA</td>\n",
              "      <td>-79.387200</td>\n",
              "      <td>43.648000</td>\n",
              "    </tr>\n",
              "    <tr>\n",
              "      <th>Brazil</th>\n",
              "      <td>2020-03-03 21:27:11</td>\n",
              "      <td>Um vira-lata sem Coronavirus #joeviralata #dog...</td>\n",
              "      <td>0</td>\n",
              "      <td>pt</td>\n",
              "      <td>Sao Paulo</td>\n",
              "      <td>BR</td>\n",
              "      <td>-46.633300</td>\n",
              "      <td>-23.550000</td>\n",
              "    </tr>\n",
              "    <tr>\n",
              "      <th>Portugal</th>\n",
              "      <td>2020-01-21 13:18:03</td>\n",
              "      <td>Portugal já está a preparar-se para responder ...</td>\n",
              "      <td>1</td>\n",
              "      <td>pt</td>\n",
              "      <td>Lisbon</td>\n",
              "      <td>PT</td>\n",
              "      <td>-9.099043</td>\n",
              "      <td>38.747518</td>\n",
              "    </tr>\n",
              "  </tbody>\n",
              "</table>\n",
              "<p>500 rows × 8 columns</p>\n",
              "</div>"
            ],
            "text/plain": [
              "                         data  ...  longitude\n",
              "pais                           ...           \n",
              "Brazil    2020-05-23 00:21:14  ... -22.522600\n",
              "Brazil    2020-03-22 22:57:51  ... -23.606067\n",
              "Portugal  2020-04-14 00:11:33  ...  38.747518\n",
              "Brazil    2020-05-25 20:45:43  ... -23.550000\n",
              "Brazil    2020-04-15 10:34:39  ... -23.975947\n",
              "...                       ...  ...        ...\n",
              "Brazil    2020-04-07 16:14:13  ...  -9.932246\n",
              "Brazil    2020-03-26 18:02:28  ... -22.942800\n",
              "Canada    2020-03-18 05:28:16  ...  43.648000\n",
              "Brazil    2020-03-03 21:27:11  ... -23.550000\n",
              "Portugal  2020-01-21 13:18:03  ...  38.747518\n",
              "\n",
              "[500 rows x 8 columns]"
            ]
          },
          "metadata": {
            "tags": []
          },
          "execution_count": 112
        }
      ]
    },
    {
      "cell_type": "markdown",
      "metadata": {
        "id": "rYkDHR_LMB2R",
        "colab_type": "text"
      },
      "source": [
        "### Extraindo dados estatísticos de campos numéricos"
      ]
    },
    {
      "cell_type": "code",
      "metadata": {
        "id": "ZDUajUlWL1i6",
        "colab_type": "code",
        "colab": {
          "base_uri": "https://localhost:8080/",
          "height": 284
        },
        "outputId": "b68dc25e-6d34-45f1-fc1d-68b9ee7c7eac"
      },
      "source": [
        "dados.describe()"
      ],
      "execution_count": 114,
      "outputs": [
        {
          "output_type": "execute_result",
          "data": {
            "text/html": [
              "<div>\n",
              "<style scoped>\n",
              "    .dataframe tbody tr th:only-of-type {\n",
              "        vertical-align: middle;\n",
              "    }\n",
              "\n",
              "    .dataframe tbody tr th {\n",
              "        vertical-align: top;\n",
              "    }\n",
              "\n",
              "    .dataframe thead th {\n",
              "        text-align: right;\n",
              "    }\n",
              "</style>\n",
              "<table border=\"1\" class=\"dataframe\">\n",
              "  <thead>\n",
              "    <tr style=\"text-align: right;\">\n",
              "      <th></th>\n",
              "      <th>retweet</th>\n",
              "      <th>latitude</th>\n",
              "      <th>longitude</th>\n",
              "    </tr>\n",
              "  </thead>\n",
              "  <tbody>\n",
              "    <tr>\n",
              "      <th>count</th>\n",
              "      <td>500.000000</td>\n",
              "      <td>500.000000</td>\n",
              "      <td>500.000000</td>\n",
              "    </tr>\n",
              "    <tr>\n",
              "      <th>mean</th>\n",
              "      <td>0.172000</td>\n",
              "      <td>-37.740097</td>\n",
              "      <td>-6.647530</td>\n",
              "    </tr>\n",
              "    <tr>\n",
              "      <th>std</th>\n",
              "      <td>0.508855</td>\n",
              "      <td>27.472123</td>\n",
              "      <td>23.794104</td>\n",
              "    </tr>\n",
              "    <tr>\n",
              "      <th>min</th>\n",
              "      <td>0.000000</td>\n",
              "      <td>-118.244500</td>\n",
              "      <td>-37.818769</td>\n",
              "    </tr>\n",
              "    <tr>\n",
              "      <th>25%</th>\n",
              "      <td>0.000000</td>\n",
              "      <td>-47.770895</td>\n",
              "      <td>-23.482323</td>\n",
              "    </tr>\n",
              "    <tr>\n",
              "      <th>50%</th>\n",
              "      <td>0.000000</td>\n",
              "      <td>-43.814959</td>\n",
              "      <td>-15.800000</td>\n",
              "    </tr>\n",
              "    <tr>\n",
              "      <th>75%</th>\n",
              "      <td>0.000000</td>\n",
              "      <td>-35.722654</td>\n",
              "      <td>-5.172423</td>\n",
              "    </tr>\n",
              "    <tr>\n",
              "      <th>max</th>\n",
              "      <td>4.000000</td>\n",
              "      <td>174.765000</td>\n",
              "      <td>52.087400</td>\n",
              "    </tr>\n",
              "  </tbody>\n",
              "</table>\n",
              "</div>"
            ],
            "text/plain": [
              "          retweet    latitude   longitude\n",
              "count  500.000000  500.000000  500.000000\n",
              "mean     0.172000  -37.740097   -6.647530\n",
              "std      0.508855   27.472123   23.794104\n",
              "min      0.000000 -118.244500  -37.818769\n",
              "25%      0.000000  -47.770895  -23.482323\n",
              "50%      0.000000  -43.814959  -15.800000\n",
              "75%      0.000000  -35.722654   -5.172423\n",
              "max      4.000000  174.765000   52.087400"
            ]
          },
          "metadata": {
            "tags": []
          },
          "execution_count": 114
        }
      ]
    },
    {
      "cell_type": "markdown",
      "metadata": {
        "id": "AM7LMbJjMLtI",
        "colab_type": "text"
      },
      "source": [
        "### Sumário para colunas descritivas"
      ]
    },
    {
      "cell_type": "code",
      "metadata": {
        "id": "mek1MM2lMFqS",
        "colab_type": "code",
        "colab": {
          "base_uri": "https://localhost:8080/",
          "height": 101
        },
        "outputId": "6f419fb7-5137-4ad1-ff55-387dab7a0180"
      },
      "source": [
        "dados.sigla.describe()"
      ],
      "execution_count": 115,
      "outputs": [
        {
          "output_type": "execute_result",
          "data": {
            "text/plain": [
              "count     499\n",
              "unique     21\n",
              "top        BR\n",
              "freq      392\n",
              "Name: sigla, dtype: object"
            ]
          },
          "metadata": {
            "tags": []
          },
          "execution_count": 115
        }
      ]
    },
    {
      "cell_type": "code",
      "metadata": {
        "id": "rSbFuvCdLDOP",
        "colab_type": "code",
        "colab": {
          "base_uri": "https://localhost:8080/",
          "height": 101
        },
        "outputId": "2f12391f-183a-46ab-b1d6-61dc77d6afb6"
      },
      "source": [
        "dados.data.describe()"
      ],
      "execution_count": 116,
      "outputs": [
        {
          "output_type": "execute_result",
          "data": {
            "text/plain": [
              "count                     500\n",
              "unique                    500\n",
              "top       2020-03-23 16:29:49\n",
              "freq                        1\n",
              "Name: data, dtype: object"
            ]
          },
          "metadata": {
            "tags": []
          },
          "execution_count": 116
        }
      ]
    },
    {
      "cell_type": "markdown",
      "metadata": {
        "id": "bPvOjo8BNGRG",
        "colab_type": "text"
      },
      "source": [
        "### Descobrindo todos os valores únicos"
      ]
    },
    {
      "cell_type": "code",
      "metadata": {
        "id": "KgRhR2DhMj14",
        "colab_type": "code",
        "colab": {
          "base_uri": "https://localhost:8080/",
          "height": 67
        },
        "outputId": "6a947299-c262-4a07-f8f5-ffab15912524"
      },
      "source": [
        "dados.sigla.unique()"
      ],
      "execution_count": 117,
      "outputs": [
        {
          "output_type": "execute_result",
          "data": {
            "text/plain": [
              "array(['BR', 'PT', 'VA', 'CA', 'US', 'ID', 'ES', 'AU', 'MX', 'NL', 'CH',\n",
              "       'NZ', 'CW', 'IT', 'IN', 'DO', 'EC', 'CN', nan, 'FR', 'MZ', 'GB'],\n",
              "      dtype=object)"
            ]
          },
          "metadata": {
            "tags": []
          },
          "execution_count": 117
        }
      ]
    },
    {
      "cell_type": "markdown",
      "metadata": {
        "id": "NXlSCYs6NN_N",
        "colab_type": "text"
      },
      "source": [
        "### Descobrindo a frequência de cada sigla"
      ]
    },
    {
      "cell_type": "code",
      "metadata": {
        "id": "R3YZ0t2VNJmb",
        "colab_type": "code",
        "colab": {
          "base_uri": "https://localhost:8080/",
          "height": 386
        },
        "outputId": "6b6294ed-1b0c-4bf8-d440-8c0f1857d7c8"
      },
      "source": [
        "dados.sigla.value_counts()"
      ],
      "execution_count": 118,
      "outputs": [
        {
          "output_type": "execute_result",
          "data": {
            "text/plain": [
              "BR    392\n",
              "PT     67\n",
              "US     11\n",
              "CA      6\n",
              "ES      3\n",
              "FR      2\n",
              "IT      2\n",
              "NZ      2\n",
              "AU      2\n",
              "ID      1\n",
              "GB      1\n",
              "CW      1\n",
              "DO      1\n",
              "MX      1\n",
              "IN      1\n",
              "VA      1\n",
              "CN      1\n",
              "NL      1\n",
              "EC      1\n",
              "MZ      1\n",
              "CH      1\n",
              "Name: sigla, dtype: int64"
            ]
          },
          "metadata": {
            "tags": []
          },
          "execution_count": 118
        }
      ]
    },
    {
      "cell_type": "markdown",
      "metadata": {
        "id": "igIiKN2jOOw1",
        "colab_type": "text"
      },
      "source": [
        "### Agrupando dados"
      ]
    },
    {
      "cell_type": "code",
      "metadata": {
        "id": "hHcP33mdOQX9",
        "colab_type": "code",
        "colab": {
          "base_uri": "https://localhost:8080/",
          "height": 403
        },
        "outputId": "cac04d00-ddce-44b2-a7be-18927544f5b2"
      },
      "source": [
        "dados.groupby('sigla').retweet.sum()"
      ],
      "execution_count": 123,
      "outputs": [
        {
          "output_type": "execute_result",
          "data": {
            "text/plain": [
              "sigla\n",
              "AU     1\n",
              "BR    40\n",
              "CA     2\n",
              "CH     0\n",
              "CN     0\n",
              "CW     0\n",
              "DO     0\n",
              "EC     0\n",
              "ES     0\n",
              "FR     0\n",
              "GB     1\n",
              "ID     0\n",
              "IN     0\n",
              "IT     0\n",
              "MX     0\n",
              "MZ     0\n",
              "NL     0\n",
              "NZ     0\n",
              "PT    39\n",
              "US     3\n",
              "VA     0\n",
              "Name: retweet, dtype: int64"
            ]
          },
          "metadata": {
            "tags": []
          },
          "execution_count": 123
        }
      ]
    },
    {
      "cell_type": "markdown",
      "metadata": {
        "id": "cZNkSnr2OmqN",
        "colab_type": "text"
      },
      "source": [
        "### Ordenando dados"
      ]
    },
    {
      "cell_type": "code",
      "metadata": {
        "id": "cERiMyvkOrin",
        "colab_type": "code",
        "colab": {
          "base_uri": "https://localhost:8080/",
          "height": 842
        },
        "outputId": "693c64d7-eb52-40e6-e211-aa2310de5645"
      },
      "source": [
        "dados.sort_values(by=[\"sigla\", \"lugar\"], ascending=False)"
      ],
      "execution_count": 125,
      "outputs": [
        {
          "output_type": "execute_result",
          "data": {
            "text/html": [
              "<div>\n",
              "<style scoped>\n",
              "    .dataframe tbody tr th:only-of-type {\n",
              "        vertical-align: middle;\n",
              "    }\n",
              "\n",
              "    .dataframe tbody tr th {\n",
              "        vertical-align: top;\n",
              "    }\n",
              "\n",
              "    .dataframe thead th {\n",
              "        text-align: right;\n",
              "    }\n",
              "</style>\n",
              "<table border=\"1\" class=\"dataframe\">\n",
              "  <thead>\n",
              "    <tr style=\"text-align: right;\">\n",
              "      <th></th>\n",
              "      <th>data</th>\n",
              "      <th>texto</th>\n",
              "      <th>retweet</th>\n",
              "      <th>idioma</th>\n",
              "      <th>lugar</th>\n",
              "      <th>pais</th>\n",
              "      <th>sigla</th>\n",
              "      <th>latitude</th>\n",
              "      <th>longitude</th>\n",
              "    </tr>\n",
              "  </thead>\n",
              "  <tbody>\n",
              "    <tr>\n",
              "      <th>5</th>\n",
              "      <td>2020-03-27 22:59:12</td>\n",
              "      <td>O Papa Francisco rezando sozinho na imensa pra...</td>\n",
              "      <td>0</td>\n",
              "      <td>pt</td>\n",
              "      <td>Vatican City</td>\n",
              "      <td>Vatican City</td>\n",
              "      <td>VA</td>\n",
              "      <td>12.457018</td>\n",
              "      <td>41.902473</td>\n",
              "    </tr>\n",
              "    <tr>\n",
              "      <th>71</th>\n",
              "      <td>2020-03-27 02:07:47</td>\n",
              "      <td>Nos vemos uma ou duas vezes por ano, quando dá...</td>\n",
              "      <td>0</td>\n",
              "      <td>pt</td>\n",
              "      <td>Scott Lake</td>\n",
              "      <td>United States</td>\n",
              "      <td>US</td>\n",
              "      <td>-80.237185</td>\n",
              "      <td>25.957486</td>\n",
              "    </tr>\n",
              "    <tr>\n",
              "      <th>101</th>\n",
              "      <td>2020-03-03 00:43:28</td>\n",
              "      <td>A Intelprise alerta os folioes pos-carnavalesc...</td>\n",
              "      <td>0</td>\n",
              "      <td>pt</td>\n",
              "      <td>North Miami Beach</td>\n",
              "      <td>United States</td>\n",
              "      <td>US</td>\n",
              "      <td>-80.163740</td>\n",
              "      <td>25.946560</td>\n",
              "    </tr>\n",
              "    <tr>\n",
              "      <th>203</th>\n",
              "      <td>2020-03-22 17:41:58</td>\n",
              "      <td>#coronavirus #covid19 #covid_19 🦠 😷 #quarantin...</td>\n",
              "      <td>0</td>\n",
              "      <td>it</td>\n",
              "      <td>Montpelier</td>\n",
              "      <td>United States</td>\n",
              "      <td>US</td>\n",
              "      <td>-72.598119</td>\n",
              "      <td>44.152532</td>\n",
              "    </tr>\n",
              "    <tr>\n",
              "      <th>55</th>\n",
              "      <td>2020-03-18 03:22:12</td>\n",
              "      <td>Distânciamento social pode salvar os avos, os ...</td>\n",
              "      <td>0</td>\n",
              "      <td>pt</td>\n",
              "      <td>Miami</td>\n",
              "      <td>United States</td>\n",
              "      <td>US</td>\n",
              "      <td>-80.192000</td>\n",
              "      <td>25.775200</td>\n",
              "    </tr>\n",
              "    <tr>\n",
              "      <th>...</th>\n",
              "      <td>...</td>\n",
              "      <td>...</td>\n",
              "      <td>...</td>\n",
              "      <td>...</td>\n",
              "      <td>...</td>\n",
              "      <td>...</td>\n",
              "      <td>...</td>\n",
              "      <td>...</td>\n",
              "      <td>...</td>\n",
              "    </tr>\n",
              "    <tr>\n",
              "      <th>455</th>\n",
              "      <td>2020-03-08 19:30:30</td>\n",
              "      <td>O programa Passando a Limpo com Carla Machado ...</td>\n",
              "      <td>0</td>\n",
              "      <td>pt</td>\n",
              "      <td>Angra dos Reis</td>\n",
              "      <td>Brazil</td>\n",
              "      <td>BR</td>\n",
              "      <td>-44.317986</td>\n",
              "      <td>-23.007902</td>\n",
              "    </tr>\n",
              "    <tr>\n",
              "      <th>153</th>\n",
              "      <td>2020-04-09 21:28:32</td>\n",
              "      <td>FAÇA O SEU CONSÓRCIO, FINANCIAMENTO OU O SEU S...</td>\n",
              "      <td>0</td>\n",
              "      <td>pt</td>\n",
              "      <td>Abre Campo</td>\n",
              "      <td>Brazil</td>\n",
              "      <td>BR</td>\n",
              "      <td>-42.476260</td>\n",
              "      <td>-20.298590</td>\n",
              "    </tr>\n",
              "    <tr>\n",
              "      <th>86</th>\n",
              "      <td>2020-03-19 20:45:14</td>\n",
              "      <td>As pesquisas não param! 💻 A equipe do Lab404 s...</td>\n",
              "      <td>1</td>\n",
              "      <td>pt</td>\n",
              "      <td>Melbourne</td>\n",
              "      <td>Australia</td>\n",
              "      <td>AU</td>\n",
              "      <td>144.960154</td>\n",
              "      <td>-37.818769</td>\n",
              "    </tr>\n",
              "    <tr>\n",
              "      <th>354</th>\n",
              "      <td>2020-02-21 10:34:40</td>\n",
              "      <td>Australia’s first dedicated e-sports bar @ GG ...</td>\n",
              "      <td>0</td>\n",
              "      <td>en</td>\n",
              "      <td>Melbourne</td>\n",
              "      <td>Australia</td>\n",
              "      <td>AU</td>\n",
              "      <td>144.961030</td>\n",
              "      <td>-37.816360</td>\n",
              "    </tr>\n",
              "    <tr>\n",
              "      <th>399</th>\n",
              "      <td>2020-03-19 12:30:16</td>\n",
              "      <td>Meu #tbt de isolamento social 🏕🌵 #namibia #afr...</td>\n",
              "      <td>0</td>\n",
              "      <td>pt</td>\n",
              "      <td>Namibia</td>\n",
              "      <td>Namibia</td>\n",
              "      <td>NaN</td>\n",
              "      <td>17.000000</td>\n",
              "      <td>-23.000000</td>\n",
              "    </tr>\n",
              "  </tbody>\n",
              "</table>\n",
              "<p>500 rows × 9 columns</p>\n",
              "</div>"
            ],
            "text/plain": [
              "                    data  ...  longitude\n",
              "5    2020-03-27 22:59:12  ...  41.902473\n",
              "71   2020-03-27 02:07:47  ...  25.957486\n",
              "101  2020-03-03 00:43:28  ...  25.946560\n",
              "203  2020-03-22 17:41:58  ...  44.152532\n",
              "55   2020-03-18 03:22:12  ...  25.775200\n",
              "..                   ...  ...        ...\n",
              "455  2020-03-08 19:30:30  ... -23.007902\n",
              "153  2020-04-09 21:28:32  ... -20.298590\n",
              "86   2020-03-19 20:45:14  ... -37.818769\n",
              "354  2020-02-21 10:34:40  ... -37.816360\n",
              "399  2020-03-19 12:30:16  ... -23.000000\n",
              "\n",
              "[500 rows x 9 columns]"
            ]
          },
          "metadata": {
            "tags": []
          },
          "execution_count": 125
        }
      ]
    },
    {
      "cell_type": "markdown",
      "metadata": {
        "id": "h8QgeaQ7OzXO",
        "colab_type": "text"
      },
      "source": [
        "### Manipulando dados"
      ]
    },
    {
      "cell_type": "code",
      "metadata": {
        "id": "a2WRm8HURvz6",
        "colab_type": "code",
        "colab": {
          "base_uri": "https://localhost:8080/",
          "height": 758
        },
        "outputId": "9de11ac8-051f-4ee8-e9be-70d777d86ead"
      },
      "source": [
        "dados.rename(columns={'sigla': 'codigo'})"
      ],
      "execution_count": 127,
      "outputs": [
        {
          "output_type": "execute_result",
          "data": {
            "text/html": [
              "<div>\n",
              "<style scoped>\n",
              "    .dataframe tbody tr th:only-of-type {\n",
              "        vertical-align: middle;\n",
              "    }\n",
              "\n",
              "    .dataframe tbody tr th {\n",
              "        vertical-align: top;\n",
              "    }\n",
              "\n",
              "    .dataframe thead th {\n",
              "        text-align: right;\n",
              "    }\n",
              "</style>\n",
              "<table border=\"1\" class=\"dataframe\">\n",
              "  <thead>\n",
              "    <tr style=\"text-align: right;\">\n",
              "      <th></th>\n",
              "      <th>data</th>\n",
              "      <th>texto</th>\n",
              "      <th>retweet</th>\n",
              "      <th>idioma</th>\n",
              "      <th>lugar</th>\n",
              "      <th>pais</th>\n",
              "      <th>codigo</th>\n",
              "      <th>latitude</th>\n",
              "      <th>longitude</th>\n",
              "    </tr>\n",
              "  </thead>\n",
              "  <tbody>\n",
              "    <tr>\n",
              "      <th>0</th>\n",
              "      <td>2020-05-23 00:21:14</td>\n",
              "      <td>Para voltar tudo ao normal, você precisa fazer...</td>\n",
              "      <td>0</td>\n",
              "      <td>pt</td>\n",
              "      <td>Rio das Ostras</td>\n",
              "      <td>Brazil</td>\n",
              "      <td>BR</td>\n",
              "      <td>-41.937900</td>\n",
              "      <td>-22.522600</td>\n",
              "    </tr>\n",
              "    <tr>\n",
              "      <th>1</th>\n",
              "      <td>2020-03-22 22:57:51</td>\n",
              "      <td>14.245 – O que é a hidroxicloroquina? https://...</td>\n",
              "      <td>0</td>\n",
              "      <td>pt</td>\n",
              "      <td>Sao Paulo</td>\n",
              "      <td>Brazil</td>\n",
              "      <td>BR</td>\n",
              "      <td>-46.674739</td>\n",
              "      <td>-23.606067</td>\n",
              "    </tr>\n",
              "    <tr>\n",
              "      <th>2</th>\n",
              "      <td>2020-04-14 00:11:33</td>\n",
              "      <td>Quarta morte em Lar de Estarreja associada à C...</td>\n",
              "      <td>1</td>\n",
              "      <td>pt</td>\n",
              "      <td>Lisbon</td>\n",
              "      <td>Portugal</td>\n",
              "      <td>PT</td>\n",
              "      <td>-9.099043</td>\n",
              "      <td>38.747518</td>\n",
              "    </tr>\n",
              "    <tr>\n",
              "      <th>3</th>\n",
              "      <td>2020-05-25 20:45:43</td>\n",
              "      <td>COVID-19 |  Hospital municipal Tide Setúbal, n...</td>\n",
              "      <td>0</td>\n",
              "      <td>pt</td>\n",
              "      <td>Sao Paulo</td>\n",
              "      <td>Brazil</td>\n",
              "      <td>BR</td>\n",
              "      <td>-46.633300</td>\n",
              "      <td>-23.550000</td>\n",
              "    </tr>\n",
              "    <tr>\n",
              "      <th>4</th>\n",
              "      <td>2020-04-15 10:34:39</td>\n",
              "      <td>#cenasdocotidiano #santos #distanciamentosocia...</td>\n",
              "      <td>0</td>\n",
              "      <td>pt</td>\n",
              "      <td>Santos</td>\n",
              "      <td>Brazil</td>\n",
              "      <td>BR</td>\n",
              "      <td>-46.293700</td>\n",
              "      <td>-23.975947</td>\n",
              "    </tr>\n",
              "    <tr>\n",
              "      <th>...</th>\n",
              "      <td>...</td>\n",
              "      <td>...</td>\n",
              "      <td>...</td>\n",
              "      <td>...</td>\n",
              "      <td>...</td>\n",
              "      <td>...</td>\n",
              "      <td>...</td>\n",
              "      <td>...</td>\n",
              "      <td>...</td>\n",
              "    </tr>\n",
              "    <tr>\n",
              "      <th>495</th>\n",
              "      <td>2020-04-07 16:14:13</td>\n",
              "      <td>O isolamento social também serve para mostrar ...</td>\n",
              "      <td>1</td>\n",
              "      <td>pt</td>\n",
              "      <td>Rio Branco</td>\n",
              "      <td>Brazil</td>\n",
              "      <td>BR</td>\n",
              "      <td>-67.859657</td>\n",
              "      <td>-9.932246</td>\n",
              "    </tr>\n",
              "    <tr>\n",
              "      <th>496</th>\n",
              "      <td>2020-03-26 18:02:28</td>\n",
              "      <td>Enquanto o mundo está atento ao covid 19 é o B...</td>\n",
              "      <td>0</td>\n",
              "      <td>pt</td>\n",
              "      <td>Rio de Janeiro</td>\n",
              "      <td>Brazil</td>\n",
              "      <td>BR</td>\n",
              "      <td>-43.358100</td>\n",
              "      <td>-22.942800</td>\n",
              "    </tr>\n",
              "    <tr>\n",
              "      <th>497</th>\n",
              "      <td>2020-03-18 05:28:16</td>\n",
              "      <td>#covid_19 #stayhome @ Toronto, Ontario https:/...</td>\n",
              "      <td>0</td>\n",
              "      <td>pt</td>\n",
              "      <td>Toronto</td>\n",
              "      <td>Canada</td>\n",
              "      <td>CA</td>\n",
              "      <td>-79.387200</td>\n",
              "      <td>43.648000</td>\n",
              "    </tr>\n",
              "    <tr>\n",
              "      <th>498</th>\n",
              "      <td>2020-03-03 21:27:11</td>\n",
              "      <td>Um vira-lata sem Coronavirus #joeviralata #dog...</td>\n",
              "      <td>0</td>\n",
              "      <td>pt</td>\n",
              "      <td>Sao Paulo</td>\n",
              "      <td>Brazil</td>\n",
              "      <td>BR</td>\n",
              "      <td>-46.633300</td>\n",
              "      <td>-23.550000</td>\n",
              "    </tr>\n",
              "    <tr>\n",
              "      <th>499</th>\n",
              "      <td>2020-01-21 13:18:03</td>\n",
              "      <td>Portugal já está a preparar-se para responder ...</td>\n",
              "      <td>1</td>\n",
              "      <td>pt</td>\n",
              "      <td>Lisbon</td>\n",
              "      <td>Portugal</td>\n",
              "      <td>PT</td>\n",
              "      <td>-9.099043</td>\n",
              "      <td>38.747518</td>\n",
              "    </tr>\n",
              "  </tbody>\n",
              "</table>\n",
              "<p>500 rows × 9 columns</p>\n",
              "</div>"
            ],
            "text/plain": [
              "                    data  ...  longitude\n",
              "0    2020-05-23 00:21:14  ... -22.522600\n",
              "1    2020-03-22 22:57:51  ... -23.606067\n",
              "2    2020-04-14 00:11:33  ...  38.747518\n",
              "3    2020-05-25 20:45:43  ... -23.550000\n",
              "4    2020-04-15 10:34:39  ... -23.975947\n",
              "..                   ...  ...        ...\n",
              "495  2020-04-07 16:14:13  ...  -9.932246\n",
              "496  2020-03-26 18:02:28  ... -22.942800\n",
              "497  2020-03-18 05:28:16  ...  43.648000\n",
              "498  2020-03-03 21:27:11  ... -23.550000\n",
              "499  2020-01-21 13:18:03  ...  38.747518\n",
              "\n",
              "[500 rows x 9 columns]"
            ]
          },
          "metadata": {
            "tags": []
          },
          "execution_count": 127
        }
      ]
    },
    {
      "cell_type": "markdown",
      "metadata": {
        "id": "Ri0czDjfjRU6",
        "colab_type": "text"
      },
      "source": [
        "# Parte II - Período da Tarde\n",
        "\n",
        "### Gráficos"
      ]
    },
    {
      "cell_type": "code",
      "metadata": {
        "id": "zDzEkPJhjPAR",
        "colab_type": "code",
        "colab": {}
      },
      "source": [
        "import numpy as np\n",
        "from matplotlib import pyplot as plt"
      ],
      "execution_count": null,
      "outputs": []
    },
    {
      "cell_type": "code",
      "metadata": {
        "id": "NvECM1Owjdzn",
        "colab_type": "code",
        "colab": {
          "base_uri": "https://localhost:8080/",
          "height": 281
        },
        "outputId": "adf710cc-be9f-4123-a84e-64f2a952b414"
      },
      "source": [
        "y = np.random.randn(100)\n",
        "\n",
        "x = [x for x in range(len(y))]\n",
        "\n",
        "plt.plot(x, y, '-')\n",
        "\n",
        "plt.fill_between (x, y, 200, where=(y > 195))\n",
        "\n",
        "plt.title(\"Sample Plot\")\n",
        "\n",
        "plt.show()"
      ],
      "execution_count": null,
      "outputs": [
        {
          "output_type": "display_data",
          "data": {
            "image/png": "[encoded data removed]",
            "text/plain": [
              "<Figure size 432x288 with 1 Axes>"
            ]
          },
          "metadata": {
            "tags": [],
            "needs_background": "light"
          }
        }
      ]
    },
    {
      "cell_type": "markdown",
      "metadata": {
        "id": "R2staRKYlniF",
        "colab_type": "text"
      },
      "source": [
        "### Lista de função"
      ]
    },
    {
      "cell_type": "code",
      "metadata": {
        "id": "PezJ8cQHljxu",
        "colab_type": "code",
        "colab": {}
      },
      "source": [
        "import torch"
      ],
      "execution_count": 14,
      "outputs": []
    },
    {
      "cell_type": "markdown",
      "metadata": {
        "id": "Je--RMw3oVSq",
        "colab_type": "text"
      },
      "source": [
        "### Comandos mágicos"
      ]
    },
    {
      "cell_type": "code",
      "metadata": {
        "id": "0o-Nzh3vlyyV",
        "colab_type": "code",
        "colab": {
          "base_uri": "https://localhost:8080/",
          "height": 154
        },
        "outputId": "e2c197ad-3255-4a9a-b0b6-7be25fcb5986"
      },
      "source": [
        "%lsmagic"
      ],
      "execution_count": 34,
      "outputs": [
        {
          "output_type": "execute_result",
          "data": {
            "application/json": {
              "cell": {
                "prun": "ExecutionMagics",
                "file": "Other",
                "!": "OSMagics",
                "capture": "ExecutionMagics",
                "timeit": "ExecutionMagics",
                "script": "ScriptMagics",
                "pypy": "Other",
                "system": "OSMagics",
                "perl": "Other",
                "html": "DisplayMagics",
                "bash": "Other",
                "shell": "Other",
                "HTML": "Other",
                "python": "Other",
                "SVG": "Other",
                "javascript": "DisplayMagics",
                "bigquery": "Other",
                "js": "DisplayMagics",
                "writefile": "OSMagics",
                "ruby": "Other",
                "python3": "Other",
                "python2": "Other",
                "latex": "DisplayMagics",
                "sx": "OSMagics",
                "svg": "DisplayMagics",
                "sh": "Other",
                "time": "ExecutionMagics",
                "debug": "ExecutionMagics"
              },
              "line": {
                "psource": "NamespaceMagics",
                "logstart": "LoggingMagics",
                "popd": "OSMagics",
                "tensorflow_version": "Other",
                "loadpy": "CodeMagics",
                "colors": "BasicMagics",
                "who_ls": "NamespaceMagics",
                "lf": "Other",
                "ll": "Other",
                "pprint": "BasicMagics",
                "lk": "Other",
                "ls": "Other",
                "save": "CodeMagics",
                "tb": "ExecutionMagics",
                "lx": "Other",
                "pylab": "PylabMagics",
                "killbgscripts": "ScriptMagics",
                "quickref": "BasicMagics",
                "magic": "BasicMagics",
                "dhist": "OSMagics",
                "edit": "KernelMagics",
                "logstop": "LoggingMagics",
                "gui": "BasicMagics",
                "prun": "ExecutionMagics",
                "debug": "ExecutionMagics",
                "page": "BasicMagics",
                "logstate": "LoggingMagics",
                "ed": "Other",
                "pushd": "OSMagics",
                "timeit": "ExecutionMagics",
                "set_env": "OSMagics",
                "rehashx": "OSMagics",
                "hist": "Other",
                "qtconsole": "KernelMagics",
                "rm": "Other",
                "dirs": "OSMagics",
                "run": "ExecutionMagics",
                "reset_selective": "NamespaceMagics",
                "pinfo2": "NamespaceMagics",
                "matplotlib": "PylabMagics",
                "unload_ext": "ExtensionMagics",
                "doctest_mode": "BasicMagics",
                "logoff": "LoggingMagics",
                "reload_ext": "ExtensionMagics",
                "pdb": "ExecutionMagics",
                "load": "CodeMagics",
                "lsmagic": "BasicMagics",
                "autosave": "KernelMagics",
                "cd": "OSMagics",
                "pastebin": "CodeMagics",
                "alias_magic": "BasicMagics",
                "cp": "Other",
                "autocall": "AutoMagics",
                "ldir": "Other",
                "bookmark": "OSMagics",
                "connect_info": "KernelMagics",
                "mkdir": "Other",
                "system": "OSMagics",
                "whos": "NamespaceMagics",
                "rmdir": "Other",
                "automagic": "AutoMagics",
                "store": "StoreMagics",
                "more": "KernelMagics",
                "shell": "Other",
                "pdef": "NamespaceMagics",
                "precision": "BasicMagics",
                "pinfo": "NamespaceMagics",
                "pwd": "OSMagics",
                "psearch": "NamespaceMagics",
                "reset": "NamespaceMagics",
                "recall": "HistoryMagics",
                "xdel": "NamespaceMagics",
                "xmode": "BasicMagics",
                "cat": "Other",
                "mv": "Other",
                "rerun": "HistoryMagics",
                "logon": "LoggingMagics",
                "history": "HistoryMagics",
                "pycat": "OSMagics",
                "pip": "Other",
                "unalias": "OSMagics",
                "env": "OSMagics",
                "load_ext": "ExtensionMagics",
                "config": "ConfigMagics",
                "profile": "BasicMagics",
                "pfile": "NamespaceMagics",
                "less": "KernelMagics",
                "who": "NamespaceMagics",
                "notebook": "BasicMagics",
                "man": "KernelMagics",
                "sx": "OSMagics",
                "macro": "ExecutionMagics",
                "clear": "KernelMagics",
                "alias": "OSMagics",
                "time": "ExecutionMagics",
                "sc": "OSMagics",
                "rep": "Other",
                "pdoc": "NamespaceMagics"
              }
            },
            "text/plain": [
              "Available line magics:\n",
              "%alias  %alias_magic  %autocall  %automagic  %autosave  %bookmark  %cat  %cd  %clear  %colors  %config  %connect_info  %cp  %debug  %dhist  %dirs  %doctest_mode  %ed  %edit  %env  %gui  %hist  %history  %killbgscripts  %ldir  %less  %lf  %lk  %ll  %load  %load_ext  %loadpy  %logoff  %logon  %logstart  %logstate  %logstop  %ls  %lsmagic  %lx  %macro  %magic  %man  %matplotlib  %mkdir  %more  %mv  %notebook  %page  %pastebin  %pdb  %pdef  %pdoc  %pfile  %pinfo  %pinfo2  %pip  %popd  %pprint  %precision  %profile  %prun  %psearch  %psource  %pushd  %pwd  %pycat  %pylab  %qtconsole  %quickref  %recall  %rehashx  %reload_ext  %rep  %rerun  %reset  %reset_selective  %rm  %rmdir  %run  %save  %sc  %set_env  %shell  %store  %sx  %system  %tb  %tensorflow_version  %time  %timeit  %unalias  %unload_ext  %who  %who_ls  %whos  %xdel  %xmode\n",
              "\n",
              "Available cell magics:\n",
              "%%!  %%HTML  %%SVG  %%bash  %%bigquery  %%capture  %%debug  %%file  %%html  %%javascript  %%js  %%latex  %%perl  %%prun  %%pypy  %%python  %%python2  %%python3  %%ruby  %%script  %%sh  %%shell  %%svg  %%sx  %%system  %%time  %%timeit  %%writefile\n",
              "\n",
              "Automagic is ON, % prefix IS NOT needed for line magics."
            ]
          },
          "metadata": {
            "tags": []
          },
          "execution_count": 34
        }
      ]
    },
    {
      "cell_type": "code",
      "metadata": {
        "id": "Qiycy6I_oYUz",
        "colab_type": "code",
        "colab": {
          "base_uri": "https://localhost:8080/",
          "height": 38
        },
        "outputId": "713626b9-d6ff-46af-b37d-bbc759f70cb1"
      },
      "source": [
        "%%html\n",
        "\n",
        "<marquee style=\"color: green;\"><b>Programação para Ciência de Dados</b></marquee>"
      ],
      "execution_count": 26,
      "outputs": [
        {
          "output_type": "display_data",
          "data": {
            "text/html": [
              "\n",
              "<marquee style=\"color: green;\"><b>Programação para Ciência de Dados</b></marquee>"
            ],
            "text/plain": [
              "<IPython.core.display.HTML object>"
            ]
          },
          "metadata": {
            "tags": []
          }
        }
      ]
    },
    {
      "cell_type": "code",
      "metadata": {
        "id": "oEVecrqBySGR",
        "colab_type": "code",
        "colab": {}
      },
      "source": [
        ""
      ],
      "execution_count": null,
      "outputs": []
    },
    {
      "cell_type": "code",
      "metadata": {
        "id": "4Ch5tbtYpuWO",
        "colab_type": "code",
        "colab": {
          "base_uri": "https://localhost:8080/",
          "height": 50
        },
        "outputId": "737b1231-fca8-4254-bd77-98d04c1ff065"
      },
      "source": [
        "#@title Formulário de exemplo { run: \"auto\", vertical-output: true, output-height: 10, form-width: \"50%\" }\n",
        "valor = 14 #@param {type:\"integer\"}\n",
        "capital = \"Manaus\" #@param [\"Manaus\", \"Campo Grande\"]\n",
        "data_viagem = \"2020-09-19\" #@param {type:\"date\"}\n",
        "print('o dobro do valor é ', valor*2)\n",
        "print('a capital escolhida foi ', capital)"
      ],
      "execution_count": 42,
      "outputs": [
        {
          "output_type": "stream",
          "text": [
            "o dobro do valor é  28\n",
            "a capital escolhida foi  Manaus\n"
          ],
          "name": "stdout"
        }
      ]
    },
    {
      "cell_type": "code",
      "metadata": {
        "id": "Ct_IdHveyTZR",
        "colab_type": "code",
        "colab": {
          "base_uri": "https://localhost:8080/",
          "height": 222
        },
        "outputId": "c5a0b02d-e7eb-4d0e-e5c2-69c277036409"
      },
      "source": [
        "!pip3 install keras #pacote para trabalhar com redes neurais\n",
        "!pip3 install torch torchvision #pacote para redes neurais também???"
      ],
      "execution_count": 46,
      "outputs": [
        {
          "output_type": "stream",
          "text": [
            "Requirement already satisfied: keras in /usr/local/lib/python3.6/dist-packages (2.4.3)\n",
            "Requirement already satisfied: scipy>=0.14 in /usr/local/lib/python3.6/dist-packages (from keras) (1.4.1)\n",
            "Requirement already satisfied: numpy>=1.9.1 in /usr/local/lib/python3.6/dist-packages (from keras) (1.18.5)\n",
            "Requirement already satisfied: pyyaml in /usr/local/lib/python3.6/dist-packages (from keras) (3.13)\n",
            "Requirement already satisfied: h5py in /usr/local/lib/python3.6/dist-packages (from keras) (2.10.0)\n",
            "Requirement already satisfied: six in /usr/local/lib/python3.6/dist-packages (from h5py->keras) (1.15.0)\n",
            "Requirement already satisfied: torch in /usr/local/lib/python3.6/dist-packages (1.6.0+cu101)\n",
            "Requirement already satisfied: torchvision in /usr/local/lib/python3.6/dist-packages (0.7.0+cu101)\n",
            "Requirement already satisfied: future in /usr/local/lib/python3.6/dist-packages (from torch) (0.16.0)\n",
            "Requirement already satisfied: numpy in /usr/local/lib/python3.6/dist-packages (from torch) (1.18.5)\n",
            "Requirement already satisfied: pillow>=4.1.1 in /usr/local/lib/python3.6/dist-packages (from torchvision) (7.0.0)\n"
          ],
          "name": "stdout"
        }
      ]
    },
    {
      "cell_type": "markdown",
      "metadata": {
        "id": "NVSmNfYC5KC1",
        "colab_type": "text"
      },
      "source": [
        "### Pandas"
      ]
    },
    {
      "cell_type": "code",
      "metadata": {
        "id": "jmRmJlhQy61c",
        "colab_type": "code",
        "colab": {}
      },
      "source": [
        "import pandas as pd\n",
        "import random"
      ],
      "execution_count": 59,
      "outputs": []
    },
    {
      "cell_type": "markdown",
      "metadata": {
        "id": "hR4CJvCp5blR",
        "colab_type": "text"
      },
      "source": [
        "### Series"
      ]
    },
    {
      "cell_type": "code",
      "metadata": {
        "id": "ofFf-RXe5fNi",
        "colab_type": "code",
        "colab": {
          "base_uri": "https://localhost:8080/",
          "height": 286
        },
        "outputId": "9636b1f4-8ca1-48c7-d246-0eb8fd2df559"
      },
      "source": [
        "s1 = pd.Series([0, 1, 12, 18, 60], ['bebê', 'criança', 'adolescente', 'adulto', 'idoso'])\n",
        "s2 = pd.Series(random.sample(range(28, 42), 10))\n",
        "s1, s2"
      ],
      "execution_count": 72,
      "outputs": [
        {
          "output_type": "execute_result",
          "data": {
            "text/plain": [
              "(bebê            0\n",
              " criança         1\n",
              " adolescente    12\n",
              " adulto         18\n",
              " idoso          60\n",
              " dtype: int64, 0    34\n",
              " 1    39\n",
              " 2    35\n",
              " 3    38\n",
              " 4    28\n",
              " 5    30\n",
              " 6    33\n",
              " 7    29\n",
              " 8    31\n",
              " 9    37\n",
              " dtype: int64)"
            ]
          },
          "metadata": {
            "tags": []
          },
          "execution_count": 72
        }
      ]
    },
    {
      "cell_type": "code",
      "metadata": {
        "id": "pj3SwVTJ7wTf",
        "colab_type": "code",
        "colab": {
          "base_uri": "https://localhost:8080/",
          "height": 34
        },
        "outputId": "e4ee6c04-8aea-4cb8-c974-99cbc1e1bc6b"
      },
      "source": [
        "s1.mean(), s2.mean()"
      ],
      "execution_count": 73,
      "outputs": [
        {
          "output_type": "execute_result",
          "data": {
            "text/plain": [
              "(18.2, 33.4)"
            ]
          },
          "metadata": {
            "tags": []
          },
          "execution_count": 73
        }
      ]
    },
    {
      "cell_type": "code",
      "metadata": {
        "id": "N6FeYuTU75-n",
        "colab_type": "code",
        "colab": {
          "base_uri": "https://localhost:8080/",
          "height": 34
        },
        "outputId": "e3db4bb3-f564-470f-a96d-d402dcfaa181"
      },
      "source": [
        "s1.std(), s2.std()"
      ],
      "execution_count": 74,
      "outputs": [
        {
          "output_type": "execute_result",
          "data": {
            "text/plain": [
              "(24.560130292814, 3.8643671323171835)"
            ]
          },
          "metadata": {
            "tags": []
          },
          "execution_count": 74
        }
      ]
    },
    {
      "cell_type": "code",
      "metadata": {
        "id": "q97fQiJi8Dvi",
        "colab_type": "code",
        "colab": {
          "base_uri": "https://localhost:8080/",
          "height": 302
        },
        "outputId": "23a9fecb-bb5e-435a-82c2-60a6950db899"
      },
      "source": [
        "s1.describe(), s2.describe()"
      ],
      "execution_count": 75,
      "outputs": [
        {
          "output_type": "execute_result",
          "data": {
            "text/plain": [
              "(count     5.00000\n",
              " mean     18.20000\n",
              " std      24.56013\n",
              " min       0.00000\n",
              " 25%       1.00000\n",
              " 50%      12.00000\n",
              " 75%      18.00000\n",
              " max      60.00000\n",
              " dtype: float64, count    10.000000\n",
              " mean     33.400000\n",
              " std       3.864367\n",
              " min      28.000000\n",
              " 25%      30.250000\n",
              " 50%      33.500000\n",
              " 75%      36.500000\n",
              " max      39.000000\n",
              " dtype: float64)"
            ]
          },
          "metadata": {
            "tags": []
          },
          "execution_count": 75
        }
      ]
    },
    {
      "cell_type": "code",
      "metadata": {
        "id": "sIbuCT_b9Yzv",
        "colab_type": "code",
        "colab": {
          "base_uri": "https://localhost:8080/",
          "height": 202
        },
        "outputId": "7af6c23b-c309-4b2d-feef-2e2381c7de24"
      },
      "source": [
        "s2_labeled = pd.Series(s2.values, index=['dia0', 'dia1', 'dia2', 'dia3', 'dia4', 'dia5', 'dia6', 'dia7', 'dia8', 'dia9'])\n",
        "s2_labeled"
      ],
      "execution_count": 79,
      "outputs": [
        {
          "output_type": "execute_result",
          "data": {
            "text/plain": [
              "dia0    34\n",
              "dia1    39\n",
              "dia2    35\n",
              "dia3    38\n",
              "dia4    28\n",
              "dia5    30\n",
              "dia6    33\n",
              "dia7    29\n",
              "dia8    31\n",
              "dia9    37\n",
              "dtype: int64"
            ]
          },
          "metadata": {
            "tags": []
          },
          "execution_count": 79
        }
      ]
    },
    {
      "cell_type": "markdown",
      "metadata": {
        "id": "BiCt5H7Y9-pB",
        "colab_type": "text"
      },
      "source": [
        "### Dataframe\n",
        "Características:\n",
        "* bidimensional;\n",
        "* é uma tabela;\n",
        "* cada coluna é uma série;\n",
        "* as colunas podem ser de tipos diferentes."
      ]
    },
    {
      "cell_type": "code",
      "metadata": {
        "id": "i2xytNA39vMQ",
        "colab_type": "code",
        "colab": {
          "base_uri": "https://localhost:8080/",
          "height": 67
        },
        "outputId": "ce10df3d-26d5-46da-8904-e8cc12e27e9a"
      },
      "source": [
        "dic1 = {'ESTADO': ['Amazonas', 'Rondônia', 'Paraná'], 'SIGLA': ['AM', 'RO', 'PR'], 'CAPITAL': ['Manaus', 'Porto Velho', 'Cascavél']}\n",
        "dic1"
      ],
      "execution_count": 82,
      "outputs": [
        {
          "output_type": "execute_result",
          "data": {
            "text/plain": [
              "{'CAPITAL': ['Manaus', 'Porto Velho', 'Cascavél'],\n",
              " 'ESTADO': ['Amazonas', 'Rondônia', 'Paraná'],\n",
              " 'SIGLA': ['AM', 'RO', 'PR']}"
            ]
          },
          "metadata": {
            "tags": []
          },
          "execution_count": 82
        }
      ]
    },
    {
      "cell_type": "code",
      "metadata": {
        "id": "F1_uaQES-zJY",
        "colab_type": "code",
        "colab": {
          "base_uri": "https://localhost:8080/",
          "height": 136
        },
        "outputId": "3e2ebbb5-236a-4ac7-d2dd-416fff70d3a6"
      },
      "source": [
        "pd.DataFrame(dic1)"
      ],
      "execution_count": 84,
      "outputs": [
        {
          "output_type": "execute_result",
          "data": {
            "text/html": [
              "<div>\n",
              "<style scoped>\n",
              "    .dataframe tbody tr th:only-of-type {\n",
              "        vertical-align: middle;\n",
              "    }\n",
              "\n",
              "    .dataframe tbody tr th {\n",
              "        vertical-align: top;\n",
              "    }\n",
              "\n",
              "    .dataframe thead th {\n",
              "        text-align: right;\n",
              "    }\n",
              "</style>\n",
              "<table border=\"1\" class=\"dataframe\">\n",
              "  <thead>\n",
              "    <tr style=\"text-align: right;\">\n",
              "      <th></th>\n",
              "      <th>ESTADO</th>\n",
              "      <th>SIGLA</th>\n",
              "      <th>CAPITAL</th>\n",
              "    </tr>\n",
              "  </thead>\n",
              "  <tbody>\n",
              "    <tr>\n",
              "      <th>0</th>\n",
              "      <td>Amazonas</td>\n",
              "      <td>AM</td>\n",
              "      <td>Manaus</td>\n",
              "    </tr>\n",
              "    <tr>\n",
              "      <th>1</th>\n",
              "      <td>Rondônia</td>\n",
              "      <td>RO</td>\n",
              "      <td>Porto Velho</td>\n",
              "    </tr>\n",
              "    <tr>\n",
              "      <th>2</th>\n",
              "      <td>Paraná</td>\n",
              "      <td>PR</td>\n",
              "      <td>Cascavél</td>\n",
              "    </tr>\n",
              "  </tbody>\n",
              "</table>\n",
              "</div>"
            ],
            "text/plain": [
              "     ESTADO SIGLA      CAPITAL\n",
              "0  Amazonas    AM       Manaus\n",
              "1  Rondônia    RO  Porto Velho\n",
              "2    Paraná    PR     Cascavél"
            ]
          },
          "metadata": {
            "tags": []
          },
          "execution_count": 84
        }
      ]
    },
    {
      "cell_type": "markdown",
      "metadata": {
        "id": "kIKeIVcn9-Ot",
        "colab_type": "text"
      },
      "source": [
        "### Arquivos CSV"
      ]
    }
  ]
}